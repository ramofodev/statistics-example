{
 "cells": [
  {
   "cell_type": "code",
   "execution_count": 1,
   "metadata": {
    "scrolled": true
   },
   "outputs": [],
   "source": [
    "#install.packages(c('repr','IRdisplay', 'evaluate', 'crayon', 'pbdZMQ', 'devtools', 'uuid', 'digest','ggplot2','reshape2','entropy','quantmod'), repos='https://cran.rstudio.com/')\n",
    "#install.packages(c('caret','curl','dbsca','dplyr','dslabs','e1071','egg','euralet','GGally','ggdedro','ggpubr','glmet','jpeg','MASS','microbechmark','plotrix','plyr','pracma','reshape2','ROCR','tm','zoo','glmnetUtils'),repos='https://cran.rstudio.com/')"
   ]
  },
  {
   "cell_type": "code",
   "execution_count": 2,
   "metadata": {},
   "outputs": [],
   "source": [
    "library(ggplot2)\n",
    "options(repr.plot.height=4,repr.plot.width=6)"
   ]
  },
  {
   "cell_type": "markdown",
   "metadata": {},
   "source": [
    "Cargar los datos en un dataframe llamado: airbnb"
   ]
  },
  {
   "cell_type": "code",
   "execution_count": 3,
   "metadata": {},
   "outputs": [],
   "source": [
    "airbnb<-read.csv('data//airbnb.csv',sep = ',')"
   ]
  },
  {
   "cell_type": "markdown",
   "metadata": {},
   "source": [
    "Mostrar las primeras 6 filas del dataframe"
   ]
  },
  {
   "cell_type": "code",
   "execution_count": 4,
   "metadata": {
    "scrolled": true
   },
   "outputs": [
    {
     "data": {
      "text/html": [
       "<table class=\"dataframe\">\n",
       "<caption>A data.frame: 6 × 13</caption>\n",
       "<thead>\n",
       "\t<tr><th></th><th scope=col>Zipcode</th><th scope=col>Neighbourhood.Cleansed</th><th scope=col>Property.Type</th><th scope=col>Room.Type</th><th scope=col>Accommodates</th><th scope=col>Bathrooms</th><th scope=col>Bedrooms</th><th scope=col>Beds</th><th scope=col>Bed.Type</th><th scope=col>Amenities</th><th scope=col>Square.Feet</th><th scope=col>Price</th><th scope=col>Review.Scores.Rating</th></tr>\n",
       "\t<tr><th></th><th scope=col>&lt;fct&gt;</th><th scope=col>&lt;fct&gt;</th><th scope=col>&lt;fct&gt;</th><th scope=col>&lt;fct&gt;</th><th scope=col>&lt;int&gt;</th><th scope=col>&lt;dbl&gt;</th><th scope=col>&lt;int&gt;</th><th scope=col>&lt;int&gt;</th><th scope=col>&lt;fct&gt;</th><th scope=col>&lt;fct&gt;</th><th scope=col>&lt;int&gt;</th><th scope=col>&lt;int&gt;</th><th scope=col>&lt;int&gt;</th></tr>\n",
       "</thead>\n",
       "<tbody>\n",
       "\t<tr><th scope=row>1</th><td>28004</td><td>Universidad</td><td>Apartment</td><td>Private room   </td><td>2</td><td>2</td><td>1</td><td>1</td><td>Real Bed</td><td>TV,Wireless Internet,Kitchen,Pets allowed,Pets live on this property,Buzzer/wireless intercom,Heating,Suitable for events,Washer,First aid kit,Essentials,Lock on bedroom door,Iron                                                                                                                                                                             </td><td> NA</td><td>35</td><td> NA</td></tr>\n",
       "\t<tr><th scope=row>2</th><td>28004</td><td>Universidad</td><td>Apartment</td><td>Entire home/apt</td><td>6</td><td>1</td><td>3</td><td>5</td><td>Real Bed</td><td>TV,Internet,Wireless Internet,Air conditioning,Kitchen,Indoor fireplace,Heating,Family/kid friendly,Washer,Dryer,Smoke detector,Carbon monoxide detector,Essentials,Shampoo                                                                                                                                                                                     </td><td> NA</td><td>92</td><td> 96</td></tr>\n",
       "\t<tr><th scope=row>3</th><td>28004</td><td>Universidad</td><td>Apartment</td><td>Entire home/apt</td><td>3</td><td>1</td><td>2</td><td>2</td><td>Real Bed</td><td>TV,Internet,Wireless Internet,Air conditioning,Kitchen,Doorman,Heating,Family/kid friendly,Washer,Essentials,Shampoo,Hangers,Hair dryer,Iron,Laptop friendly workspace                                                                                                                                                                                          </td><td> NA</td><td>55</td><td> 91</td></tr>\n",
       "\t<tr><th scope=row>4</th><td>28004</td><td>Universidad</td><td>Loft     </td><td>Entire home/apt</td><td>3</td><td>2</td><td>1</td><td>1</td><td>Real Bed</td><td>TV,Internet,Wireless Internet,Air conditioning,Kitchen,Pets allowed,Breakfast,Elevator in building,Indoor fireplace,Buzzer/wireless intercom,Heating,Washer,Essentials,Shampoo,Hangers,Hair dryer,Iron,Laptop friendly workspace,translation missing: en.hosting_amenity_49,translation missing: en.hosting_amenity_50                                          </td><td> NA</td><td>60</td><td>100</td></tr>\n",
       "\t<tr><th scope=row>5</th><td>28015</td><td>Universidad</td><td>Apartment</td><td>Entire home/apt</td><td>5</td><td>1</td><td>1</td><td>1</td><td>Real Bed</td><td>TV,Wireless Internet,Air conditioning,Kitchen,Smoking allowed,Pets allowed,Elevator in building,Heating,Family/kid friendly,Washer,Essentials,Iron                                                                                                                                                                                                              </td><td>538</td><td>75</td><td> 90</td></tr>\n",
       "\t<tr><th scope=row>6</th><td>28004</td><td>Universidad</td><td>Apartment</td><td>Entire home/apt</td><td>2</td><td>1</td><td>0</td><td>1</td><td>Real Bed</td><td>TV,Cable TV,Internet,Wireless Internet,Air conditioning,Wheelchair accessible,Kitchen,Doorman,Elevator in building,Buzzer/wireless intercom,Heating,Washer,Smoke detector,Carbon monoxide detector,First aid kit,Safety card,Fire extinguisher,Essentials,Shampoo,24-hour check-in,Hangers,Hair dryer,Iron,Laptop friendly workspace,Self Check-In,Doorman Entry</td><td> NA</td><td>55</td><td> 95</td></tr>\n",
       "</tbody>\n",
       "</table>\n"
      ],
      "text/latex": [
       "A data.frame: 6 × 13\n",
       "\\begin{tabular}{r|lllllllllllll}\n",
       "  & Zipcode & Neighbourhood.Cleansed & Property.Type & Room.Type & Accommodates & Bathrooms & Bedrooms & Beds & Bed.Type & Amenities & Square.Feet & Price & Review.Scores.Rating\\\\\n",
       "  & <fct> & <fct> & <fct> & <fct> & <int> & <dbl> & <int> & <int> & <fct> & <fct> & <int> & <int> & <int>\\\\\n",
       "\\hline\n",
       "\t1 & 28004 & Universidad & Apartment & Private room    & 2 & 2 & 1 & 1 & Real Bed & TV,Wireless Internet,Kitchen,Pets allowed,Pets live on this property,Buzzer/wireless intercom,Heating,Suitable for events,Washer,First aid kit,Essentials,Lock on bedroom door,Iron                                                                                                                                                                              &  NA & 35 &  NA\\\\\n",
       "\t2 & 28004 & Universidad & Apartment & Entire home/apt & 6 & 1 & 3 & 5 & Real Bed & TV,Internet,Wireless Internet,Air conditioning,Kitchen,Indoor fireplace,Heating,Family/kid friendly,Washer,Dryer,Smoke detector,Carbon monoxide detector,Essentials,Shampoo                                                                                                                                                                                      &  NA & 92 &  96\\\\\n",
       "\t3 & 28004 & Universidad & Apartment & Entire home/apt & 3 & 1 & 2 & 2 & Real Bed & TV,Internet,Wireless Internet,Air conditioning,Kitchen,Doorman,Heating,Family/kid friendly,Washer,Essentials,Shampoo,Hangers,Hair dryer,Iron,Laptop friendly workspace                                                                                                                                                                                           &  NA & 55 &  91\\\\\n",
       "\t4 & 28004 & Universidad & Loft      & Entire home/apt & 3 & 2 & 1 & 1 & Real Bed & TV,Internet,Wireless Internet,Air conditioning,Kitchen,Pets allowed,Breakfast,Elevator in building,Indoor fireplace,Buzzer/wireless intercom,Heating,Washer,Essentials,Shampoo,Hangers,Hair dryer,Iron,Laptop friendly workspace,translation missing: en.hosting\\_amenity\\_49,translation missing: en.hosting\\_amenity\\_50                                           &  NA & 60 & 100\\\\\n",
       "\t5 & 28015 & Universidad & Apartment & Entire home/apt & 5 & 1 & 1 & 1 & Real Bed & TV,Wireless Internet,Air conditioning,Kitchen,Smoking allowed,Pets allowed,Elevator in building,Heating,Family/kid friendly,Washer,Essentials,Iron                                                                                                                                                                                                               & 538 & 75 &  90\\\\\n",
       "\t6 & 28004 & Universidad & Apartment & Entire home/apt & 2 & 1 & 0 & 1 & Real Bed & TV,Cable TV,Internet,Wireless Internet,Air conditioning,Wheelchair accessible,Kitchen,Doorman,Elevator in building,Buzzer/wireless intercom,Heating,Washer,Smoke detector,Carbon monoxide detector,First aid kit,Safety card,Fire extinguisher,Essentials,Shampoo,24-hour check-in,Hangers,Hair dryer,Iron,Laptop friendly workspace,Self Check-In,Doorman Entry &  NA & 55 &  95\\\\\n",
       "\\end{tabular}\n"
      ],
      "text/markdown": [
       "\n",
       "A data.frame: 6 × 13\n",
       "\n",
       "| <!--/--> | Zipcode &lt;fct&gt; | Neighbourhood.Cleansed &lt;fct&gt; | Property.Type &lt;fct&gt; | Room.Type &lt;fct&gt; | Accommodates &lt;int&gt; | Bathrooms &lt;dbl&gt; | Bedrooms &lt;int&gt; | Beds &lt;int&gt; | Bed.Type &lt;fct&gt; | Amenities &lt;fct&gt; | Square.Feet &lt;int&gt; | Price &lt;int&gt; | Review.Scores.Rating &lt;int&gt; |\n",
       "|---|---|---|---|---|---|---|---|---|---|---|---|---|---|\n",
       "| 1 | 28004 | Universidad | Apartment | Private room    | 2 | 2 | 1 | 1 | Real Bed | TV,Wireless Internet,Kitchen,Pets allowed,Pets live on this property,Buzzer/wireless intercom,Heating,Suitable for events,Washer,First aid kit,Essentials,Lock on bedroom door,Iron                                                                                                                                                                              |  NA | 35 |  NA |\n",
       "| 2 | 28004 | Universidad | Apartment | Entire home/apt | 6 | 1 | 3 | 5 | Real Bed | TV,Internet,Wireless Internet,Air conditioning,Kitchen,Indoor fireplace,Heating,Family/kid friendly,Washer,Dryer,Smoke detector,Carbon monoxide detector,Essentials,Shampoo                                                                                                                                                                                      |  NA | 92 |  96 |\n",
       "| 3 | 28004 | Universidad | Apartment | Entire home/apt | 3 | 1 | 2 | 2 | Real Bed | TV,Internet,Wireless Internet,Air conditioning,Kitchen,Doorman,Heating,Family/kid friendly,Washer,Essentials,Shampoo,Hangers,Hair dryer,Iron,Laptop friendly workspace                                                                                                                                                                                           |  NA | 55 |  91 |\n",
       "| 4 | 28004 | Universidad | Loft      | Entire home/apt | 3 | 2 | 1 | 1 | Real Bed | TV,Internet,Wireless Internet,Air conditioning,Kitchen,Pets allowed,Breakfast,Elevator in building,Indoor fireplace,Buzzer/wireless intercom,Heating,Washer,Essentials,Shampoo,Hangers,Hair dryer,Iron,Laptop friendly workspace,translation missing: en.hosting_amenity_49,translation missing: en.hosting_amenity_50                                           |  NA | 60 | 100 |\n",
       "| 5 | 28015 | Universidad | Apartment | Entire home/apt | 5 | 1 | 1 | 1 | Real Bed | TV,Wireless Internet,Air conditioning,Kitchen,Smoking allowed,Pets allowed,Elevator in building,Heating,Family/kid friendly,Washer,Essentials,Iron                                                                                                                                                                                                               | 538 | 75 |  90 |\n",
       "| 6 | 28004 | Universidad | Apartment | Entire home/apt | 2 | 1 | 0 | 1 | Real Bed | TV,Cable TV,Internet,Wireless Internet,Air conditioning,Wheelchair accessible,Kitchen,Doorman,Elevator in building,Buzzer/wireless intercom,Heating,Washer,Smoke detector,Carbon monoxide detector,First aid kit,Safety card,Fire extinguisher,Essentials,Shampoo,24-hour check-in,Hangers,Hair dryer,Iron,Laptop friendly workspace,Self Check-In,Doorman Entry |  NA | 55 |  95 |\n",
       "\n"
      ],
      "text/plain": [
       "  Zipcode Neighbourhood.Cleansed Property.Type Room.Type       Accommodates\n",
       "1 28004   Universidad            Apartment     Private room    2           \n",
       "2 28004   Universidad            Apartment     Entire home/apt 6           \n",
       "3 28004   Universidad            Apartment     Entire home/apt 3           \n",
       "4 28004   Universidad            Loft          Entire home/apt 3           \n",
       "5 28015   Universidad            Apartment     Entire home/apt 5           \n",
       "6 28004   Universidad            Apartment     Entire home/apt 2           \n",
       "  Bathrooms Bedrooms Beds Bed.Type\n",
       "1 2         1        1    Real Bed\n",
       "2 1         3        5    Real Bed\n",
       "3 1         2        2    Real Bed\n",
       "4 2         1        1    Real Bed\n",
       "5 1         1        1    Real Bed\n",
       "6 1         0        1    Real Bed\n",
       "  Amenities                                                                                                                                                                                                                                                                                                                                                       \n",
       "1 TV,Wireless Internet,Kitchen,Pets allowed,Pets live on this property,Buzzer/wireless intercom,Heating,Suitable for events,Washer,First aid kit,Essentials,Lock on bedroom door,Iron                                                                                                                                                                             \n",
       "2 TV,Internet,Wireless Internet,Air conditioning,Kitchen,Indoor fireplace,Heating,Family/kid friendly,Washer,Dryer,Smoke detector,Carbon monoxide detector,Essentials,Shampoo                                                                                                                                                                                     \n",
       "3 TV,Internet,Wireless Internet,Air conditioning,Kitchen,Doorman,Heating,Family/kid friendly,Washer,Essentials,Shampoo,Hangers,Hair dryer,Iron,Laptop friendly workspace                                                                                                                                                                                          \n",
       "4 TV,Internet,Wireless Internet,Air conditioning,Kitchen,Pets allowed,Breakfast,Elevator in building,Indoor fireplace,Buzzer/wireless intercom,Heating,Washer,Essentials,Shampoo,Hangers,Hair dryer,Iron,Laptop friendly workspace,translation missing: en.hosting_amenity_49,translation missing: en.hosting_amenity_50                                          \n",
       "5 TV,Wireless Internet,Air conditioning,Kitchen,Smoking allowed,Pets allowed,Elevator in building,Heating,Family/kid friendly,Washer,Essentials,Iron                                                                                                                                                                                                              \n",
       "6 TV,Cable TV,Internet,Wireless Internet,Air conditioning,Wheelchair accessible,Kitchen,Doorman,Elevator in building,Buzzer/wireless intercom,Heating,Washer,Smoke detector,Carbon monoxide detector,First aid kit,Safety card,Fire extinguisher,Essentials,Shampoo,24-hour check-in,Hangers,Hair dryer,Iron,Laptop friendly workspace,Self Check-In,Doorman Entry\n",
       "  Square.Feet Price Review.Scores.Rating\n",
       "1  NA         35     NA                 \n",
       "2  NA         92     96                 \n",
       "3  NA         55     91                 \n",
       "4  NA         60    100                 \n",
       "5 538         75     90                 \n",
       "6  NA         55     95                 "
      ]
     },
     "metadata": {},
     "output_type": "display_data"
    }
   ],
   "source": [
    "head(airbnb)"
   ]
  },
  {
   "cell_type": "markdown",
   "metadata": {},
   "source": [
    "Renombrar las columnas de la siguiente forma:\n",
    "\n",
    "| Nombre original | Nuevo nombre |\n",
    "| - | - |\n",
    "| Zipcode | CodigoPostal |\n",
    "| Neighbourhood.Cleansed | Barrio |\n",
    "| Property.Type\t| TipoPropiedad |\n",
    "| Room.Type | TipoAlquiler |\n",
    "| Accommodates | MaxOcupantes |\n",
    "| Bathrooms\t| NumBanyos |\n",
    "| Bedrooms\t| NumDormitorios |\n",
    "| Beds\t|  NumCamas |\n",
    "| Bed.Type\t| TipoCama |\n",
    "| Amenities | Comodidades |\n",
    "| Square.Feet | PiesCuadrados |\n",
    "| Price\t| Precio |\n",
    "| Review.Scores.Rating | Puntuacion |"
   ]
  },
  {
   "cell_type": "code",
   "execution_count": 5,
   "metadata": {},
   "outputs": [],
   "source": [
    "newnames<-c(\"CodigoPostal\",\"Barrio\",\"TipoPropiedad\",\"TipoAlquiler\",\"MaxOcupantes\",\"NumBanyos\",\n",
    "\"NumDormitorios\",\"NumCamas\",\"TipoCama\",\"Comodidades\",\"PiesCuadrados\",\"Precio\",\"Puntuacion\")"
   ]
  },
  {
   "cell_type": "code",
   "execution_count": 6,
   "metadata": {},
   "outputs": [],
   "source": [
    "colnames(airbnb) <- newnames"
   ]
  },
  {
   "cell_type": "code",
   "execution_count": 7,
   "metadata": {},
   "outputs": [
    {
     "data": {
      "text/html": [
       "<table class=\"dataframe\">\n",
       "<caption>A data.frame: 6 × 13</caption>\n",
       "<thead>\n",
       "\t<tr><th></th><th scope=col>CodigoPostal</th><th scope=col>Barrio</th><th scope=col>TipoPropiedad</th><th scope=col>TipoAlquiler</th><th scope=col>MaxOcupantes</th><th scope=col>NumBanyos</th><th scope=col>NumDormitorios</th><th scope=col>NumCamas</th><th scope=col>TipoCama</th><th scope=col>Comodidades</th><th scope=col>PiesCuadrados</th><th scope=col>Precio</th><th scope=col>Puntuacion</th></tr>\n",
       "\t<tr><th></th><th scope=col>&lt;fct&gt;</th><th scope=col>&lt;fct&gt;</th><th scope=col>&lt;fct&gt;</th><th scope=col>&lt;fct&gt;</th><th scope=col>&lt;int&gt;</th><th scope=col>&lt;dbl&gt;</th><th scope=col>&lt;int&gt;</th><th scope=col>&lt;int&gt;</th><th scope=col>&lt;fct&gt;</th><th scope=col>&lt;fct&gt;</th><th scope=col>&lt;int&gt;</th><th scope=col>&lt;int&gt;</th><th scope=col>&lt;int&gt;</th></tr>\n",
       "</thead>\n",
       "<tbody>\n",
       "\t<tr><th scope=row>1</th><td>28004</td><td>Universidad</td><td>Apartment</td><td>Private room   </td><td>2</td><td>2</td><td>1</td><td>1</td><td>Real Bed</td><td>TV,Wireless Internet,Kitchen,Pets allowed,Pets live on this property,Buzzer/wireless intercom,Heating,Suitable for events,Washer,First aid kit,Essentials,Lock on bedroom door,Iron                                                                                                                                                                             </td><td> NA</td><td>35</td><td> NA</td></tr>\n",
       "\t<tr><th scope=row>2</th><td>28004</td><td>Universidad</td><td>Apartment</td><td>Entire home/apt</td><td>6</td><td>1</td><td>3</td><td>5</td><td>Real Bed</td><td>TV,Internet,Wireless Internet,Air conditioning,Kitchen,Indoor fireplace,Heating,Family/kid friendly,Washer,Dryer,Smoke detector,Carbon monoxide detector,Essentials,Shampoo                                                                                                                                                                                     </td><td> NA</td><td>92</td><td> 96</td></tr>\n",
       "\t<tr><th scope=row>3</th><td>28004</td><td>Universidad</td><td>Apartment</td><td>Entire home/apt</td><td>3</td><td>1</td><td>2</td><td>2</td><td>Real Bed</td><td>TV,Internet,Wireless Internet,Air conditioning,Kitchen,Doorman,Heating,Family/kid friendly,Washer,Essentials,Shampoo,Hangers,Hair dryer,Iron,Laptop friendly workspace                                                                                                                                                                                          </td><td> NA</td><td>55</td><td> 91</td></tr>\n",
       "\t<tr><th scope=row>4</th><td>28004</td><td>Universidad</td><td>Loft     </td><td>Entire home/apt</td><td>3</td><td>2</td><td>1</td><td>1</td><td>Real Bed</td><td>TV,Internet,Wireless Internet,Air conditioning,Kitchen,Pets allowed,Breakfast,Elevator in building,Indoor fireplace,Buzzer/wireless intercom,Heating,Washer,Essentials,Shampoo,Hangers,Hair dryer,Iron,Laptop friendly workspace,translation missing: en.hosting_amenity_49,translation missing: en.hosting_amenity_50                                          </td><td> NA</td><td>60</td><td>100</td></tr>\n",
       "\t<tr><th scope=row>5</th><td>28015</td><td>Universidad</td><td>Apartment</td><td>Entire home/apt</td><td>5</td><td>1</td><td>1</td><td>1</td><td>Real Bed</td><td>TV,Wireless Internet,Air conditioning,Kitchen,Smoking allowed,Pets allowed,Elevator in building,Heating,Family/kid friendly,Washer,Essentials,Iron                                                                                                                                                                                                              </td><td>538</td><td>75</td><td> 90</td></tr>\n",
       "\t<tr><th scope=row>6</th><td>28004</td><td>Universidad</td><td>Apartment</td><td>Entire home/apt</td><td>2</td><td>1</td><td>0</td><td>1</td><td>Real Bed</td><td>TV,Cable TV,Internet,Wireless Internet,Air conditioning,Wheelchair accessible,Kitchen,Doorman,Elevator in building,Buzzer/wireless intercom,Heating,Washer,Smoke detector,Carbon monoxide detector,First aid kit,Safety card,Fire extinguisher,Essentials,Shampoo,24-hour check-in,Hangers,Hair dryer,Iron,Laptop friendly workspace,Self Check-In,Doorman Entry</td><td> NA</td><td>55</td><td> 95</td></tr>\n",
       "</tbody>\n",
       "</table>\n"
      ],
      "text/latex": [
       "A data.frame: 6 × 13\n",
       "\\begin{tabular}{r|lllllllllllll}\n",
       "  & CodigoPostal & Barrio & TipoPropiedad & TipoAlquiler & MaxOcupantes & NumBanyos & NumDormitorios & NumCamas & TipoCama & Comodidades & PiesCuadrados & Precio & Puntuacion\\\\\n",
       "  & <fct> & <fct> & <fct> & <fct> & <int> & <dbl> & <int> & <int> & <fct> & <fct> & <int> & <int> & <int>\\\\\n",
       "\\hline\n",
       "\t1 & 28004 & Universidad & Apartment & Private room    & 2 & 2 & 1 & 1 & Real Bed & TV,Wireless Internet,Kitchen,Pets allowed,Pets live on this property,Buzzer/wireless intercom,Heating,Suitable for events,Washer,First aid kit,Essentials,Lock on bedroom door,Iron                                                                                                                                                                              &  NA & 35 &  NA\\\\\n",
       "\t2 & 28004 & Universidad & Apartment & Entire home/apt & 6 & 1 & 3 & 5 & Real Bed & TV,Internet,Wireless Internet,Air conditioning,Kitchen,Indoor fireplace,Heating,Family/kid friendly,Washer,Dryer,Smoke detector,Carbon monoxide detector,Essentials,Shampoo                                                                                                                                                                                      &  NA & 92 &  96\\\\\n",
       "\t3 & 28004 & Universidad & Apartment & Entire home/apt & 3 & 1 & 2 & 2 & Real Bed & TV,Internet,Wireless Internet,Air conditioning,Kitchen,Doorman,Heating,Family/kid friendly,Washer,Essentials,Shampoo,Hangers,Hair dryer,Iron,Laptop friendly workspace                                                                                                                                                                                           &  NA & 55 &  91\\\\\n",
       "\t4 & 28004 & Universidad & Loft      & Entire home/apt & 3 & 2 & 1 & 1 & Real Bed & TV,Internet,Wireless Internet,Air conditioning,Kitchen,Pets allowed,Breakfast,Elevator in building,Indoor fireplace,Buzzer/wireless intercom,Heating,Washer,Essentials,Shampoo,Hangers,Hair dryer,Iron,Laptop friendly workspace,translation missing: en.hosting\\_amenity\\_49,translation missing: en.hosting\\_amenity\\_50                                           &  NA & 60 & 100\\\\\n",
       "\t5 & 28015 & Universidad & Apartment & Entire home/apt & 5 & 1 & 1 & 1 & Real Bed & TV,Wireless Internet,Air conditioning,Kitchen,Smoking allowed,Pets allowed,Elevator in building,Heating,Family/kid friendly,Washer,Essentials,Iron                                                                                                                                                                                                               & 538 & 75 &  90\\\\\n",
       "\t6 & 28004 & Universidad & Apartment & Entire home/apt & 2 & 1 & 0 & 1 & Real Bed & TV,Cable TV,Internet,Wireless Internet,Air conditioning,Wheelchair accessible,Kitchen,Doorman,Elevator in building,Buzzer/wireless intercom,Heating,Washer,Smoke detector,Carbon monoxide detector,First aid kit,Safety card,Fire extinguisher,Essentials,Shampoo,24-hour check-in,Hangers,Hair dryer,Iron,Laptop friendly workspace,Self Check-In,Doorman Entry &  NA & 55 &  95\\\\\n",
       "\\end{tabular}\n"
      ],
      "text/markdown": [
       "\n",
       "A data.frame: 6 × 13\n",
       "\n",
       "| <!--/--> | CodigoPostal &lt;fct&gt; | Barrio &lt;fct&gt; | TipoPropiedad &lt;fct&gt; | TipoAlquiler &lt;fct&gt; | MaxOcupantes &lt;int&gt; | NumBanyos &lt;dbl&gt; | NumDormitorios &lt;int&gt; | NumCamas &lt;int&gt; | TipoCama &lt;fct&gt; | Comodidades &lt;fct&gt; | PiesCuadrados &lt;int&gt; | Precio &lt;int&gt; | Puntuacion &lt;int&gt; |\n",
       "|---|---|---|---|---|---|---|---|---|---|---|---|---|---|\n",
       "| 1 | 28004 | Universidad | Apartment | Private room    | 2 | 2 | 1 | 1 | Real Bed | TV,Wireless Internet,Kitchen,Pets allowed,Pets live on this property,Buzzer/wireless intercom,Heating,Suitable for events,Washer,First aid kit,Essentials,Lock on bedroom door,Iron                                                                                                                                                                              |  NA | 35 |  NA |\n",
       "| 2 | 28004 | Universidad | Apartment | Entire home/apt | 6 | 1 | 3 | 5 | Real Bed | TV,Internet,Wireless Internet,Air conditioning,Kitchen,Indoor fireplace,Heating,Family/kid friendly,Washer,Dryer,Smoke detector,Carbon monoxide detector,Essentials,Shampoo                                                                                                                                                                                      |  NA | 92 |  96 |\n",
       "| 3 | 28004 | Universidad | Apartment | Entire home/apt | 3 | 1 | 2 | 2 | Real Bed | TV,Internet,Wireless Internet,Air conditioning,Kitchen,Doorman,Heating,Family/kid friendly,Washer,Essentials,Shampoo,Hangers,Hair dryer,Iron,Laptop friendly workspace                                                                                                                                                                                           |  NA | 55 |  91 |\n",
       "| 4 | 28004 | Universidad | Loft      | Entire home/apt | 3 | 2 | 1 | 1 | Real Bed | TV,Internet,Wireless Internet,Air conditioning,Kitchen,Pets allowed,Breakfast,Elevator in building,Indoor fireplace,Buzzer/wireless intercom,Heating,Washer,Essentials,Shampoo,Hangers,Hair dryer,Iron,Laptop friendly workspace,translation missing: en.hosting_amenity_49,translation missing: en.hosting_amenity_50                                           |  NA | 60 | 100 |\n",
       "| 5 | 28015 | Universidad | Apartment | Entire home/apt | 5 | 1 | 1 | 1 | Real Bed | TV,Wireless Internet,Air conditioning,Kitchen,Smoking allowed,Pets allowed,Elevator in building,Heating,Family/kid friendly,Washer,Essentials,Iron                                                                                                                                                                                                               | 538 | 75 |  90 |\n",
       "| 6 | 28004 | Universidad | Apartment | Entire home/apt | 2 | 1 | 0 | 1 | Real Bed | TV,Cable TV,Internet,Wireless Internet,Air conditioning,Wheelchair accessible,Kitchen,Doorman,Elevator in building,Buzzer/wireless intercom,Heating,Washer,Smoke detector,Carbon monoxide detector,First aid kit,Safety card,Fire extinguisher,Essentials,Shampoo,24-hour check-in,Hangers,Hair dryer,Iron,Laptop friendly workspace,Self Check-In,Doorman Entry |  NA | 55 |  95 |\n",
       "\n"
      ],
      "text/plain": [
       "  CodigoPostal Barrio      TipoPropiedad TipoAlquiler    MaxOcupantes NumBanyos\n",
       "1 28004        Universidad Apartment     Private room    2            2        \n",
       "2 28004        Universidad Apartment     Entire home/apt 6            1        \n",
       "3 28004        Universidad Apartment     Entire home/apt 3            1        \n",
       "4 28004        Universidad Loft          Entire home/apt 3            2        \n",
       "5 28015        Universidad Apartment     Entire home/apt 5            1        \n",
       "6 28004        Universidad Apartment     Entire home/apt 2            1        \n",
       "  NumDormitorios NumCamas TipoCama\n",
       "1 1              1        Real Bed\n",
       "2 3              5        Real Bed\n",
       "3 2              2        Real Bed\n",
       "4 1              1        Real Bed\n",
       "5 1              1        Real Bed\n",
       "6 0              1        Real Bed\n",
       "  Comodidades                                                                                                                                                                                                                                                                                                                                                     \n",
       "1 TV,Wireless Internet,Kitchen,Pets allowed,Pets live on this property,Buzzer/wireless intercom,Heating,Suitable for events,Washer,First aid kit,Essentials,Lock on bedroom door,Iron                                                                                                                                                                             \n",
       "2 TV,Internet,Wireless Internet,Air conditioning,Kitchen,Indoor fireplace,Heating,Family/kid friendly,Washer,Dryer,Smoke detector,Carbon monoxide detector,Essentials,Shampoo                                                                                                                                                                                     \n",
       "3 TV,Internet,Wireless Internet,Air conditioning,Kitchen,Doorman,Heating,Family/kid friendly,Washer,Essentials,Shampoo,Hangers,Hair dryer,Iron,Laptop friendly workspace                                                                                                                                                                                          \n",
       "4 TV,Internet,Wireless Internet,Air conditioning,Kitchen,Pets allowed,Breakfast,Elevator in building,Indoor fireplace,Buzzer/wireless intercom,Heating,Washer,Essentials,Shampoo,Hangers,Hair dryer,Iron,Laptop friendly workspace,translation missing: en.hosting_amenity_49,translation missing: en.hosting_amenity_50                                          \n",
       "5 TV,Wireless Internet,Air conditioning,Kitchen,Smoking allowed,Pets allowed,Elevator in building,Heating,Family/kid friendly,Washer,Essentials,Iron                                                                                                                                                                                                              \n",
       "6 TV,Cable TV,Internet,Wireless Internet,Air conditioning,Wheelchair accessible,Kitchen,Doorman,Elevator in building,Buzzer/wireless intercom,Heating,Washer,Smoke detector,Carbon monoxide detector,First aid kit,Safety card,Fire extinguisher,Essentials,Shampoo,24-hour check-in,Hangers,Hair dryer,Iron,Laptop friendly workspace,Self Check-In,Doorman Entry\n",
       "  PiesCuadrados Precio Puntuacion\n",
       "1  NA           35      NA       \n",
       "2  NA           92      96       \n",
       "3  NA           55      91       \n",
       "4  NA           60     100       \n",
       "5 538           75      90       \n",
       "6  NA           55      95       "
      ]
     },
     "metadata": {},
     "output_type": "display_data"
    }
   ],
   "source": [
    "#Check de control\n",
    "head(airbnb)"
   ]
  },
  {
   "cell_type": "markdown",
   "metadata": {},
   "source": [
    "Crea una nueva columna llamada MetrosCuadrados a partir de la columna PiesCuadrados.\n",
    "\n",
    "Ayuda: 1 pie cuadrado son 0,092903 metros cuadrdados"
   ]
  },
  {
   "cell_type": "code",
   "execution_count": 8,
   "metadata": {},
   "outputs": [],
   "source": [
    "#mutate(airbnb,MetrosCuadrados = PiesCuadrados * 0,092903) En teoría está bien pero da error por versión\n",
    "airbnb$MetrosCuadrados = airbnb$PiesCuadrados * 0.092903"
   ]
  },
  {
   "cell_type": "code",
   "execution_count": 9,
   "metadata": {},
   "outputs": [
    {
     "data": {
      "text/html": [
       "<table class=\"dataframe\">\n",
       "<caption>A data.frame: 6 × 14</caption>\n",
       "<thead>\n",
       "\t<tr><th></th><th scope=col>CodigoPostal</th><th scope=col>Barrio</th><th scope=col>TipoPropiedad</th><th scope=col>TipoAlquiler</th><th scope=col>MaxOcupantes</th><th scope=col>NumBanyos</th><th scope=col>NumDormitorios</th><th scope=col>NumCamas</th><th scope=col>TipoCama</th><th scope=col>Comodidades</th><th scope=col>PiesCuadrados</th><th scope=col>Precio</th><th scope=col>Puntuacion</th><th scope=col>MetrosCuadrados</th></tr>\n",
       "\t<tr><th></th><th scope=col>&lt;fct&gt;</th><th scope=col>&lt;fct&gt;</th><th scope=col>&lt;fct&gt;</th><th scope=col>&lt;fct&gt;</th><th scope=col>&lt;int&gt;</th><th scope=col>&lt;dbl&gt;</th><th scope=col>&lt;int&gt;</th><th scope=col>&lt;int&gt;</th><th scope=col>&lt;fct&gt;</th><th scope=col>&lt;fct&gt;</th><th scope=col>&lt;int&gt;</th><th scope=col>&lt;int&gt;</th><th scope=col>&lt;int&gt;</th><th scope=col>&lt;dbl&gt;</th></tr>\n",
       "</thead>\n",
       "<tbody>\n",
       "\t<tr><th scope=row>1</th><td>28004</td><td>Universidad</td><td>Apartment</td><td>Private room   </td><td>2</td><td>2</td><td>1</td><td>1</td><td>Real Bed</td><td>TV,Wireless Internet,Kitchen,Pets allowed,Pets live on this property,Buzzer/wireless intercom,Heating,Suitable for events,Washer,First aid kit,Essentials,Lock on bedroom door,Iron                                                                                                                                                                             </td><td> NA</td><td>35</td><td> NA</td><td>      NA</td></tr>\n",
       "\t<tr><th scope=row>2</th><td>28004</td><td>Universidad</td><td>Apartment</td><td>Entire home/apt</td><td>6</td><td>1</td><td>3</td><td>5</td><td>Real Bed</td><td>TV,Internet,Wireless Internet,Air conditioning,Kitchen,Indoor fireplace,Heating,Family/kid friendly,Washer,Dryer,Smoke detector,Carbon monoxide detector,Essentials,Shampoo                                                                                                                                                                                     </td><td> NA</td><td>92</td><td> 96</td><td>      NA</td></tr>\n",
       "\t<tr><th scope=row>3</th><td>28004</td><td>Universidad</td><td>Apartment</td><td>Entire home/apt</td><td>3</td><td>1</td><td>2</td><td>2</td><td>Real Bed</td><td>TV,Internet,Wireless Internet,Air conditioning,Kitchen,Doorman,Heating,Family/kid friendly,Washer,Essentials,Shampoo,Hangers,Hair dryer,Iron,Laptop friendly workspace                                                                                                                                                                                          </td><td> NA</td><td>55</td><td> 91</td><td>      NA</td></tr>\n",
       "\t<tr><th scope=row>4</th><td>28004</td><td>Universidad</td><td>Loft     </td><td>Entire home/apt</td><td>3</td><td>2</td><td>1</td><td>1</td><td>Real Bed</td><td>TV,Internet,Wireless Internet,Air conditioning,Kitchen,Pets allowed,Breakfast,Elevator in building,Indoor fireplace,Buzzer/wireless intercom,Heating,Washer,Essentials,Shampoo,Hangers,Hair dryer,Iron,Laptop friendly workspace,translation missing: en.hosting_amenity_49,translation missing: en.hosting_amenity_50                                          </td><td> NA</td><td>60</td><td>100</td><td>      NA</td></tr>\n",
       "\t<tr><th scope=row>5</th><td>28015</td><td>Universidad</td><td>Apartment</td><td>Entire home/apt</td><td>5</td><td>1</td><td>1</td><td>1</td><td>Real Bed</td><td>TV,Wireless Internet,Air conditioning,Kitchen,Smoking allowed,Pets allowed,Elevator in building,Heating,Family/kid friendly,Washer,Essentials,Iron                                                                                                                                                                                                              </td><td>538</td><td>75</td><td> 90</td><td>49.98181</td></tr>\n",
       "\t<tr><th scope=row>6</th><td>28004</td><td>Universidad</td><td>Apartment</td><td>Entire home/apt</td><td>2</td><td>1</td><td>0</td><td>1</td><td>Real Bed</td><td>TV,Cable TV,Internet,Wireless Internet,Air conditioning,Wheelchair accessible,Kitchen,Doorman,Elevator in building,Buzzer/wireless intercom,Heating,Washer,Smoke detector,Carbon monoxide detector,First aid kit,Safety card,Fire extinguisher,Essentials,Shampoo,24-hour check-in,Hangers,Hair dryer,Iron,Laptop friendly workspace,Self Check-In,Doorman Entry</td><td> NA</td><td>55</td><td> 95</td><td>      NA</td></tr>\n",
       "</tbody>\n",
       "</table>\n"
      ],
      "text/latex": [
       "A data.frame: 6 × 14\n",
       "\\begin{tabular}{r|llllllllllllll}\n",
       "  & CodigoPostal & Barrio & TipoPropiedad & TipoAlquiler & MaxOcupantes & NumBanyos & NumDormitorios & NumCamas & TipoCama & Comodidades & PiesCuadrados & Precio & Puntuacion & MetrosCuadrados\\\\\n",
       "  & <fct> & <fct> & <fct> & <fct> & <int> & <dbl> & <int> & <int> & <fct> & <fct> & <int> & <int> & <int> & <dbl>\\\\\n",
       "\\hline\n",
       "\t1 & 28004 & Universidad & Apartment & Private room    & 2 & 2 & 1 & 1 & Real Bed & TV,Wireless Internet,Kitchen,Pets allowed,Pets live on this property,Buzzer/wireless intercom,Heating,Suitable for events,Washer,First aid kit,Essentials,Lock on bedroom door,Iron                                                                                                                                                                              &  NA & 35 &  NA &       NA\\\\\n",
       "\t2 & 28004 & Universidad & Apartment & Entire home/apt & 6 & 1 & 3 & 5 & Real Bed & TV,Internet,Wireless Internet,Air conditioning,Kitchen,Indoor fireplace,Heating,Family/kid friendly,Washer,Dryer,Smoke detector,Carbon monoxide detector,Essentials,Shampoo                                                                                                                                                                                      &  NA & 92 &  96 &       NA\\\\\n",
       "\t3 & 28004 & Universidad & Apartment & Entire home/apt & 3 & 1 & 2 & 2 & Real Bed & TV,Internet,Wireless Internet,Air conditioning,Kitchen,Doorman,Heating,Family/kid friendly,Washer,Essentials,Shampoo,Hangers,Hair dryer,Iron,Laptop friendly workspace                                                                                                                                                                                           &  NA & 55 &  91 &       NA\\\\\n",
       "\t4 & 28004 & Universidad & Loft      & Entire home/apt & 3 & 2 & 1 & 1 & Real Bed & TV,Internet,Wireless Internet,Air conditioning,Kitchen,Pets allowed,Breakfast,Elevator in building,Indoor fireplace,Buzzer/wireless intercom,Heating,Washer,Essentials,Shampoo,Hangers,Hair dryer,Iron,Laptop friendly workspace,translation missing: en.hosting\\_amenity\\_49,translation missing: en.hosting\\_amenity\\_50                                           &  NA & 60 & 100 &       NA\\\\\n",
       "\t5 & 28015 & Universidad & Apartment & Entire home/apt & 5 & 1 & 1 & 1 & Real Bed & TV,Wireless Internet,Air conditioning,Kitchen,Smoking allowed,Pets allowed,Elevator in building,Heating,Family/kid friendly,Washer,Essentials,Iron                                                                                                                                                                                                               & 538 & 75 &  90 & 49.98181\\\\\n",
       "\t6 & 28004 & Universidad & Apartment & Entire home/apt & 2 & 1 & 0 & 1 & Real Bed & TV,Cable TV,Internet,Wireless Internet,Air conditioning,Wheelchair accessible,Kitchen,Doorman,Elevator in building,Buzzer/wireless intercom,Heating,Washer,Smoke detector,Carbon monoxide detector,First aid kit,Safety card,Fire extinguisher,Essentials,Shampoo,24-hour check-in,Hangers,Hair dryer,Iron,Laptop friendly workspace,Self Check-In,Doorman Entry &  NA & 55 &  95 &       NA\\\\\n",
       "\\end{tabular}\n"
      ],
      "text/markdown": [
       "\n",
       "A data.frame: 6 × 14\n",
       "\n",
       "| <!--/--> | CodigoPostal &lt;fct&gt; | Barrio &lt;fct&gt; | TipoPropiedad &lt;fct&gt; | TipoAlquiler &lt;fct&gt; | MaxOcupantes &lt;int&gt; | NumBanyos &lt;dbl&gt; | NumDormitorios &lt;int&gt; | NumCamas &lt;int&gt; | TipoCama &lt;fct&gt; | Comodidades &lt;fct&gt; | PiesCuadrados &lt;int&gt; | Precio &lt;int&gt; | Puntuacion &lt;int&gt; | MetrosCuadrados &lt;dbl&gt; |\n",
       "|---|---|---|---|---|---|---|---|---|---|---|---|---|---|---|\n",
       "| 1 | 28004 | Universidad | Apartment | Private room    | 2 | 2 | 1 | 1 | Real Bed | TV,Wireless Internet,Kitchen,Pets allowed,Pets live on this property,Buzzer/wireless intercom,Heating,Suitable for events,Washer,First aid kit,Essentials,Lock on bedroom door,Iron                                                                                                                                                                              |  NA | 35 |  NA |       NA |\n",
       "| 2 | 28004 | Universidad | Apartment | Entire home/apt | 6 | 1 | 3 | 5 | Real Bed | TV,Internet,Wireless Internet,Air conditioning,Kitchen,Indoor fireplace,Heating,Family/kid friendly,Washer,Dryer,Smoke detector,Carbon monoxide detector,Essentials,Shampoo                                                                                                                                                                                      |  NA | 92 |  96 |       NA |\n",
       "| 3 | 28004 | Universidad | Apartment | Entire home/apt | 3 | 1 | 2 | 2 | Real Bed | TV,Internet,Wireless Internet,Air conditioning,Kitchen,Doorman,Heating,Family/kid friendly,Washer,Essentials,Shampoo,Hangers,Hair dryer,Iron,Laptop friendly workspace                                                                                                                                                                                           |  NA | 55 |  91 |       NA |\n",
       "| 4 | 28004 | Universidad | Loft      | Entire home/apt | 3 | 2 | 1 | 1 | Real Bed | TV,Internet,Wireless Internet,Air conditioning,Kitchen,Pets allowed,Breakfast,Elevator in building,Indoor fireplace,Buzzer/wireless intercom,Heating,Washer,Essentials,Shampoo,Hangers,Hair dryer,Iron,Laptop friendly workspace,translation missing: en.hosting_amenity_49,translation missing: en.hosting_amenity_50                                           |  NA | 60 | 100 |       NA |\n",
       "| 5 | 28015 | Universidad | Apartment | Entire home/apt | 5 | 1 | 1 | 1 | Real Bed | TV,Wireless Internet,Air conditioning,Kitchen,Smoking allowed,Pets allowed,Elevator in building,Heating,Family/kid friendly,Washer,Essentials,Iron                                                                                                                                                                                                               | 538 | 75 |  90 | 49.98181 |\n",
       "| 6 | 28004 | Universidad | Apartment | Entire home/apt | 2 | 1 | 0 | 1 | Real Bed | TV,Cable TV,Internet,Wireless Internet,Air conditioning,Wheelchair accessible,Kitchen,Doorman,Elevator in building,Buzzer/wireless intercom,Heating,Washer,Smoke detector,Carbon monoxide detector,First aid kit,Safety card,Fire extinguisher,Essentials,Shampoo,24-hour check-in,Hangers,Hair dryer,Iron,Laptop friendly workspace,Self Check-In,Doorman Entry |  NA | 55 |  95 |       NA |\n",
       "\n"
      ],
      "text/plain": [
       "  CodigoPostal Barrio      TipoPropiedad TipoAlquiler    MaxOcupantes NumBanyos\n",
       "1 28004        Universidad Apartment     Private room    2            2        \n",
       "2 28004        Universidad Apartment     Entire home/apt 6            1        \n",
       "3 28004        Universidad Apartment     Entire home/apt 3            1        \n",
       "4 28004        Universidad Loft          Entire home/apt 3            2        \n",
       "5 28015        Universidad Apartment     Entire home/apt 5            1        \n",
       "6 28004        Universidad Apartment     Entire home/apt 2            1        \n",
       "  NumDormitorios NumCamas TipoCama\n",
       "1 1              1        Real Bed\n",
       "2 3              5        Real Bed\n",
       "3 2              2        Real Bed\n",
       "4 1              1        Real Bed\n",
       "5 1              1        Real Bed\n",
       "6 0              1        Real Bed\n",
       "  Comodidades                                                                                                                                                                                                                                                                                                                                                     \n",
       "1 TV,Wireless Internet,Kitchen,Pets allowed,Pets live on this property,Buzzer/wireless intercom,Heating,Suitable for events,Washer,First aid kit,Essentials,Lock on bedroom door,Iron                                                                                                                                                                             \n",
       "2 TV,Internet,Wireless Internet,Air conditioning,Kitchen,Indoor fireplace,Heating,Family/kid friendly,Washer,Dryer,Smoke detector,Carbon monoxide detector,Essentials,Shampoo                                                                                                                                                                                     \n",
       "3 TV,Internet,Wireless Internet,Air conditioning,Kitchen,Doorman,Heating,Family/kid friendly,Washer,Essentials,Shampoo,Hangers,Hair dryer,Iron,Laptop friendly workspace                                                                                                                                                                                          \n",
       "4 TV,Internet,Wireless Internet,Air conditioning,Kitchen,Pets allowed,Breakfast,Elevator in building,Indoor fireplace,Buzzer/wireless intercom,Heating,Washer,Essentials,Shampoo,Hangers,Hair dryer,Iron,Laptop friendly workspace,translation missing: en.hosting_amenity_49,translation missing: en.hosting_amenity_50                                          \n",
       "5 TV,Wireless Internet,Air conditioning,Kitchen,Smoking allowed,Pets allowed,Elevator in building,Heating,Family/kid friendly,Washer,Essentials,Iron                                                                                                                                                                                                              \n",
       "6 TV,Cable TV,Internet,Wireless Internet,Air conditioning,Wheelchair accessible,Kitchen,Doorman,Elevator in building,Buzzer/wireless intercom,Heating,Washer,Smoke detector,Carbon monoxide detector,First aid kit,Safety card,Fire extinguisher,Essentials,Shampoo,24-hour check-in,Hangers,Hair dryer,Iron,Laptop friendly workspace,Self Check-In,Doorman Entry\n",
       "  PiesCuadrados Precio Puntuacion MetrosCuadrados\n",
       "1  NA           35      NA              NA       \n",
       "2  NA           92      96              NA       \n",
       "3  NA           55      91              NA       \n",
       "4  NA           60     100              NA       \n",
       "5 538           75      90        49.98181       \n",
       "6  NA           55      95              NA       "
      ]
     },
     "metadata": {},
     "output_type": "display_data"
    }
   ],
   "source": [
    "#Control\n",
    "head(airbnb)"
   ]
  },
  {
   "cell_type": "markdown",
   "metadata": {},
   "source": [
    "Miremos el código postal. Es una variable con entradas erroneas.\n",
    "Hay valores como '', '-'  y '28' que deberían ser considerados como NA.\n",
    "Asimismo también debería ser NA todos los que no compiencen por 28, ya que estamos con códigos postales de Madrid\n",
    "\n",
    "El código postal 28002, 28004 y 28051 tienen entradas repetidas. \n",
    "Por ejemplo las entradas 28002\\n20882 deberían ir dnetro de 28002\n",
    "\n",
    "El codigo 2804 debería ser 28004, 2805 deberia ser 28005 y 2815 juncto con 2815 debería ser 28015\n",
    "\n",
    "Limpia los datos de la columna Codigo Postal"
   ]
  },
  {
   "cell_type": "code",
   "execution_count": 10,
   "metadata": {},
   "outputs": [],
   "source": [
    "airbnb$CodigoPostal[airbnb$CodigoPostal==''] <- NA\n",
    "airbnb$CodigoPostal[airbnb$CodigoPostal=='1'] <- NA\n",
    "airbnb$CodigoPostal[airbnb$CodigoPostal=='-'] <- NA\n",
    "airbnb$CodigoPostal[airbnb$CodigoPostal=='28'] <- NA\n",
    "airbnb$CodigoPostal[airbnb$CodigoPostal=='28002 28002'] <- 28002\n",
    "airbnb$CodigoPostal[airbnb$CodigoPostal=='2805'] <- 28005\n",
    "airbnb$CodigoPostal[airbnb$CodigoPostal=='2815'] <- 28015\n",
    "airbnb$CodigoPostal[airbnb$CodigoPostal=='Madrid 28004'] <- 28004"
   ]
  },
  {
   "cell_type": "markdown",
   "metadata": {},
   "source": [
    "Una vez limpios los datos ¿Cuales son los códigos postales que tenemos? "
   ]
  },
  {
   "cell_type": "code",
   "execution_count": 11,
   "metadata": {},
   "outputs": [
    {
     "data": {
      "text/html": [
       "<style>\n",
       ".dl-inline {width: auto; margin:0; padding: 0}\n",
       ".dl-inline>dt, .dl-inline>dd {float: none; width: auto; display: inline-block}\n",
       ".dl-inline>dt::after {content: \":\\0020\"; padding-right: .5ex}\n",
       ".dl-inline>dt:not(:first-of-type) {padding-left: .5ex}\n",
       "</style><dl class=dl-inline><dt>1</dt><dd>0</dd><dt>-</dt><dd>0</dd><dt>20013</dt><dd>1</dd><dt>20126</dt><dd>1</dd><dt>2015</dt><dd>1</dd><dt>25008</dt><dd>1</dd><dt>27004</dt><dd>1</dd><dt>27013</dt><dd>1</dd><dt>28</dt><dd>0</dd><dt>28001</dt><dd>231</dd><dt>280013</dt><dd>1</dd><dt>28002</dt><dd>170</dd><dt>28002\n",
       "28002</dt><dd>1</dd><dt>28003</dt><dd>185</dd><dt>28004</dt><dd>1795</dd><dt>28005</dt><dd>1195</dd><dt>28006</dt><dd>218</dd><dt>28007</dt><dd>206</dd><dt>28008</dt><dd>338</dd><dt>28009</dt><dd>216</dd><dt>28010</dt><dd>384</dd><dt>28011</dt><dd>250</dd><dt>28012</dt><dd>2060</dd><dt>28013</dt><dd>1019</dd><dt>28014</dt><dd>630</dd><dt>28015</dt><dd>601</dd><dt>28016</dt><dd>76</dd><dt>28017</dt><dd>107</dd><dt>28018</dt><dd>43</dd><dt>28019</dt><dd>200</dd><dt>28020</dt><dd>192</dd><dt>28021</dt><dd>58</dd><dt>28022</dt><dd>30</dd><dt>28023</dt><dd>23</dd><dt>28024</dt><dd>44</dd><dt>28025</dt><dd>123</dd><dt>28026</dt><dd>93</dd><dt>28027</dt><dd>122</dd><dt>28028</dt><dd>263</dd><dt>28029</dt><dd>110</dd><dt>28030</dt><dd>73</dd><dt>28031</dt><dd>27</dd><dt>28032</dt><dd>33</dd><dt>28033</dt><dd>89</dd><dt>28034</dt><dd>45</dd><dt>28035</dt><dd>59</dd><dt>28036</dt><dd>67</dd><dt>28037</dt><dd>65</dd><dt>28038</dt><dd>77</dd><dt>28039</dt><dd>160</dd><dt>2804</dt><dd>1</dd><dt>28040</dt><dd>16</dd><dt>28041</dt><dd>63</dd><dt>28042</dt><dd>90</dd><dt>28043</dt><dd>103</dd><dt>28044</dt><dd>19</dd><dt>28045</dt><dd>495</dd><dt>28046</dt><dd>32</dd><dt>28047</dt><dd>67</dd><dt>28048</dt><dd>1</dd><dt>28049</dt><dd>3</dd><dt>2805</dt><dd>0</dd><dt>28050</dt><dd>58</dd><dt>28051</dt><dd>16</dd><dt>28051\n",
       "28051</dt><dd>1</dd><dt>28052</dt><dd>1</dd><dt>28053</dt><dd>85</dd><dt>28054</dt><dd>12</dd><dt>28055</dt><dd>12</dd><dt>28056</dt><dd>1</dd><dt>28058</dt><dd>1</dd><dt>28060</dt><dd>1</dd><dt>28094</dt><dd>1</dd><dt>28105</dt><dd>1</dd><dt>2815</dt><dd>0</dd><dt>28850</dt><dd>1</dd><dt>Madrid 28004</dt><dd>0</dd><dt>NA's</dt><dd>441</dd></dl>\n"
      ],
      "text/latex": [
       "\\begin{description*}\n",
       "\\item[1] 0\n",
       "\\item[-] 0\n",
       "\\item[20013] 1\n",
       "\\item[20126] 1\n",
       "\\item[2015] 1\n",
       "\\item[25008] 1\n",
       "\\item[27004] 1\n",
       "\\item[27013] 1\n",
       "\\item[28] 0\n",
       "\\item[28001] 231\n",
       "\\item[280013] 1\n",
       "\\item[28002] 170\n",
       "\\item[28002\n",
       "28002] 1\n",
       "\\item[28003] 185\n",
       "\\item[28004] 1795\n",
       "\\item[28005] 1195\n",
       "\\item[28006] 218\n",
       "\\item[28007] 206\n",
       "\\item[28008] 338\n",
       "\\item[28009] 216\n",
       "\\item[28010] 384\n",
       "\\item[28011] 250\n",
       "\\item[28012] 2060\n",
       "\\item[28013] 1019\n",
       "\\item[28014] 630\n",
       "\\item[28015] 601\n",
       "\\item[28016] 76\n",
       "\\item[28017] 107\n",
       "\\item[28018] 43\n",
       "\\item[28019] 200\n",
       "\\item[28020] 192\n",
       "\\item[28021] 58\n",
       "\\item[28022] 30\n",
       "\\item[28023] 23\n",
       "\\item[28024] 44\n",
       "\\item[28025] 123\n",
       "\\item[28026] 93\n",
       "\\item[28027] 122\n",
       "\\item[28028] 263\n",
       "\\item[28029] 110\n",
       "\\item[28030] 73\n",
       "\\item[28031] 27\n",
       "\\item[28032] 33\n",
       "\\item[28033] 89\n",
       "\\item[28034] 45\n",
       "\\item[28035] 59\n",
       "\\item[28036] 67\n",
       "\\item[28037] 65\n",
       "\\item[28038] 77\n",
       "\\item[28039] 160\n",
       "\\item[2804] 1\n",
       "\\item[28040] 16\n",
       "\\item[28041] 63\n",
       "\\item[28042] 90\n",
       "\\item[28043] 103\n",
       "\\item[28044] 19\n",
       "\\item[28045] 495\n",
       "\\item[28046] 32\n",
       "\\item[28047] 67\n",
       "\\item[28048] 1\n",
       "\\item[28049] 3\n",
       "\\item[2805] 0\n",
       "\\item[28050] 58\n",
       "\\item[28051] 16\n",
       "\\item[28051\n",
       "28051] 1\n",
       "\\item[28052] 1\n",
       "\\item[28053] 85\n",
       "\\item[28054] 12\n",
       "\\item[28055] 12\n",
       "\\item[28056] 1\n",
       "\\item[28058] 1\n",
       "\\item[28060] 1\n",
       "\\item[28094] 1\n",
       "\\item[28105] 1\n",
       "\\item[2815] 0\n",
       "\\item[28850] 1\n",
       "\\item[Madrid 28004] 0\n",
       "\\item[NA's] 441\n",
       "\\end{description*}\n"
      ],
      "text/markdown": [
       "1\n",
       ":   0-\n",
       ":   020013\n",
       ":   120126\n",
       ":   12015\n",
       ":   125008\n",
       ":   127004\n",
       ":   127013\n",
       ":   128\n",
       ":   028001\n",
       ":   231280013\n",
       ":   128002\n",
       ":   17028002\n",
       "28002\n",
       ":   128003\n",
       ":   18528004\n",
       ":   179528005\n",
       ":   119528006\n",
       ":   21828007\n",
       ":   20628008\n",
       ":   33828009\n",
       ":   21628010\n",
       ":   38428011\n",
       ":   25028012\n",
       ":   206028013\n",
       ":   101928014\n",
       ":   63028015\n",
       ":   60128016\n",
       ":   7628017\n",
       ":   10728018\n",
       ":   4328019\n",
       ":   20028020\n",
       ":   19228021\n",
       ":   5828022\n",
       ":   3028023\n",
       ":   2328024\n",
       ":   4428025\n",
       ":   12328026\n",
       ":   9328027\n",
       ":   12228028\n",
       ":   26328029\n",
       ":   11028030\n",
       ":   7328031\n",
       ":   2728032\n",
       ":   3328033\n",
       ":   8928034\n",
       ":   4528035\n",
       ":   5928036\n",
       ":   6728037\n",
       ":   6528038\n",
       ":   7728039\n",
       ":   1602804\n",
       ":   128040\n",
       ":   1628041\n",
       ":   6328042\n",
       ":   9028043\n",
       ":   10328044\n",
       ":   1928045\n",
       ":   49528046\n",
       ":   3228047\n",
       ":   6728048\n",
       ":   128049\n",
       ":   32805\n",
       ":   028050\n",
       ":   5828051\n",
       ":   1628051\n",
       "28051\n",
       ":   128052\n",
       ":   128053\n",
       ":   8528054\n",
       ":   1228055\n",
       ":   1228056\n",
       ":   128058\n",
       ":   128060\n",
       ":   128094\n",
       ":   128105\n",
       ":   12815\n",
       ":   028850\n",
       ":   1Madrid 28004\n",
       ":   0NA's\n",
       ":   441\n",
       "\n"
      ],
      "text/plain": [
       "                        -        20013        20126         2015        25008 \n",
       "           0            0            1            1            1            1 \n",
       "       27004        27013           28        28001       280013        28002 \n",
       "           1            1            0          231            1          170 \n",
       "28002\\n28002        28003        28004        28005        28006        28007 \n",
       "           1          185         1795         1195          218          206 \n",
       "       28008        28009        28010        28011        28012        28013 \n",
       "         338          216          384          250         2060         1019 \n",
       "       28014        28015        28016        28017        28018        28019 \n",
       "         630          601           76          107           43          200 \n",
       "       28020        28021        28022        28023        28024        28025 \n",
       "         192           58           30           23           44          123 \n",
       "       28026        28027        28028        28029        28030        28031 \n",
       "          93          122          263          110           73           27 \n",
       "       28032        28033        28034        28035        28036        28037 \n",
       "          33           89           45           59           67           65 \n",
       "       28038        28039         2804        28040        28041        28042 \n",
       "          77          160            1           16           63           90 \n",
       "       28043        28044        28045        28046        28047        28048 \n",
       "         103           19          495           32           67            1 \n",
       "       28049         2805        28050        28051 28051\\n28051        28052 \n",
       "           3            0           58           16            1            1 \n",
       "       28053        28054        28055        28056        28058        28060 \n",
       "          85           12           12            1            1            1 \n",
       "       28094        28105         2815        28850 Madrid 28004         NA's \n",
       "           1            1            0            1            0          441 "
      ]
     },
     "metadata": {},
     "output_type": "display_data"
    }
   ],
   "source": [
    "summary(airbnb$CodigoPostal)"
   ]
  },
  {
   "cell_type": "markdown",
   "metadata": {},
   "source": [
    "¿Cuales son los 5 códigos postales con más entradas? ¿Y con menos? ¿Cuantas entradas tienen?"
   ]
  },
  {
   "cell_type": "code",
   "execution_count": 12,
   "metadata": {
    "scrolled": true
   },
   "outputs": [
    {
     "data": {
      "text/html": [
       "<style>\n",
       ".dl-inline {width: auto; margin:0; padding: 0}\n",
       ".dl-inline>dt, .dl-inline>dd {float: none; width: auto; display: inline-block}\n",
       ".dl-inline>dt::after {content: \":\\0020\"; padding-right: .5ex}\n",
       ".dl-inline>dt:not(:first-of-type) {padding-left: .5ex}\n",
       "</style><dl class=dl-inline><dt>28012</dt><dd>2060</dd><dt>28004</dt><dd>1795</dd><dt>28005</dt><dd>1195</dd><dt>28013</dt><dd>1019</dd><dt>28014</dt><dd>630</dd><dt>(Other)</dt><dd>6067</dd><dt>NA's</dt><dd>441</dd></dl>\n"
      ],
      "text/latex": [
       "\\begin{description*}\n",
       "\\item[28012] 2060\n",
       "\\item[28004] 1795\n",
       "\\item[28005] 1195\n",
       "\\item[28013] 1019\n",
       "\\item[28014] 630\n",
       "\\item[(Other)] 6067\n",
       "\\item[NA's] 441\n",
       "\\end{description*}\n"
      ],
      "text/markdown": [
       "28012\n",
       ":   206028004\n",
       ":   179528005\n",
       ":   119528013\n",
       ":   101928014\n",
       ":   630(Other)\n",
       ":   6067NA's\n",
       ":   441\n",
       "\n"
      ],
      "text/plain": [
       "  28012   28004   28005   28013   28014 (Other)    NA's \n",
       "   2060    1795    1195    1019     630    6067     441 "
      ]
     },
     "metadata": {},
     "output_type": "display_data"
    },
    {
     "data": {
      "text/html": [
       "<style>\n",
       ".dl-inline {width: auto; margin:0; padding: 0}\n",
       ".dl-inline>dt, .dl-inline>dd {float: none; width: auto; display: inline-block}\n",
       ".dl-inline>dt::after {content: \":\\0020\"; padding-right: .5ex}\n",
       ".dl-inline>dt:not(:first-of-type) {padding-left: .5ex}\n",
       "</style><dl class=dl-inline><dt>1</dt><dd>0</dd><dt>-</dt><dd>0</dd><dt>20013</dt><dd>1</dd><dt>20126</dt><dd>1</dd><dt>2015</dt><dd>1</dd><dt>25008</dt><dd>1</dd><dt>27004</dt><dd>1</dd><dt>27013</dt><dd>1</dd><dt>28</dt><dd>0</dd><dt>28001</dt><dd>231</dd><dt>280013</dt><dd>1</dd><dt>28002</dt><dd>170</dd><dt>28002\n",
       "28002</dt><dd>1</dd><dt>28003</dt><dd>185</dd><dt>28004</dt><dd>1795</dd><dt>28005</dt><dd>1195</dd><dt>28006</dt><dd>218</dd><dt>28007</dt><dd>206</dd><dt>28008</dt><dd>338</dd><dt>28009</dt><dd>216</dd><dt>28010</dt><dd>384</dd><dt>28011</dt><dd>250</dd><dt>28012</dt><dd>2060</dd><dt>28013</dt><dd>1019</dd><dt>28014</dt><dd>630</dd><dt>28015</dt><dd>601</dd><dt>28016</dt><dd>76</dd><dt>28017</dt><dd>107</dd><dt>28018</dt><dd>43</dd><dt>28019</dt><dd>200</dd><dt>28020</dt><dd>192</dd><dt>28021</dt><dd>58</dd><dt>28022</dt><dd>30</dd><dt>28023</dt><dd>23</dd><dt>28024</dt><dd>44</dd><dt>28025</dt><dd>123</dd><dt>28026</dt><dd>93</dd><dt>28027</dt><dd>122</dd><dt>28028</dt><dd>263</dd><dt>28029</dt><dd>110</dd><dt>28030</dt><dd>73</dd><dt>28031</dt><dd>27</dd><dt>28032</dt><dd>33</dd><dt>28033</dt><dd>89</dd><dt>28034</dt><dd>45</dd><dt>28035</dt><dd>59</dd><dt>28036</dt><dd>67</dd><dt>28037</dt><dd>65</dd><dt>28038</dt><dd>77</dd><dt>28039</dt><dd>160</dd><dt>2804</dt><dd>1</dd><dt>28040</dt><dd>16</dd><dt>28041</dt><dd>63</dd><dt>28042</dt><dd>90</dd><dt>28043</dt><dd>103</dd><dt>28044</dt><dd>19</dd><dt>28045</dt><dd>495</dd><dt>28046</dt><dd>32</dd><dt>28047</dt><dd>67</dd><dt>28048</dt><dd>1</dd><dt>28049</dt><dd>3</dd><dt>2805</dt><dd>0</dd><dt>28050</dt><dd>58</dd><dt>28051</dt><dd>16</dd><dt>28051\n",
       "28051</dt><dd>1</dd><dt>28052</dt><dd>1</dd><dt>28053</dt><dd>85</dd><dt>28054</dt><dd>12</dd><dt>28055</dt><dd>12</dd><dt>28056</dt><dd>1</dd><dt>28058</dt><dd>1</dd><dt>28060</dt><dd>1</dd><dt>28094</dt><dd>1</dd><dt>28105</dt><dd>1</dd><dt>2815</dt><dd>0</dd><dt>28850</dt><dd>1</dd><dt>Madrid 28004</dt><dd>0</dd><dt>NA's</dt><dd>441</dd></dl>\n"
      ],
      "text/latex": [
       "\\begin{description*}\n",
       "\\item[1] 0\n",
       "\\item[-] 0\n",
       "\\item[20013] 1\n",
       "\\item[20126] 1\n",
       "\\item[2015] 1\n",
       "\\item[25008] 1\n",
       "\\item[27004] 1\n",
       "\\item[27013] 1\n",
       "\\item[28] 0\n",
       "\\item[28001] 231\n",
       "\\item[280013] 1\n",
       "\\item[28002] 170\n",
       "\\item[28002\n",
       "28002] 1\n",
       "\\item[28003] 185\n",
       "\\item[28004] 1795\n",
       "\\item[28005] 1195\n",
       "\\item[28006] 218\n",
       "\\item[28007] 206\n",
       "\\item[28008] 338\n",
       "\\item[28009] 216\n",
       "\\item[28010] 384\n",
       "\\item[28011] 250\n",
       "\\item[28012] 2060\n",
       "\\item[28013] 1019\n",
       "\\item[28014] 630\n",
       "\\item[28015] 601\n",
       "\\item[28016] 76\n",
       "\\item[28017] 107\n",
       "\\item[28018] 43\n",
       "\\item[28019] 200\n",
       "\\item[28020] 192\n",
       "\\item[28021] 58\n",
       "\\item[28022] 30\n",
       "\\item[28023] 23\n",
       "\\item[28024] 44\n",
       "\\item[28025] 123\n",
       "\\item[28026] 93\n",
       "\\item[28027] 122\n",
       "\\item[28028] 263\n",
       "\\item[28029] 110\n",
       "\\item[28030] 73\n",
       "\\item[28031] 27\n",
       "\\item[28032] 33\n",
       "\\item[28033] 89\n",
       "\\item[28034] 45\n",
       "\\item[28035] 59\n",
       "\\item[28036] 67\n",
       "\\item[28037] 65\n",
       "\\item[28038] 77\n",
       "\\item[28039] 160\n",
       "\\item[2804] 1\n",
       "\\item[28040] 16\n",
       "\\item[28041] 63\n",
       "\\item[28042] 90\n",
       "\\item[28043] 103\n",
       "\\item[28044] 19\n",
       "\\item[28045] 495\n",
       "\\item[28046] 32\n",
       "\\item[28047] 67\n",
       "\\item[28048] 1\n",
       "\\item[28049] 3\n",
       "\\item[2805] 0\n",
       "\\item[28050] 58\n",
       "\\item[28051] 16\n",
       "\\item[28051\n",
       "28051] 1\n",
       "\\item[28052] 1\n",
       "\\item[28053] 85\n",
       "\\item[28054] 12\n",
       "\\item[28055] 12\n",
       "\\item[28056] 1\n",
       "\\item[28058] 1\n",
       "\\item[28060] 1\n",
       "\\item[28094] 1\n",
       "\\item[28105] 1\n",
       "\\item[2815] 0\n",
       "\\item[28850] 1\n",
       "\\item[Madrid 28004] 0\n",
       "\\item[NA's] 441\n",
       "\\end{description*}\n"
      ],
      "text/markdown": [
       "1\n",
       ":   0-\n",
       ":   020013\n",
       ":   120126\n",
       ":   12015\n",
       ":   125008\n",
       ":   127004\n",
       ":   127013\n",
       ":   128\n",
       ":   028001\n",
       ":   231280013\n",
       ":   128002\n",
       ":   17028002\n",
       "28002\n",
       ":   128003\n",
       ":   18528004\n",
       ":   179528005\n",
       ":   119528006\n",
       ":   21828007\n",
       ":   20628008\n",
       ":   33828009\n",
       ":   21628010\n",
       ":   38428011\n",
       ":   25028012\n",
       ":   206028013\n",
       ":   101928014\n",
       ":   63028015\n",
       ":   60128016\n",
       ":   7628017\n",
       ":   10728018\n",
       ":   4328019\n",
       ":   20028020\n",
       ":   19228021\n",
       ":   5828022\n",
       ":   3028023\n",
       ":   2328024\n",
       ":   4428025\n",
       ":   12328026\n",
       ":   9328027\n",
       ":   12228028\n",
       ":   26328029\n",
       ":   11028030\n",
       ":   7328031\n",
       ":   2728032\n",
       ":   3328033\n",
       ":   8928034\n",
       ":   4528035\n",
       ":   5928036\n",
       ":   6728037\n",
       ":   6528038\n",
       ":   7728039\n",
       ":   1602804\n",
       ":   128040\n",
       ":   1628041\n",
       ":   6328042\n",
       ":   9028043\n",
       ":   10328044\n",
       ":   1928045\n",
       ":   49528046\n",
       ":   3228047\n",
       ":   6728048\n",
       ":   128049\n",
       ":   32805\n",
       ":   028050\n",
       ":   5828051\n",
       ":   1628051\n",
       "28051\n",
       ":   128052\n",
       ":   128053\n",
       ":   8528054\n",
       ":   1228055\n",
       ":   1228056\n",
       ":   128058\n",
       ":   128060\n",
       ":   128094\n",
       ":   128105\n",
       ":   12815\n",
       ":   028850\n",
       ":   1Madrid 28004\n",
       ":   0NA's\n",
       ":   441\n",
       "\n"
      ],
      "text/plain": [
       "                        -        20013        20126         2015        25008 \n",
       "           0            0            1            1            1            1 \n",
       "       27004        27013           28        28001       280013        28002 \n",
       "           1            1            0          231            1          170 \n",
       "28002\\n28002        28003        28004        28005        28006        28007 \n",
       "           1          185         1795         1195          218          206 \n",
       "       28008        28009        28010        28011        28012        28013 \n",
       "         338          216          384          250         2060         1019 \n",
       "       28014        28015        28016        28017        28018        28019 \n",
       "         630          601           76          107           43          200 \n",
       "       28020        28021        28022        28023        28024        28025 \n",
       "         192           58           30           23           44          123 \n",
       "       28026        28027        28028        28029        28030        28031 \n",
       "          93          122          263          110           73           27 \n",
       "       28032        28033        28034        28035        28036        28037 \n",
       "          33           89           45           59           67           65 \n",
       "       28038        28039         2804        28040        28041        28042 \n",
       "          77          160            1           16           63           90 \n",
       "       28043        28044        28045        28046        28047        28048 \n",
       "         103           19          495           32           67            1 \n",
       "       28049         2805        28050        28051 28051\\n28051        28052 \n",
       "           3            0           58           16            1            1 \n",
       "       28053        28054        28055        28056        28058        28060 \n",
       "          85           12           12            1            1            1 \n",
       "       28094        28105         2815        28850 Madrid 28004         NA's \n",
       "           1            1            0            1            0          441 "
      ]
     },
     "metadata": {},
     "output_type": "display_data"
    }
   ],
   "source": [
    "#Como los nulos están más repetidos he puesto maxsum=7\n",
    "summary(airbnb$CodigoPostal, maxsum=7)\n",
    "summary(airbnb$CodigoPostal)"
   ]
  },
  {
   "cell_type": "markdown",
   "metadata": {},
   "source": [
    "¿Cuales son los barrios que hay en el código postal 28012?"
   ]
  },
  {
   "cell_type": "code",
   "execution_count": 13,
   "metadata": {
    "scrolled": true
   },
   "outputs": [
    {
     "data": {
      "text/html": [
       "<style>\n",
       ".dl-inline {width: auto; margin:0; padding: 0}\n",
       ".dl-inline>dt, .dl-inline>dd {float: none; width: auto; display: inline-block}\n",
       ".dl-inline>dt::after {content: \":\\0020\"; padding-right: .5ex}\n",
       ".dl-inline>dt:not(:first-of-type) {padding-left: .5ex}\n",
       "</style><dl class=dl-inline><dt>Embajadores</dt><dd>1449</dd><dt>Sol</dt><dd>301</dd><dt>Cortes</dt><dd>216</dd><dt>Palos de Moguer</dt><dd>46</dd><dt>Palacio</dt><dd>27</dd><dt>Acacias</dt><dd>13</dd><dt>Universidad</dt><dd>4</dd><dt>Arapiles</dt><dd>1</dd><dt>Atocha</dt><dd>1</dd><dt>Delicias</dt><dd>1</dd><dt>Goya</dt><dd>1</dd><dt>Abrantes</dt><dd>0</dd><dt>Adelfas</dt><dd>0</dd><dt>Aeropuerto</dt><dd>0</dd><dt>Aguilas</dt><dd>0</dd><dt>Alameda de Osuna</dt><dd>0</dd><dt>Almagro</dt><dd>0</dd><dt>Almenara</dt><dd>0</dd><dt>Almendrales</dt><dd>0</dd><dt>Aluche</dt><dd>0</dd><dt>Ambroz</dt><dd>0</dd><dt>Amposta</dt><dd>0</dd><dt>Apostol Santiago</dt><dd>0</dd><dt>Aravaca</dt><dd>0</dd><dt>Arcos</dt><dd>0</dd><dt>Argüelles</dt><dd>0</dd><dt>Bellas Vistas</dt><dd>0</dd><dt>Berruguete</dt><dd>0</dd><dt>Buenavista</dt><dd>0</dd><dt>Butarque</dt><dd>0</dd><dt>Campamento</dt><dd>0</dd><dt>Canillas</dt><dd>0</dd><dt>Canillejas</dt><dd>0</dd><dt>Cármenes</dt><dd>0</dd><dt>Casa de Campo</dt><dd>0</dd><dt>Casco Histórico de Barajas</dt><dd>0</dd><dt>Casco Histórico de Vallecas</dt><dd>0</dd><dt>Casco Histórico de Vicálvaro</dt><dd>0</dd><dt>Castellana</dt><dd>0</dd><dt>Castilla</dt><dd>0</dd><dt>Castillejos</dt><dd>0</dd><dt>Chopera</dt><dd>0</dd><dt>Ciudad Jardín</dt><dd>0</dd><dt>Ciudad Universitaria</dt><dd>0</dd><dt>Colina</dt><dd>0</dd><dt>Comillas</dt><dd>0</dd><dt>Concepción</dt><dd>0</dd><dt>Corralejos</dt><dd>0</dd><dt>Costillares</dt><dd>0</dd><dt>Cuatro Caminos</dt><dd>0</dd><dt>Cuatro Vientos</dt><dd>0</dd><dt>El Goloso</dt><dd>0</dd><dt>El Plantío</dt><dd>0</dd><dt>El Viso</dt><dd>0</dd><dt>Entrevías</dt><dd>0</dd><dt>Estrella</dt><dd>0</dd><dt>Fontarrón</dt><dd>0</dd><dt>Fuente del Berro</dt><dd>0</dd><dt>Fuentelareina</dt><dd>0</dd><dt>Gaztambide</dt><dd>0</dd><dt>Guindalera</dt><dd>0</dd><dt>Hellín</dt><dd>0</dd><dt>Hispanoamérica</dt><dd>0</dd><dt>Ibiza</dt><dd>0</dd><dt>Imperial</dt><dd>0</dd><dt>Jerónimos</dt><dd>0</dd><dt>Justicia</dt><dd>0</dd><dt>La Paz</dt><dd>0</dd><dt>Legazpi</dt><dd>0</dd><dt>Lista</dt><dd>0</dd><dt>Los Angeles</dt><dd>0</dd><dt>Los Rosales</dt><dd>0</dd><dt>Lucero</dt><dd>0</dd><dt>Marroquina</dt><dd>0</dd><dt>Media Legua</dt><dd>0</dd><dt>Mirasierra</dt><dd>0</dd><dt>Moscardó</dt><dd>0</dd><dt>Niño Jesús</dt><dd>0</dd><dt>Nueva España</dt><dd>0</dd><dt>Numancia</dt><dd>0</dd><dt>Opañel</dt><dd>0</dd><dt>Orcasitas</dt><dd>0</dd><dt>Orcasur</dt><dd>0</dd><dt>Pacífico</dt><dd>0</dd><dt>Palomas</dt><dd>0</dd><dt>Palomeras Bajas</dt><dd>0</dd><dt>Palomeras Sureste</dt><dd>0</dd><dt>Pavones</dt><dd>0</dd><dt>Peñagrande</dt><dd>0</dd><dt>Pilar</dt><dd>0</dd><dt>Pinar del Rey</dt><dd>0</dd><dt>Piovera</dt><dd>0</dd><dt>Portazgo</dt><dd>0</dd><dt>Pradolongo</dt><dd>0</dd><dt>Prosperidad</dt><dd>0</dd><dt>Pueblo Nuevo</dt><dd>0</dd><dt>Puerta Bonita</dt><dd>0</dd><dt>Puerta del Angel</dt><dd>0</dd><dt>(Other)</dt><dd>0</dd><dt>NA's</dt><dd>441</dd></dl>\n"
      ],
      "text/latex": [
       "\\begin{description*}\n",
       "\\item[Embajadores] 1449\n",
       "\\item[Sol] 301\n",
       "\\item[Cortes] 216\n",
       "\\item[Palos de Moguer] 46\n",
       "\\item[Palacio] 27\n",
       "\\item[Acacias] 13\n",
       "\\item[Universidad] 4\n",
       "\\item[Arapiles] 1\n",
       "\\item[Atocha] 1\n",
       "\\item[Delicias] 1\n",
       "\\item[Goya] 1\n",
       "\\item[Abrantes] 0\n",
       "\\item[Adelfas] 0\n",
       "\\item[Aeropuerto] 0\n",
       "\\item[Aguilas] 0\n",
       "\\item[Alameda de Osuna] 0\n",
       "\\item[Almagro] 0\n",
       "\\item[Almenara] 0\n",
       "\\item[Almendrales] 0\n",
       "\\item[Aluche] 0\n",
       "\\item[Ambroz] 0\n",
       "\\item[Amposta] 0\n",
       "\\item[Apostol Santiago] 0\n",
       "\\item[Aravaca] 0\n",
       "\\item[Arcos] 0\n",
       "\\item[Argüelles] 0\n",
       "\\item[Bellas Vistas] 0\n",
       "\\item[Berruguete] 0\n",
       "\\item[Buenavista] 0\n",
       "\\item[Butarque] 0\n",
       "\\item[Campamento] 0\n",
       "\\item[Canillas] 0\n",
       "\\item[Canillejas] 0\n",
       "\\item[Cármenes] 0\n",
       "\\item[Casa de Campo] 0\n",
       "\\item[Casco Histórico de Barajas] 0\n",
       "\\item[Casco Histórico de Vallecas] 0\n",
       "\\item[Casco Histórico de Vicálvaro] 0\n",
       "\\item[Castellana] 0\n",
       "\\item[Castilla] 0\n",
       "\\item[Castillejos] 0\n",
       "\\item[Chopera] 0\n",
       "\\item[Ciudad Jardín] 0\n",
       "\\item[Ciudad Universitaria] 0\n",
       "\\item[Colina] 0\n",
       "\\item[Comillas] 0\n",
       "\\item[Concepción] 0\n",
       "\\item[Corralejos] 0\n",
       "\\item[Costillares] 0\n",
       "\\item[Cuatro Caminos] 0\n",
       "\\item[Cuatro Vientos] 0\n",
       "\\item[El Goloso] 0\n",
       "\\item[El Plantío] 0\n",
       "\\item[El Viso] 0\n",
       "\\item[Entrevías] 0\n",
       "\\item[Estrella] 0\n",
       "\\item[Fontarrón] 0\n",
       "\\item[Fuente del Berro] 0\n",
       "\\item[Fuentelareina] 0\n",
       "\\item[Gaztambide] 0\n",
       "\\item[Guindalera] 0\n",
       "\\item[Hellín] 0\n",
       "\\item[Hispanoamérica] 0\n",
       "\\item[Ibiza] 0\n",
       "\\item[Imperial] 0\n",
       "\\item[Jerónimos] 0\n",
       "\\item[Justicia] 0\n",
       "\\item[La Paz] 0\n",
       "\\item[Legazpi] 0\n",
       "\\item[Lista] 0\n",
       "\\item[Los Angeles] 0\n",
       "\\item[Los Rosales] 0\n",
       "\\item[Lucero] 0\n",
       "\\item[Marroquina] 0\n",
       "\\item[Media Legua] 0\n",
       "\\item[Mirasierra] 0\n",
       "\\item[Moscardó] 0\n",
       "\\item[Niño Jesús] 0\n",
       "\\item[Nueva España] 0\n",
       "\\item[Numancia] 0\n",
       "\\item[Opañel] 0\n",
       "\\item[Orcasitas] 0\n",
       "\\item[Orcasur] 0\n",
       "\\item[Pacífico] 0\n",
       "\\item[Palomas] 0\n",
       "\\item[Palomeras Bajas] 0\n",
       "\\item[Palomeras Sureste] 0\n",
       "\\item[Pavones] 0\n",
       "\\item[Peñagrande] 0\n",
       "\\item[Pilar] 0\n",
       "\\item[Pinar del Rey] 0\n",
       "\\item[Piovera] 0\n",
       "\\item[Portazgo] 0\n",
       "\\item[Pradolongo] 0\n",
       "\\item[Prosperidad] 0\n",
       "\\item[Pueblo Nuevo] 0\n",
       "\\item[Puerta Bonita] 0\n",
       "\\item[Puerta del Angel] 0\n",
       "\\item[(Other)] 0\n",
       "\\item[NA's] 441\n",
       "\\end{description*}\n"
      ],
      "text/markdown": [
       "Embajadores\n",
       ":   1449Sol\n",
       ":   301Cortes\n",
       ":   216Palos de Moguer\n",
       ":   46Palacio\n",
       ":   27Acacias\n",
       ":   13Universidad\n",
       ":   4Arapiles\n",
       ":   1Atocha\n",
       ":   1Delicias\n",
       ":   1Goya\n",
       ":   1Abrantes\n",
       ":   0Adelfas\n",
       ":   0Aeropuerto\n",
       ":   0Aguilas\n",
       ":   0Alameda de Osuna\n",
       ":   0Almagro\n",
       ":   0Almenara\n",
       ":   0Almendrales\n",
       ":   0Aluche\n",
       ":   0Ambroz\n",
       ":   0Amposta\n",
       ":   0Apostol Santiago\n",
       ":   0Aravaca\n",
       ":   0Arcos\n",
       ":   0Argüelles\n",
       ":   0Bellas Vistas\n",
       ":   0Berruguete\n",
       ":   0Buenavista\n",
       ":   0Butarque\n",
       ":   0Campamento\n",
       ":   0Canillas\n",
       ":   0Canillejas\n",
       ":   0Cármenes\n",
       ":   0Casa de Campo\n",
       ":   0Casco Histórico de Barajas\n",
       ":   0Casco Histórico de Vallecas\n",
       ":   0Casco Histórico de Vicálvaro\n",
       ":   0Castellana\n",
       ":   0Castilla\n",
       ":   0Castillejos\n",
       ":   0Chopera\n",
       ":   0Ciudad Jardín\n",
       ":   0Ciudad Universitaria\n",
       ":   0Colina\n",
       ":   0Comillas\n",
       ":   0Concepción\n",
       ":   0Corralejos\n",
       ":   0Costillares\n",
       ":   0Cuatro Caminos\n",
       ":   0Cuatro Vientos\n",
       ":   0El Goloso\n",
       ":   0El Plantío\n",
       ":   0El Viso\n",
       ":   0Entrevías\n",
       ":   0Estrella\n",
       ":   0Fontarrón\n",
       ":   0Fuente del Berro\n",
       ":   0Fuentelareina\n",
       ":   0Gaztambide\n",
       ":   0Guindalera\n",
       ":   0Hellín\n",
       ":   0Hispanoamérica\n",
       ":   0Ibiza\n",
       ":   0Imperial\n",
       ":   0Jerónimos\n",
       ":   0Justicia\n",
       ":   0La Paz\n",
       ":   0Legazpi\n",
       ":   0Lista\n",
       ":   0Los Angeles\n",
       ":   0Los Rosales\n",
       ":   0Lucero\n",
       ":   0Marroquina\n",
       ":   0Media Legua\n",
       ":   0Mirasierra\n",
       ":   0Moscardó\n",
       ":   0Niño Jesús\n",
       ":   0Nueva España\n",
       ":   0Numancia\n",
       ":   0Opañel\n",
       ":   0Orcasitas\n",
       ":   0Orcasur\n",
       ":   0Pacífico\n",
       ":   0Palomas\n",
       ":   0Palomeras Bajas\n",
       ":   0Palomeras Sureste\n",
       ":   0Pavones\n",
       ":   0Peñagrande\n",
       ":   0Pilar\n",
       ":   0Pinar del Rey\n",
       ":   0Piovera\n",
       ":   0Portazgo\n",
       ":   0Pradolongo\n",
       ":   0Prosperidad\n",
       ":   0Pueblo Nuevo\n",
       ":   0Puerta Bonita\n",
       ":   0Puerta del Angel\n",
       ":   0(Other)\n",
       ":   0NA's\n",
       ":   441\n",
       "\n"
      ],
      "text/plain": [
       "                 Embajadores                          Sol \n",
       "                        1449                          301 \n",
       "                      Cortes              Palos de Moguer \n",
       "                         216                           46 \n",
       "                     Palacio                      Acacias \n",
       "                          27                           13 \n",
       "                 Universidad                     Arapiles \n",
       "                           4                            1 \n",
       "                      Atocha                     Delicias \n",
       "                           1                            1 \n",
       "                        Goya                     Abrantes \n",
       "                           1                            0 \n",
       "                     Adelfas                   Aeropuerto \n",
       "                           0                            0 \n",
       "                     Aguilas             Alameda de Osuna \n",
       "                           0                            0 \n",
       "                     Almagro                     Almenara \n",
       "                           0                            0 \n",
       "                 Almendrales                       Aluche \n",
       "                           0                            0 \n",
       "                      Ambroz                      Amposta \n",
       "                           0                            0 \n",
       "            Apostol Santiago                      Aravaca \n",
       "                           0                            0 \n",
       "                       Arcos                    Argüelles \n",
       "                           0                            0 \n",
       "               Bellas Vistas                   Berruguete \n",
       "                           0                            0 \n",
       "                  Buenavista                     Butarque \n",
       "                           0                            0 \n",
       "                  Campamento                     Canillas \n",
       "                           0                            0 \n",
       "                  Canillejas                     Cármenes \n",
       "                           0                            0 \n",
       "               Casa de Campo   Casco Histórico de Barajas \n",
       "                           0                            0 \n",
       " Casco Histórico de Vallecas Casco Histórico de Vicálvaro \n",
       "                           0                            0 \n",
       "                  Castellana                     Castilla \n",
       "                           0                            0 \n",
       "                 Castillejos                      Chopera \n",
       "                           0                            0 \n",
       "               Ciudad Jardín         Ciudad Universitaria \n",
       "                           0                            0 \n",
       "                      Colina                     Comillas \n",
       "                           0                            0 \n",
       "                  Concepción                   Corralejos \n",
       "                           0                            0 \n",
       "                 Costillares               Cuatro Caminos \n",
       "                           0                            0 \n",
       "              Cuatro Vientos                    El Goloso \n",
       "                           0                            0 \n",
       "                  El Plantío                      El Viso \n",
       "                           0                            0 \n",
       "                   Entrevías                     Estrella \n",
       "                           0                            0 \n",
       "                   Fontarrón             Fuente del Berro \n",
       "                           0                            0 \n",
       "               Fuentelareina                   Gaztambide \n",
       "                           0                            0 \n",
       "                  Guindalera                       Hellín \n",
       "                           0                            0 \n",
       "              Hispanoamérica                        Ibiza \n",
       "                           0                            0 \n",
       "                    Imperial                    Jerónimos \n",
       "                           0                            0 \n",
       "                    Justicia                       La Paz \n",
       "                           0                            0 \n",
       "                     Legazpi                        Lista \n",
       "                           0                            0 \n",
       "                 Los Angeles                  Los Rosales \n",
       "                           0                            0 \n",
       "                      Lucero                   Marroquina \n",
       "                           0                            0 \n",
       "                 Media Legua                   Mirasierra \n",
       "                           0                            0 \n",
       "                    Moscardó                   Niño Jesús \n",
       "                           0                            0 \n",
       "                Nueva España                     Numancia \n",
       "                           0                            0 \n",
       "                      Opañel                    Orcasitas \n",
       "                           0                            0 \n",
       "                     Orcasur                     Pacífico \n",
       "                           0                            0 \n",
       "                     Palomas              Palomeras Bajas \n",
       "                           0                            0 \n",
       "           Palomeras Sureste                      Pavones \n",
       "                           0                            0 \n",
       "                  Peñagrande                        Pilar \n",
       "                           0                            0 \n",
       "               Pinar del Rey                      Piovera \n",
       "                           0                            0 \n",
       "                    Portazgo                   Pradolongo \n",
       "                           0                            0 \n",
       "                 Prosperidad                 Pueblo Nuevo \n",
       "                           0                            0 \n",
       "               Puerta Bonita             Puerta del Angel \n",
       "                           0                            0 \n",
       "                     (Other)                         NA's \n",
       "                           0                          441 "
      ]
     },
     "metadata": {},
     "output_type": "display_data"
    }
   ],
   "source": [
    "barriosEn28012 <- airbnb[airbnb$CodigoPostal==28012,]\n",
    "summary(barriosEn28012$Barrio)"
   ]
  },
  {
   "cell_type": "markdown",
   "metadata": {},
   "source": [
    "¿Cuantas entradas hay en cada uno de esos barrios para el codigo postal 28012?"
   ]
  },
  {
   "cell_type": "code",
   "execution_count": 14,
   "metadata": {},
   "outputs": [
    {
     "data": {
      "text/html": [
       "<style>\n",
       ".dl-inline {width: auto; margin:0; padding: 0}\n",
       ".dl-inline>dt, .dl-inline>dd {float: none; width: auto; display: inline-block}\n",
       ".dl-inline>dt::after {content: \":\\0020\"; padding-right: .5ex}\n",
       ".dl-inline>dt:not(:first-of-type) {padding-left: .5ex}\n",
       "</style><dl class=dl-inline><dt>Embajadores</dt><dd>1449</dd><dt>Sol</dt><dd>301</dd><dt>Cortes</dt><dd>216</dd><dt>Palos de Moguer</dt><dd>46</dd><dt>Palacio</dt><dd>27</dd><dt>Acacias</dt><dd>13</dd><dt>Universidad</dt><dd>4</dd><dt>Arapiles</dt><dd>1</dd><dt>Atocha</dt><dd>1</dd><dt>Delicias</dt><dd>1</dd><dt>Goya</dt><dd>1</dd><dt>Abrantes</dt><dd>0</dd><dt>Adelfas</dt><dd>0</dd><dt>Aeropuerto</dt><dd>0</dd><dt>Aguilas</dt><dd>0</dd><dt>Alameda de Osuna</dt><dd>0</dd><dt>Almagro</dt><dd>0</dd><dt>Almenara</dt><dd>0</dd><dt>Almendrales</dt><dd>0</dd><dt>Aluche</dt><dd>0</dd><dt>Ambroz</dt><dd>0</dd><dt>Amposta</dt><dd>0</dd><dt>Apostol Santiago</dt><dd>0</dd><dt>Aravaca</dt><dd>0</dd><dt>Arcos</dt><dd>0</dd><dt>Argüelles</dt><dd>0</dd><dt>Bellas Vistas</dt><dd>0</dd><dt>Berruguete</dt><dd>0</dd><dt>Buenavista</dt><dd>0</dd><dt>Butarque</dt><dd>0</dd><dt>Campamento</dt><dd>0</dd><dt>Canillas</dt><dd>0</dd><dt>Canillejas</dt><dd>0</dd><dt>Cármenes</dt><dd>0</dd><dt>Casa de Campo</dt><dd>0</dd><dt>Casco Histórico de Barajas</dt><dd>0</dd><dt>Casco Histórico de Vallecas</dt><dd>0</dd><dt>Casco Histórico de Vicálvaro</dt><dd>0</dd><dt>Castellana</dt><dd>0</dd><dt>Castilla</dt><dd>0</dd><dt>Castillejos</dt><dd>0</dd><dt>Chopera</dt><dd>0</dd><dt>Ciudad Jardín</dt><dd>0</dd><dt>Ciudad Universitaria</dt><dd>0</dd><dt>Colina</dt><dd>0</dd><dt>Comillas</dt><dd>0</dd><dt>Concepción</dt><dd>0</dd><dt>Corralejos</dt><dd>0</dd><dt>Costillares</dt><dd>0</dd><dt>Cuatro Caminos</dt><dd>0</dd><dt>Cuatro Vientos</dt><dd>0</dd><dt>El Goloso</dt><dd>0</dd><dt>El Plantío</dt><dd>0</dd><dt>El Viso</dt><dd>0</dd><dt>Entrevías</dt><dd>0</dd><dt>Estrella</dt><dd>0</dd><dt>Fontarrón</dt><dd>0</dd><dt>Fuente del Berro</dt><dd>0</dd><dt>Fuentelareina</dt><dd>0</dd><dt>Gaztambide</dt><dd>0</dd><dt>Guindalera</dt><dd>0</dd><dt>Hellín</dt><dd>0</dd><dt>Hispanoamérica</dt><dd>0</dd><dt>Ibiza</dt><dd>0</dd><dt>Imperial</dt><dd>0</dd><dt>Jerónimos</dt><dd>0</dd><dt>Justicia</dt><dd>0</dd><dt>La Paz</dt><dd>0</dd><dt>Legazpi</dt><dd>0</dd><dt>Lista</dt><dd>0</dd><dt>Los Angeles</dt><dd>0</dd><dt>Los Rosales</dt><dd>0</dd><dt>Lucero</dt><dd>0</dd><dt>Marroquina</dt><dd>0</dd><dt>Media Legua</dt><dd>0</dd><dt>Mirasierra</dt><dd>0</dd><dt>Moscardó</dt><dd>0</dd><dt>Niño Jesús</dt><dd>0</dd><dt>Nueva España</dt><dd>0</dd><dt>Numancia</dt><dd>0</dd><dt>Opañel</dt><dd>0</dd><dt>Orcasitas</dt><dd>0</dd><dt>Orcasur</dt><dd>0</dd><dt>Pacífico</dt><dd>0</dd><dt>Palomas</dt><dd>0</dd><dt>Palomeras Bajas</dt><dd>0</dd><dt>Palomeras Sureste</dt><dd>0</dd><dt>Pavones</dt><dd>0</dd><dt>Peñagrande</dt><dd>0</dd><dt>Pilar</dt><dd>0</dd><dt>Pinar del Rey</dt><dd>0</dd><dt>Piovera</dt><dd>0</dd><dt>Portazgo</dt><dd>0</dd><dt>Pradolongo</dt><dd>0</dd><dt>Prosperidad</dt><dd>0</dd><dt>Pueblo Nuevo</dt><dd>0</dd><dt>Puerta Bonita</dt><dd>0</dd><dt>Puerta del Angel</dt><dd>0</dd><dt>(Other)</dt><dd>0</dd><dt>NA's</dt><dd>441</dd></dl>\n"
      ],
      "text/latex": [
       "\\begin{description*}\n",
       "\\item[Embajadores] 1449\n",
       "\\item[Sol] 301\n",
       "\\item[Cortes] 216\n",
       "\\item[Palos de Moguer] 46\n",
       "\\item[Palacio] 27\n",
       "\\item[Acacias] 13\n",
       "\\item[Universidad] 4\n",
       "\\item[Arapiles] 1\n",
       "\\item[Atocha] 1\n",
       "\\item[Delicias] 1\n",
       "\\item[Goya] 1\n",
       "\\item[Abrantes] 0\n",
       "\\item[Adelfas] 0\n",
       "\\item[Aeropuerto] 0\n",
       "\\item[Aguilas] 0\n",
       "\\item[Alameda de Osuna] 0\n",
       "\\item[Almagro] 0\n",
       "\\item[Almenara] 0\n",
       "\\item[Almendrales] 0\n",
       "\\item[Aluche] 0\n",
       "\\item[Ambroz] 0\n",
       "\\item[Amposta] 0\n",
       "\\item[Apostol Santiago] 0\n",
       "\\item[Aravaca] 0\n",
       "\\item[Arcos] 0\n",
       "\\item[Argüelles] 0\n",
       "\\item[Bellas Vistas] 0\n",
       "\\item[Berruguete] 0\n",
       "\\item[Buenavista] 0\n",
       "\\item[Butarque] 0\n",
       "\\item[Campamento] 0\n",
       "\\item[Canillas] 0\n",
       "\\item[Canillejas] 0\n",
       "\\item[Cármenes] 0\n",
       "\\item[Casa de Campo] 0\n",
       "\\item[Casco Histórico de Barajas] 0\n",
       "\\item[Casco Histórico de Vallecas] 0\n",
       "\\item[Casco Histórico de Vicálvaro] 0\n",
       "\\item[Castellana] 0\n",
       "\\item[Castilla] 0\n",
       "\\item[Castillejos] 0\n",
       "\\item[Chopera] 0\n",
       "\\item[Ciudad Jardín] 0\n",
       "\\item[Ciudad Universitaria] 0\n",
       "\\item[Colina] 0\n",
       "\\item[Comillas] 0\n",
       "\\item[Concepción] 0\n",
       "\\item[Corralejos] 0\n",
       "\\item[Costillares] 0\n",
       "\\item[Cuatro Caminos] 0\n",
       "\\item[Cuatro Vientos] 0\n",
       "\\item[El Goloso] 0\n",
       "\\item[El Plantío] 0\n",
       "\\item[El Viso] 0\n",
       "\\item[Entrevías] 0\n",
       "\\item[Estrella] 0\n",
       "\\item[Fontarrón] 0\n",
       "\\item[Fuente del Berro] 0\n",
       "\\item[Fuentelareina] 0\n",
       "\\item[Gaztambide] 0\n",
       "\\item[Guindalera] 0\n",
       "\\item[Hellín] 0\n",
       "\\item[Hispanoamérica] 0\n",
       "\\item[Ibiza] 0\n",
       "\\item[Imperial] 0\n",
       "\\item[Jerónimos] 0\n",
       "\\item[Justicia] 0\n",
       "\\item[La Paz] 0\n",
       "\\item[Legazpi] 0\n",
       "\\item[Lista] 0\n",
       "\\item[Los Angeles] 0\n",
       "\\item[Los Rosales] 0\n",
       "\\item[Lucero] 0\n",
       "\\item[Marroquina] 0\n",
       "\\item[Media Legua] 0\n",
       "\\item[Mirasierra] 0\n",
       "\\item[Moscardó] 0\n",
       "\\item[Niño Jesús] 0\n",
       "\\item[Nueva España] 0\n",
       "\\item[Numancia] 0\n",
       "\\item[Opañel] 0\n",
       "\\item[Orcasitas] 0\n",
       "\\item[Orcasur] 0\n",
       "\\item[Pacífico] 0\n",
       "\\item[Palomas] 0\n",
       "\\item[Palomeras Bajas] 0\n",
       "\\item[Palomeras Sureste] 0\n",
       "\\item[Pavones] 0\n",
       "\\item[Peñagrande] 0\n",
       "\\item[Pilar] 0\n",
       "\\item[Pinar del Rey] 0\n",
       "\\item[Piovera] 0\n",
       "\\item[Portazgo] 0\n",
       "\\item[Pradolongo] 0\n",
       "\\item[Prosperidad] 0\n",
       "\\item[Pueblo Nuevo] 0\n",
       "\\item[Puerta Bonita] 0\n",
       "\\item[Puerta del Angel] 0\n",
       "\\item[(Other)] 0\n",
       "\\item[NA's] 441\n",
       "\\end{description*}\n"
      ],
      "text/markdown": [
       "Embajadores\n",
       ":   1449Sol\n",
       ":   301Cortes\n",
       ":   216Palos de Moguer\n",
       ":   46Palacio\n",
       ":   27Acacias\n",
       ":   13Universidad\n",
       ":   4Arapiles\n",
       ":   1Atocha\n",
       ":   1Delicias\n",
       ":   1Goya\n",
       ":   1Abrantes\n",
       ":   0Adelfas\n",
       ":   0Aeropuerto\n",
       ":   0Aguilas\n",
       ":   0Alameda de Osuna\n",
       ":   0Almagro\n",
       ":   0Almenara\n",
       ":   0Almendrales\n",
       ":   0Aluche\n",
       ":   0Ambroz\n",
       ":   0Amposta\n",
       ":   0Apostol Santiago\n",
       ":   0Aravaca\n",
       ":   0Arcos\n",
       ":   0Argüelles\n",
       ":   0Bellas Vistas\n",
       ":   0Berruguete\n",
       ":   0Buenavista\n",
       ":   0Butarque\n",
       ":   0Campamento\n",
       ":   0Canillas\n",
       ":   0Canillejas\n",
       ":   0Cármenes\n",
       ":   0Casa de Campo\n",
       ":   0Casco Histórico de Barajas\n",
       ":   0Casco Histórico de Vallecas\n",
       ":   0Casco Histórico de Vicálvaro\n",
       ":   0Castellana\n",
       ":   0Castilla\n",
       ":   0Castillejos\n",
       ":   0Chopera\n",
       ":   0Ciudad Jardín\n",
       ":   0Ciudad Universitaria\n",
       ":   0Colina\n",
       ":   0Comillas\n",
       ":   0Concepción\n",
       ":   0Corralejos\n",
       ":   0Costillares\n",
       ":   0Cuatro Caminos\n",
       ":   0Cuatro Vientos\n",
       ":   0El Goloso\n",
       ":   0El Plantío\n",
       ":   0El Viso\n",
       ":   0Entrevías\n",
       ":   0Estrella\n",
       ":   0Fontarrón\n",
       ":   0Fuente del Berro\n",
       ":   0Fuentelareina\n",
       ":   0Gaztambide\n",
       ":   0Guindalera\n",
       ":   0Hellín\n",
       ":   0Hispanoamérica\n",
       ":   0Ibiza\n",
       ":   0Imperial\n",
       ":   0Jerónimos\n",
       ":   0Justicia\n",
       ":   0La Paz\n",
       ":   0Legazpi\n",
       ":   0Lista\n",
       ":   0Los Angeles\n",
       ":   0Los Rosales\n",
       ":   0Lucero\n",
       ":   0Marroquina\n",
       ":   0Media Legua\n",
       ":   0Mirasierra\n",
       ":   0Moscardó\n",
       ":   0Niño Jesús\n",
       ":   0Nueva España\n",
       ":   0Numancia\n",
       ":   0Opañel\n",
       ":   0Orcasitas\n",
       ":   0Orcasur\n",
       ":   0Pacífico\n",
       ":   0Palomas\n",
       ":   0Palomeras Bajas\n",
       ":   0Palomeras Sureste\n",
       ":   0Pavones\n",
       ":   0Peñagrande\n",
       ":   0Pilar\n",
       ":   0Pinar del Rey\n",
       ":   0Piovera\n",
       ":   0Portazgo\n",
       ":   0Pradolongo\n",
       ":   0Prosperidad\n",
       ":   0Pueblo Nuevo\n",
       ":   0Puerta Bonita\n",
       ":   0Puerta del Angel\n",
       ":   0(Other)\n",
       ":   0NA's\n",
       ":   441\n",
       "\n"
      ],
      "text/plain": [
       "                 Embajadores                          Sol \n",
       "                        1449                          301 \n",
       "                      Cortes              Palos de Moguer \n",
       "                         216                           46 \n",
       "                     Palacio                      Acacias \n",
       "                          27                           13 \n",
       "                 Universidad                     Arapiles \n",
       "                           4                            1 \n",
       "                      Atocha                     Delicias \n",
       "                           1                            1 \n",
       "                        Goya                     Abrantes \n",
       "                           1                            0 \n",
       "                     Adelfas                   Aeropuerto \n",
       "                           0                            0 \n",
       "                     Aguilas             Alameda de Osuna \n",
       "                           0                            0 \n",
       "                     Almagro                     Almenara \n",
       "                           0                            0 \n",
       "                 Almendrales                       Aluche \n",
       "                           0                            0 \n",
       "                      Ambroz                      Amposta \n",
       "                           0                            0 \n",
       "            Apostol Santiago                      Aravaca \n",
       "                           0                            0 \n",
       "                       Arcos                    Argüelles \n",
       "                           0                            0 \n",
       "               Bellas Vistas                   Berruguete \n",
       "                           0                            0 \n",
       "                  Buenavista                     Butarque \n",
       "                           0                            0 \n",
       "                  Campamento                     Canillas \n",
       "                           0                            0 \n",
       "                  Canillejas                     Cármenes \n",
       "                           0                            0 \n",
       "               Casa de Campo   Casco Histórico de Barajas \n",
       "                           0                            0 \n",
       " Casco Histórico de Vallecas Casco Histórico de Vicálvaro \n",
       "                           0                            0 \n",
       "                  Castellana                     Castilla \n",
       "                           0                            0 \n",
       "                 Castillejos                      Chopera \n",
       "                           0                            0 \n",
       "               Ciudad Jardín         Ciudad Universitaria \n",
       "                           0                            0 \n",
       "                      Colina                     Comillas \n",
       "                           0                            0 \n",
       "                  Concepción                   Corralejos \n",
       "                           0                            0 \n",
       "                 Costillares               Cuatro Caminos \n",
       "                           0                            0 \n",
       "              Cuatro Vientos                    El Goloso \n",
       "                           0                            0 \n",
       "                  El Plantío                      El Viso \n",
       "                           0                            0 \n",
       "                   Entrevías                     Estrella \n",
       "                           0                            0 \n",
       "                   Fontarrón             Fuente del Berro \n",
       "                           0                            0 \n",
       "               Fuentelareina                   Gaztambide \n",
       "                           0                            0 \n",
       "                  Guindalera                       Hellín \n",
       "                           0                            0 \n",
       "              Hispanoamérica                        Ibiza \n",
       "                           0                            0 \n",
       "                    Imperial                    Jerónimos \n",
       "                           0                            0 \n",
       "                    Justicia                       La Paz \n",
       "                           0                            0 \n",
       "                     Legazpi                        Lista \n",
       "                           0                            0 \n",
       "                 Los Angeles                  Los Rosales \n",
       "                           0                            0 \n",
       "                      Lucero                   Marroquina \n",
       "                           0                            0 \n",
       "                 Media Legua                   Mirasierra \n",
       "                           0                            0 \n",
       "                    Moscardó                   Niño Jesús \n",
       "                           0                            0 \n",
       "                Nueva España                     Numancia \n",
       "                           0                            0 \n",
       "                      Opañel                    Orcasitas \n",
       "                           0                            0 \n",
       "                     Orcasur                     Pacífico \n",
       "                           0                            0 \n",
       "                     Palomas              Palomeras Bajas \n",
       "                           0                            0 \n",
       "           Palomeras Sureste                      Pavones \n",
       "                           0                            0 \n",
       "                  Peñagrande                        Pilar \n",
       "                           0                            0 \n",
       "               Pinar del Rey                      Piovera \n",
       "                           0                            0 \n",
       "                    Portazgo                   Pradolongo \n",
       "                           0                            0 \n",
       "                 Prosperidad                 Pueblo Nuevo \n",
       "                           0                            0 \n",
       "               Puerta Bonita             Puerta del Angel \n",
       "                           0                            0 \n",
       "                     (Other)                         NA's \n",
       "                           0                          441 "
      ]
     },
     "metadata": {},
     "output_type": "display_data"
    }
   ],
   "source": [
    "summary(barriosEn28012$Barrio)"
   ]
  },
  {
   "cell_type": "markdown",
   "metadata": {},
   "source": [
    "¿Cuantos barrios hay en todo el dataset airbnb? ¿Cuales son?"
   ]
  },
  {
   "cell_type": "code",
   "execution_count": 15,
   "metadata": {},
   "outputs": [
    {
     "data": {
      "text/html": [
       "'Los barrios que hay en el dataset son: '"
      ],
      "text/latex": [
       "'Los barrios que hay en el dataset son: '"
      ],
      "text/markdown": [
       "'Los barrios que hay en el dataset son: '"
      ],
      "text/plain": [
       "[1] \"Los barrios que hay en el dataset son: \""
      ]
     },
     "metadata": {},
     "output_type": "display_data"
    },
    {
     "data": {
      "text/html": [
       "<style>\n",
       ".dl-inline {width: auto; margin:0; padding: 0}\n",
       ".dl-inline>dt, .dl-inline>dd {float: none; width: auto; display: inline-block}\n",
       ".dl-inline>dt::after {content: \":\\0020\"; padding-right: .5ex}\n",
       ".dl-inline>dt:not(:first-of-type) {padding-left: .5ex}\n",
       "</style><dl class=dl-inline><dt>Embajadores</dt><dd>1844</dd><dt>Universidad</dt><dd>1358</dd><dt>Palacio</dt><dd>1083</dd><dt>Sol</dt><dd>940</dd><dt>Justicia</dt><dd>785</dd><dt>Cortes</dt><dd>750</dd><dt>Trafalgar</dt><dd>315</dd><dt>Argüelles</dt><dd>264</dd><dt>Palos de Moguer</dt><dd>262</dd><dt>Goya</dt><dd>229</dd><dt>Puerta del Angel</dt><dd>199</dd><dt>Guindalera</dt><dd>187</dd><dt>Arapiles</dt><dd>182</dd><dt>Recoletos</dt><dd>172</dd><dt>Almagro</dt><dd>155</dd><dt>Acacias</dt><dd>145</dd><dt>Gaztambide</dt><dd>142</dd><dt>Pacífico</dt><dd>138</dd><dt>Lista</dt><dd>129</dd><dt>Delicias</dt><dd>126</dd><dt>Cuatro Caminos</dt><dd>120</dd><dt>Chopera</dt><dd>112</dd><dt>Ibiza</dt><dd>105</dd><dt>Rios Rosas</dt><dd>104</dd><dt>Prosperidad</dt><dd>98</dd><dt>Castellana</dt><dd>97</dd><dt>Jerónimos</dt><dd>90</dd><dt>Imperial</dt><dd>89</dd><dt>San Isidro</dt><dd>85</dd><dt>Castillejos</dt><dd>81</dd><dt>San Diego</dt><dd>80</dd><dt>Bellas Vistas</dt><dd>79</dd><dt>Ventas</dt><dd>78</dd><dt>Casa de Campo</dt><dd>75</dd><dt>Vista Alegre</dt><dd>74</dd><dt>Hispanoamérica</dt><dd>72</dd><dt>Fuente del Berro</dt><dd>68</dd><dt>Berruguete</dt><dd>67</dd><dt>Almenara</dt><dd>62</dd><dt>Lucero</dt><dd>62</dd><dt>Nueva España</dt><dd>60</dd><dt>Vallehermoso</dt><dd>60</dd><dt>Comillas</dt><dd>59</dd><dt>Numancia</dt><dd>58</dd><dt>Opañel</dt><dd>57</dd><dt>Ciudad Jardín</dt><dd>55</dd><dt>Valdefuentes</dt><dd>55</dd><dt>Adelfas</dt><dd>51</dd><dt>Valdeacederas</dt><dd>48</dd><dt>Pinar del Rey</dt><dd>47</dd><dt>Concepción</dt><dd>46</dd><dt>Almendrales</dt><dd>45</dd><dt>Aluche</dt><dd>45</dd><dt>El Viso</dt><dd>45</dd><dt>Quintana</dt><dd>45</dd><dt>Simancas</dt><dd>45</dd><dt>Valverde</dt><dd>45</dd><dt>Canillas</dt><dd>42</dd><dt>Pueblo Nuevo</dt><dd>41</dd><dt>Casco Histórico de Vallecas</dt><dd>40</dd><dt>Peñagrande</dt><dd>39</dd><dt>Puerta Bonita</dt><dd>38</dd><dt>Legazpi</dt><dd>37</dd><dt>Ciudad Universitaria</dt><dd>34</dd><dt>Moscardó</dt><dd>34</dd><dt>Palomeras Bajas</dt><dd>33</dd><dt>Costillares</dt><dd>32</dd><dt>San Fermín</dt><dd>32</dd><dt>Cármenes</dt><dd>30</dd><dt>Casco Histórico de Barajas</dt><dd>28</dd><dt>Estrella</dt><dd>28</dd><dt>Los Rosales</dt><dd>28</dd><dt>Castilla</dt><dd>26</dd><dt>Niño Jesús</dt><dd>26</dd><dt>Pilar</dt><dd>26</dd><dt>San Juan Bautista</dt><dd>26</dd><dt>Alameda de Osuna</dt><dd>24</dd><dt>Fontarrón</dt><dd>24</dd><dt>Buenavista</dt><dd>22</dd><dt>Campamento</dt><dd>22</dd><dt>San Andrés</dt><dd>21</dd><dt>Casco Histórico de Vicálvaro</dt><dd>20</dd><dt>Rejas</dt><dd>20</dd><dt>Valdezarza</dt><dd>20</dd><dt>Portazgo</dt><dd>19</dd><dt>Abrantes</dt><dd>18</dd><dt>Arcos</dt><dd>18</dd><dt>Atocha</dt><dd>18</dd><dt>Mirasierra</dt><dd>18</dd><dt>San Pascual</dt><dd>18</dd><dt>Media Legua</dt><dd>17</dd><dt>Vinateros</dt><dd>17</dd><dt>Aravaca</dt><dd>16</dd><dt>Colina</dt><dd>16</dd><dt>La Paz</dt><dd>16</dd><dt>Los Angeles</dt><dd>16</dd><dt>Timón</dt><dd>16</dd><dt>Aguilas</dt><dd>15</dd><dt>Apostol Santiago</dt><dd>15</dd><dt>(Other)</dt><dd>192</dd></dl>\n"
      ],
      "text/latex": [
       "\\begin{description*}\n",
       "\\item[Embajadores] 1844\n",
       "\\item[Universidad] 1358\n",
       "\\item[Palacio] 1083\n",
       "\\item[Sol] 940\n",
       "\\item[Justicia] 785\n",
       "\\item[Cortes] 750\n",
       "\\item[Trafalgar] 315\n",
       "\\item[Argüelles] 264\n",
       "\\item[Palos de Moguer] 262\n",
       "\\item[Goya] 229\n",
       "\\item[Puerta del Angel] 199\n",
       "\\item[Guindalera] 187\n",
       "\\item[Arapiles] 182\n",
       "\\item[Recoletos] 172\n",
       "\\item[Almagro] 155\n",
       "\\item[Acacias] 145\n",
       "\\item[Gaztambide] 142\n",
       "\\item[Pacífico] 138\n",
       "\\item[Lista] 129\n",
       "\\item[Delicias] 126\n",
       "\\item[Cuatro Caminos] 120\n",
       "\\item[Chopera] 112\n",
       "\\item[Ibiza] 105\n",
       "\\item[Rios Rosas] 104\n",
       "\\item[Prosperidad] 98\n",
       "\\item[Castellana] 97\n",
       "\\item[Jerónimos] 90\n",
       "\\item[Imperial] 89\n",
       "\\item[San Isidro] 85\n",
       "\\item[Castillejos] 81\n",
       "\\item[San Diego] 80\n",
       "\\item[Bellas Vistas] 79\n",
       "\\item[Ventas] 78\n",
       "\\item[Casa de Campo] 75\n",
       "\\item[Vista Alegre] 74\n",
       "\\item[Hispanoamérica] 72\n",
       "\\item[Fuente del Berro] 68\n",
       "\\item[Berruguete] 67\n",
       "\\item[Almenara] 62\n",
       "\\item[Lucero] 62\n",
       "\\item[Nueva España] 60\n",
       "\\item[Vallehermoso] 60\n",
       "\\item[Comillas] 59\n",
       "\\item[Numancia] 58\n",
       "\\item[Opañel] 57\n",
       "\\item[Ciudad Jardín] 55\n",
       "\\item[Valdefuentes] 55\n",
       "\\item[Adelfas] 51\n",
       "\\item[Valdeacederas] 48\n",
       "\\item[Pinar del Rey] 47\n",
       "\\item[Concepción] 46\n",
       "\\item[Almendrales] 45\n",
       "\\item[Aluche] 45\n",
       "\\item[El Viso] 45\n",
       "\\item[Quintana] 45\n",
       "\\item[Simancas] 45\n",
       "\\item[Valverde] 45\n",
       "\\item[Canillas] 42\n",
       "\\item[Pueblo Nuevo] 41\n",
       "\\item[Casco Histórico de Vallecas] 40\n",
       "\\item[Peñagrande] 39\n",
       "\\item[Puerta Bonita] 38\n",
       "\\item[Legazpi] 37\n",
       "\\item[Ciudad Universitaria] 34\n",
       "\\item[Moscardó] 34\n",
       "\\item[Palomeras Bajas] 33\n",
       "\\item[Costillares] 32\n",
       "\\item[San Fermín] 32\n",
       "\\item[Cármenes] 30\n",
       "\\item[Casco Histórico de Barajas] 28\n",
       "\\item[Estrella] 28\n",
       "\\item[Los Rosales] 28\n",
       "\\item[Castilla] 26\n",
       "\\item[Niño Jesús] 26\n",
       "\\item[Pilar] 26\n",
       "\\item[San Juan Bautista] 26\n",
       "\\item[Alameda de Osuna] 24\n",
       "\\item[Fontarrón] 24\n",
       "\\item[Buenavista] 22\n",
       "\\item[Campamento] 22\n",
       "\\item[San Andrés] 21\n",
       "\\item[Casco Histórico de Vicálvaro] 20\n",
       "\\item[Rejas] 20\n",
       "\\item[Valdezarza] 20\n",
       "\\item[Portazgo] 19\n",
       "\\item[Abrantes] 18\n",
       "\\item[Arcos] 18\n",
       "\\item[Atocha] 18\n",
       "\\item[Mirasierra] 18\n",
       "\\item[San Pascual] 18\n",
       "\\item[Media Legua] 17\n",
       "\\item[Vinateros] 17\n",
       "\\item[Aravaca] 16\n",
       "\\item[Colina] 16\n",
       "\\item[La Paz] 16\n",
       "\\item[Los Angeles] 16\n",
       "\\item[Timón] 16\n",
       "\\item[Aguilas] 15\n",
       "\\item[Apostol Santiago] 15\n",
       "\\item[(Other)] 192\n",
       "\\end{description*}\n"
      ],
      "text/markdown": [
       "Embajadores\n",
       ":   1844Universidad\n",
       ":   1358Palacio\n",
       ":   1083Sol\n",
       ":   940Justicia\n",
       ":   785Cortes\n",
       ":   750Trafalgar\n",
       ":   315Argüelles\n",
       ":   264Palos de Moguer\n",
       ":   262Goya\n",
       ":   229Puerta del Angel\n",
       ":   199Guindalera\n",
       ":   187Arapiles\n",
       ":   182Recoletos\n",
       ":   172Almagro\n",
       ":   155Acacias\n",
       ":   145Gaztambide\n",
       ":   142Pacífico\n",
       ":   138Lista\n",
       ":   129Delicias\n",
       ":   126Cuatro Caminos\n",
       ":   120Chopera\n",
       ":   112Ibiza\n",
       ":   105Rios Rosas\n",
       ":   104Prosperidad\n",
       ":   98Castellana\n",
       ":   97Jerónimos\n",
       ":   90Imperial\n",
       ":   89San Isidro\n",
       ":   85Castillejos\n",
       ":   81San Diego\n",
       ":   80Bellas Vistas\n",
       ":   79Ventas\n",
       ":   78Casa de Campo\n",
       ":   75Vista Alegre\n",
       ":   74Hispanoamérica\n",
       ":   72Fuente del Berro\n",
       ":   68Berruguete\n",
       ":   67Almenara\n",
       ":   62Lucero\n",
       ":   62Nueva España\n",
       ":   60Vallehermoso\n",
       ":   60Comillas\n",
       ":   59Numancia\n",
       ":   58Opañel\n",
       ":   57Ciudad Jardín\n",
       ":   55Valdefuentes\n",
       ":   55Adelfas\n",
       ":   51Valdeacederas\n",
       ":   48Pinar del Rey\n",
       ":   47Concepción\n",
       ":   46Almendrales\n",
       ":   45Aluche\n",
       ":   45El Viso\n",
       ":   45Quintana\n",
       ":   45Simancas\n",
       ":   45Valverde\n",
       ":   45Canillas\n",
       ":   42Pueblo Nuevo\n",
       ":   41Casco Histórico de Vallecas\n",
       ":   40Peñagrande\n",
       ":   39Puerta Bonita\n",
       ":   38Legazpi\n",
       ":   37Ciudad Universitaria\n",
       ":   34Moscardó\n",
       ":   34Palomeras Bajas\n",
       ":   33Costillares\n",
       ":   32San Fermín\n",
       ":   32Cármenes\n",
       ":   30Casco Histórico de Barajas\n",
       ":   28Estrella\n",
       ":   28Los Rosales\n",
       ":   28Castilla\n",
       ":   26Niño Jesús\n",
       ":   26Pilar\n",
       ":   26San Juan Bautista\n",
       ":   26Alameda de Osuna\n",
       ":   24Fontarrón\n",
       ":   24Buenavista\n",
       ":   22Campamento\n",
       ":   22San Andrés\n",
       ":   21Casco Histórico de Vicálvaro\n",
       ":   20Rejas\n",
       ":   20Valdezarza\n",
       ":   20Portazgo\n",
       ":   19Abrantes\n",
       ":   18Arcos\n",
       ":   18Atocha\n",
       ":   18Mirasierra\n",
       ":   18San Pascual\n",
       ":   18Media Legua\n",
       ":   17Vinateros\n",
       ":   17Aravaca\n",
       ":   16Colina\n",
       ":   16La Paz\n",
       ":   16Los Angeles\n",
       ":   16Timón\n",
       ":   16Aguilas\n",
       ":   15Apostol Santiago\n",
       ":   15(Other)\n",
       ":   192\n",
       "\n"
      ],
      "text/plain": [
       "                 Embajadores                  Universidad \n",
       "                        1844                         1358 \n",
       "                     Palacio                          Sol \n",
       "                        1083                          940 \n",
       "                    Justicia                       Cortes \n",
       "                         785                          750 \n",
       "                   Trafalgar                    Argüelles \n",
       "                         315                          264 \n",
       "             Palos de Moguer                         Goya \n",
       "                         262                          229 \n",
       "            Puerta del Angel                   Guindalera \n",
       "                         199                          187 \n",
       "                    Arapiles                    Recoletos \n",
       "                         182                          172 \n",
       "                     Almagro                      Acacias \n",
       "                         155                          145 \n",
       "                  Gaztambide                     Pacífico \n",
       "                         142                          138 \n",
       "                       Lista                     Delicias \n",
       "                         129                          126 \n",
       "              Cuatro Caminos                      Chopera \n",
       "                         120                          112 \n",
       "                       Ibiza                   Rios Rosas \n",
       "                         105                          104 \n",
       "                 Prosperidad                   Castellana \n",
       "                          98                           97 \n",
       "                   Jerónimos                     Imperial \n",
       "                          90                           89 \n",
       "                  San Isidro                  Castillejos \n",
       "                          85                           81 \n",
       "                   San Diego                Bellas Vistas \n",
       "                          80                           79 \n",
       "                      Ventas                Casa de Campo \n",
       "                          78                           75 \n",
       "                Vista Alegre               Hispanoamérica \n",
       "                          74                           72 \n",
       "            Fuente del Berro                   Berruguete \n",
       "                          68                           67 \n",
       "                    Almenara                       Lucero \n",
       "                          62                           62 \n",
       "                Nueva España                 Vallehermoso \n",
       "                          60                           60 \n",
       "                    Comillas                     Numancia \n",
       "                          59                           58 \n",
       "                      Opañel                Ciudad Jardín \n",
       "                          57                           55 \n",
       "                Valdefuentes                      Adelfas \n",
       "                          55                           51 \n",
       "               Valdeacederas                Pinar del Rey \n",
       "                          48                           47 \n",
       "                  Concepción                  Almendrales \n",
       "                          46                           45 \n",
       "                      Aluche                      El Viso \n",
       "                          45                           45 \n",
       "                    Quintana                     Simancas \n",
       "                          45                           45 \n",
       "                    Valverde                     Canillas \n",
       "                          45                           42 \n",
       "                Pueblo Nuevo  Casco Histórico de Vallecas \n",
       "                          41                           40 \n",
       "                  Peñagrande                Puerta Bonita \n",
       "                          39                           38 \n",
       "                     Legazpi         Ciudad Universitaria \n",
       "                          37                           34 \n",
       "                    Moscardó              Palomeras Bajas \n",
       "                          34                           33 \n",
       "                 Costillares                   San Fermín \n",
       "                          32                           32 \n",
       "                    Cármenes   Casco Histórico de Barajas \n",
       "                          30                           28 \n",
       "                    Estrella                  Los Rosales \n",
       "                          28                           28 \n",
       "                    Castilla                   Niño Jesús \n",
       "                          26                           26 \n",
       "                       Pilar            San Juan Bautista \n",
       "                          26                           26 \n",
       "            Alameda de Osuna                    Fontarrón \n",
       "                          24                           24 \n",
       "                  Buenavista                   Campamento \n",
       "                          22                           22 \n",
       "                  San Andrés Casco Histórico de Vicálvaro \n",
       "                          21                           20 \n",
       "                       Rejas                   Valdezarza \n",
       "                          20                           20 \n",
       "                    Portazgo                     Abrantes \n",
       "                          19                           18 \n",
       "                       Arcos                       Atocha \n",
       "                          18                           18 \n",
       "                  Mirasierra                  San Pascual \n",
       "                          18                           18 \n",
       "                 Media Legua                    Vinateros \n",
       "                          17                           17 \n",
       "                     Aravaca                       Colina \n",
       "                          16                           16 \n",
       "                      La Paz                  Los Angeles \n",
       "                          16                           16 \n",
       "                       Timón                      Aguilas \n",
       "                          16                           15 \n",
       "            Apostol Santiago                      (Other) \n",
       "                          15                          192 "
      ]
     },
     "metadata": {},
     "output_type": "display_data"
    }
   ],
   "source": [
    "paste(\"Los barrios que hay en el dataset son: \")\n",
    "summary(airbnb$Barrio)"
   ]
  },
  {
   "cell_type": "markdown",
   "metadata": {},
   "source": [
    "¿Cuales son los 5 barrios que tienen mayor número entradas?"
   ]
  },
  {
   "cell_type": "code",
   "execution_count": 16,
   "metadata": {},
   "outputs": [
    {
     "data": {
      "text/html": [
       "<style>\n",
       ".dl-inline {width: auto; margin:0; padding: 0}\n",
       ".dl-inline>dt, .dl-inline>dd {float: none; width: auto; display: inline-block}\n",
       ".dl-inline>dt::after {content: \":\\0020\"; padding-right: .5ex}\n",
       ".dl-inline>dt:not(:first-of-type) {padding-left: .5ex}\n",
       "</style><dl class=dl-inline><dt>Embajadores</dt><dd>1844</dd><dt>Universidad</dt><dd>1358</dd><dt>Palacio</dt><dd>1083</dd><dt>Sol</dt><dd>940</dd><dt>Justicia</dt><dd>785</dd><dt>(Other)</dt><dd>7197</dd></dl>\n"
      ],
      "text/latex": [
       "\\begin{description*}\n",
       "\\item[Embajadores] 1844\n",
       "\\item[Universidad] 1358\n",
       "\\item[Palacio] 1083\n",
       "\\item[Sol] 940\n",
       "\\item[Justicia] 785\n",
       "\\item[(Other)] 7197\n",
       "\\end{description*}\n"
      ],
      "text/markdown": [
       "Embajadores\n",
       ":   1844Universidad\n",
       ":   1358Palacio\n",
       ":   1083Sol\n",
       ":   940Justicia\n",
       ":   785(Other)\n",
       ":   7197\n",
       "\n"
      ],
      "text/plain": [
       "Embajadores Universidad     Palacio         Sol    Justicia     (Other) \n",
       "       1844        1358        1083         940         785        7197 "
      ]
     },
     "metadata": {},
     "output_type": "display_data"
    }
   ],
   "source": [
    "#Para un mejor reflejo de lo que supone cada barrio se opta por maxsum 6\n",
    "summary(airbnb$Barrio, maxsum=6)"
   ]
  },
  {
   "cell_type": "markdown",
   "metadata": {},
   "source": [
    "¿Cuantos Tipos de Alquiler diferentes hay? ¿Cuales son? ¿Cuantas entradas en el dataframe hay por cada tipo?"
   ]
  },
  {
   "cell_type": "code",
   "execution_count": 17,
   "metadata": {},
   "outputs": [
    {
     "data": {
      "text/html": [
       "<style>\n",
       ".dl-inline {width: auto; margin:0; padding: 0}\n",
       ".dl-inline>dt, .dl-inline>dd {float: none; width: auto; display: inline-block}\n",
       ".dl-inline>dt::after {content: \":\\0020\"; padding-right: .5ex}\n",
       ".dl-inline>dt:not(:first-of-type) {padding-left: .5ex}\n",
       "</style><dl class=dl-inline><dt>Entire home/apt</dt><dd>7903</dd><dt>Private room</dt><dd>5113</dd><dt>Shared room</dt><dd>191</dd></dl>\n"
      ],
      "text/latex": [
       "\\begin{description*}\n",
       "\\item[Entire home/apt] 7903\n",
       "\\item[Private room] 5113\n",
       "\\item[Shared room] 191\n",
       "\\end{description*}\n"
      ],
      "text/markdown": [
       "Entire home/apt\n",
       ":   7903Private room\n",
       ":   5113Shared room\n",
       ":   191\n",
       "\n"
      ],
      "text/plain": [
       "Entire home/apt    Private room     Shared room \n",
       "           7903            5113             191 "
      ]
     },
     "metadata": {},
     "output_type": "display_data"
    }
   ],
   "source": [
    "summary(airbnb$TipoAlquiler)"
   ]
  },
  {
   "cell_type": "markdown",
   "metadata": {},
   "source": [
    "Muestra el diagrama de cajas del precio para cada uno de los diferentes Tipos de Alquiler"
   ]
  },
  {
   "cell_type": "code",
   "execution_count": 18,
   "metadata": {},
   "outputs": [
    {
     "name": "stderr",
     "output_type": "stream",
     "text": [
      "Warning message:\n",
      "“Removed 9 rows containing non-finite values (stat_boxplot).”\n"
     ]
    },
    {
     "data": {
      "image/png": "[encoded data removed]",
      "text/plain": [
       "plot without title"
      ]
     },
     "metadata": {
      "image/png": {
       "height": 240,
       "width": 360
      },
      "text/plain": {
       "height": 240,
       "width": 360
      }
     },
     "output_type": "display_data"
    }
   ],
   "source": [
    "ggplot(data=airbnb,aes(x=TipoAlquiler, y=Precio,color=TipoAlquiler))+geom_boxplot()+\n",
    " scale_color_discrete(name=\"Tipo de Alquiler\")+ylab(\"Precio\")+xlab(\"Tipo de Alquiler\")"
   ]
  },
  {
   "cell_type": "markdown",
   "metadata": {},
   "source": [
    "Cual es el precio medio de alquiler de cada uno, la diferencia que hay ¿es estadísticamente significativa?\n",
    "¿Con que test lo comprobarías?"
   ]
  },
  {
   "cell_type": "code",
   "execution_count": 19,
   "metadata": {},
   "outputs": [
    {
     "data": {
      "text/html": [
       "<span style=white-space:pre-wrap>'El precio medio de alquiler por Entire home/apt es:  87.2966058763931'</span>"
      ],
      "text/latex": [
       "'El precio medio de alquiler por Entire home/apt es:  87.2966058763931'"
      ],
      "text/markdown": [
       "<span style=white-space:pre-wrap>'El precio medio de alquiler por Entire home/apt es:  87.2966058763931'</span>"
      ],
      "text/plain": [
       "[1] \"El precio medio de alquiler por Entire home/apt es:  87.2966058763931\""
      ]
     },
     "metadata": {},
     "output_type": "display_data"
    },
    {
     "data": {
      "text/html": [
       "<span style=white-space:pre-wrap>'El precio medio de alquiler por Private room es:  34.255135981217'</span>"
      ],
      "text/latex": [
       "'El precio medio de alquiler por Private room es:  34.255135981217'"
      ],
      "text/markdown": [
       "<span style=white-space:pre-wrap>'El precio medio de alquiler por Private room es:  34.255135981217'</span>"
      ],
      "text/plain": [
       "[1] \"El precio medio de alquiler por Private room es:  34.255135981217\""
      ]
     },
     "metadata": {},
     "output_type": "display_data"
    },
    {
     "data": {
      "text/html": [
       "<span style=white-space:pre-wrap>'El precio medio de alquiler por Shared room es:  29.8534031413613'</span>"
      ],
      "text/latex": [
       "'El precio medio de alquiler por Shared room es:  29.8534031413613'"
      ],
      "text/markdown": [
       "<span style=white-space:pre-wrap>'El precio medio de alquiler por Shared room es:  29.8534031413613'</span>"
      ],
      "text/plain": [
       "[1] \"El precio medio de alquiler por Shared room es:  29.8534031413613\""
      ]
     },
     "metadata": {},
     "output_type": "display_data"
    }
   ],
   "source": [
    "airbnb_entire <- airbnb[airbnb$TipoAlquiler==\"Entire home/apt\",]\n",
    "airbnb_private <- airbnb[airbnb$TipoAlquiler==\"Private room\",]\n",
    "airbnb_shared <- airbnb[airbnb$TipoAlquiler==\"Shared room\",]\n",
    "paste(\"El precio medio de alquiler por Entire home/apt es: \", mean(airbnb_entire$Precio, na.rm=TRUE))\n",
    "paste(\"El precio medio de alquiler por Private room es: \", mean(airbnb_private$Precio, na.rm=TRUE))\n",
    "paste(\"El precio medio de alquiler por Shared room es: \", mean(airbnb_shared$Precio, na.rm=TRUE))"
   ]
  },
  {
   "cell_type": "markdown",
   "metadata": {},
   "source": [
    "Filtra el dataframe cuyos tipo de alquiler sea  'Entire home/apt' y guardalo en un dataframe llamado \n",
    "*airbnb_entire*.\n",
    "Estas serán las entradas que tienen un alquiler del piso completo."
   ]
  },
  {
   "cell_type": "code",
   "execution_count": 20,
   "metadata": {},
   "outputs": [
    {
     "data": {
      "text/html": [
       "<style>\n",
       ".dl-inline {width: auto; margin:0; padding: 0}\n",
       ".dl-inline>dt, .dl-inline>dd {float: none; width: auto; display: inline-block}\n",
       ".dl-inline>dt::after {content: \":\\0020\"; padding-right: .5ex}\n",
       ".dl-inline>dt:not(:first-of-type) {padding-left: .5ex}\n",
       "</style><dl class=dl-inline><dt>Entire home/apt</dt><dd>7903</dd><dt>Private room</dt><dd>0</dd><dt>Shared room</dt><dd>0</dd></dl>\n"
      ],
      "text/latex": [
       "\\begin{description*}\n",
       "\\item[Entire home/apt] 7903\n",
       "\\item[Private room] 0\n",
       "\\item[Shared room] 0\n",
       "\\end{description*}\n"
      ],
      "text/markdown": [
       "Entire home/apt\n",
       ":   7903Private room\n",
       ":   0Shared room\n",
       ":   0\n",
       "\n"
      ],
      "text/plain": [
       "Entire home/apt    Private room     Shared room \n",
       "           7903               0               0 "
      ]
     },
     "metadata": {},
     "output_type": "display_data"
    }
   ],
   "source": [
    "#Realizado arriba\n",
    "summary(airbnb_entire$TipoAlquiler)"
   ]
  },
  {
   "cell_type": "markdown",
   "metadata": {},
   "source": [
    "¿Cuales son los 5 barrios que tienen un mayor número de apartamentos enteros en alquiler?\n",
    "Nota: Mirar solo en airbnb_entire"
   ]
  },
  {
   "cell_type": "code",
   "execution_count": 21,
   "metadata": {},
   "outputs": [
    {
     "data": {
      "text/html": [
       "<style>\n",
       ".dl-inline {width: auto; margin:0; padding: 0}\n",
       ".dl-inline>dt, .dl-inline>dd {float: none; width: auto; display: inline-block}\n",
       ".dl-inline>dt::after {content: \":\\0020\"; padding-right: .5ex}\n",
       ".dl-inline>dt:not(:first-of-type) {padding-left: .5ex}\n",
       "</style><dl class=dl-inline><dt>Embajadores</dt><dd>1228</dd><dt>Universidad</dt><dd>984</dd><dt>Palacio</dt><dd>769</dd><dt>Sol</dt><dd>701</dd><dt>Cortes</dt><dd>574</dd><dt>(Other)</dt><dd>3647</dd></dl>\n"
      ],
      "text/latex": [
       "\\begin{description*}\n",
       "\\item[Embajadores] 1228\n",
       "\\item[Universidad] 984\n",
       "\\item[Palacio] 769\n",
       "\\item[Sol] 701\n",
       "\\item[Cortes] 574\n",
       "\\item[(Other)] 3647\n",
       "\\end{description*}\n"
      ],
      "text/markdown": [
       "Embajadores\n",
       ":   1228Universidad\n",
       ":   984Palacio\n",
       ":   769Sol\n",
       ":   701Cortes\n",
       ":   574(Other)\n",
       ":   3647\n",
       "\n"
      ],
      "text/plain": [
       "Embajadores Universidad     Palacio         Sol      Cortes     (Other) \n",
       "       1228         984         769         701         574        3647 "
      ]
     },
     "metadata": {},
     "output_type": "display_data"
    }
   ],
   "source": [
    "#Se usa maxsum 6 para reflejar la proporción que queda fuera\n",
    "summary(airbnb_entire$Barrio, maxsum=6)"
   ]
  },
  {
   "cell_type": "markdown",
   "metadata": {},
   "source": [
    "¿Cuales son los 5 barrios que tienen un mayor precio medio de alquiler para apartamentos enteros?\n",
    "\n",
    "¿Cual es su precio medio?\n",
    "\n",
    "Ayuda: Usa la función aggregate `aggregate(.~colname,df,mean,na.rm=TRUE)`"
   ]
  },
  {
   "cell_type": "code",
   "execution_count": 22,
   "metadata": {},
   "outputs": [],
   "source": [
    "resultado_aggregate <- aggregate(.~Barrio,airbnb_entire,mean,na.rm=TRUE)"
   ]
  },
  {
   "cell_type": "code",
   "execution_count": 23,
   "metadata": {},
   "outputs": [
    {
     "data": {
      "text/html": [
       "<table class=\"dataframe\">\n",
       "<caption>A data.frame: 5 × 14</caption>\n",
       "<thead>\n",
       "\t<tr><th></th><th scope=col>Barrio</th><th scope=col>CodigoPostal</th><th scope=col>TipoPropiedad</th><th scope=col>TipoAlquiler</th><th scope=col>MaxOcupantes</th><th scope=col>NumBanyos</th><th scope=col>NumDormitorios</th><th scope=col>NumCamas</th><th scope=col>TipoCama</th><th scope=col>Comodidades</th><th scope=col>PiesCuadrados</th><th scope=col>Precio</th><th scope=col>Puntuacion</th><th scope=col>MetrosCuadrados</th></tr>\n",
       "\t<tr><th></th><th scope=col>&lt;fct&gt;</th><th scope=col>&lt;dbl&gt;</th><th scope=col>&lt;dbl&gt;</th><th scope=col>&lt;dbl&gt;</th><th scope=col>&lt;dbl&gt;</th><th scope=col>&lt;dbl&gt;</th><th scope=col>&lt;dbl&gt;</th><th scope=col>&lt;dbl&gt;</th><th scope=col>&lt;dbl&gt;</th><th scope=col>&lt;dbl&gt;</th><th scope=col>&lt;dbl&gt;</th><th scope=col>&lt;dbl&gt;</th><th scope=col>&lt;dbl&gt;</th><th scope=col>&lt;dbl&gt;</th></tr>\n",
       "</thead>\n",
       "<tbody>\n",
       "\t<tr><th scope=row>29</th><td>Jerónimos    </td><td>17.5</td><td> 1</td><td>1</td><td>10</td><td>3.5</td><td>3</td><td> 7.5</td><td>5</td><td>4758.5</td><td>2933.5</td><td>230</td><td>94.5</td><td>272.53095</td></tr>\n",
       "\t<tr><th scope=row>14</th><td>Castellana   </td><td>10.0</td><td> 1</td><td>1</td><td> 4</td><td>2.0</td><td>2</td><td> 4.0</td><td>5</td><td>1543.0</td><td>1184.0</td><td>190</td><td>93.0</td><td>109.99715</td></tr>\n",
       "\t<tr><th scope=row>3</th><td>Almagro      </td><td>21.0</td><td> 1</td><td>1</td><td> 6</td><td>2.0</td><td>4</td><td> 4.0</td><td>5</td><td>6401.0</td><td>   0.0</td><td>185</td><td>91.0</td><td>  0.00000</td></tr>\n",
       "\t<tr><th scope=row>28</th><td>Guindalera   </td><td>39.0</td><td> 1</td><td>1</td><td> 6</td><td>2.0</td><td>3</td><td> 4.0</td><td>5</td><td>1735.0</td><td>1711.0</td><td>180</td><td>91.0</td><td>158.95703</td></tr>\n",
       "\t<tr><th scope=row>42</th><td>Pinar del Rey</td><td>55.0</td><td>15</td><td>1</td><td>12</td><td>3.0</td><td>4</td><td>12.0</td><td>5</td><td>4669.0</td><td> 108.0</td><td>155</td><td>74.0</td><td> 10.03352</td></tr>\n",
       "</tbody>\n",
       "</table>\n"
      ],
      "text/latex": [
       "A data.frame: 5 × 14\n",
       "\\begin{tabular}{r|llllllllllllll}\n",
       "  & Barrio & CodigoPostal & TipoPropiedad & TipoAlquiler & MaxOcupantes & NumBanyos & NumDormitorios & NumCamas & TipoCama & Comodidades & PiesCuadrados & Precio & Puntuacion & MetrosCuadrados\\\\\n",
       "  & <fct> & <dbl> & <dbl> & <dbl> & <dbl> & <dbl> & <dbl> & <dbl> & <dbl> & <dbl> & <dbl> & <dbl> & <dbl> & <dbl>\\\\\n",
       "\\hline\n",
       "\t29 & Jerónimos     & 17.5 &  1 & 1 & 10 & 3.5 & 3 &  7.5 & 5 & 4758.5 & 2933.5 & 230 & 94.5 & 272.53095\\\\\n",
       "\t14 & Castellana    & 10.0 &  1 & 1 &  4 & 2.0 & 2 &  4.0 & 5 & 1543.0 & 1184.0 & 190 & 93.0 & 109.99715\\\\\n",
       "\t3 & Almagro       & 21.0 &  1 & 1 &  6 & 2.0 & 4 &  4.0 & 5 & 6401.0 &    0.0 & 185 & 91.0 &   0.00000\\\\\n",
       "\t28 & Guindalera    & 39.0 &  1 & 1 &  6 & 2.0 & 3 &  4.0 & 5 & 1735.0 & 1711.0 & 180 & 91.0 & 158.95703\\\\\n",
       "\t42 & Pinar del Rey & 55.0 & 15 & 1 & 12 & 3.0 & 4 & 12.0 & 5 & 4669.0 &  108.0 & 155 & 74.0 &  10.03352\\\\\n",
       "\\end{tabular}\n"
      ],
      "text/markdown": [
       "\n",
       "A data.frame: 5 × 14\n",
       "\n",
       "| <!--/--> | Barrio &lt;fct&gt; | CodigoPostal &lt;dbl&gt; | TipoPropiedad &lt;dbl&gt; | TipoAlquiler &lt;dbl&gt; | MaxOcupantes &lt;dbl&gt; | NumBanyos &lt;dbl&gt; | NumDormitorios &lt;dbl&gt; | NumCamas &lt;dbl&gt; | TipoCama &lt;dbl&gt; | Comodidades &lt;dbl&gt; | PiesCuadrados &lt;dbl&gt; | Precio &lt;dbl&gt; | Puntuacion &lt;dbl&gt; | MetrosCuadrados &lt;dbl&gt; |\n",
       "|---|---|---|---|---|---|---|---|---|---|---|---|---|---|---|\n",
       "| 29 | Jerónimos     | 17.5 |  1 | 1 | 10 | 3.5 | 3 |  7.5 | 5 | 4758.5 | 2933.5 | 230 | 94.5 | 272.53095 |\n",
       "| 14 | Castellana    | 10.0 |  1 | 1 |  4 | 2.0 | 2 |  4.0 | 5 | 1543.0 | 1184.0 | 190 | 93.0 | 109.99715 |\n",
       "| 3 | Almagro       | 21.0 |  1 | 1 |  6 | 2.0 | 4 |  4.0 | 5 | 6401.0 |    0.0 | 185 | 91.0 |   0.00000 |\n",
       "| 28 | Guindalera    | 39.0 |  1 | 1 |  6 | 2.0 | 3 |  4.0 | 5 | 1735.0 | 1711.0 | 180 | 91.0 | 158.95703 |\n",
       "| 42 | Pinar del Rey | 55.0 | 15 | 1 | 12 | 3.0 | 4 | 12.0 | 5 | 4669.0 |  108.0 | 155 | 74.0 |  10.03352 |\n",
       "\n"
      ],
      "text/plain": [
       "   Barrio        CodigoPostal TipoPropiedad TipoAlquiler MaxOcupantes NumBanyos\n",
       "29 Jerónimos     17.5          1            1            10           3.5      \n",
       "14 Castellana    10.0          1            1             4           2.0      \n",
       "3  Almagro       21.0          1            1             6           2.0      \n",
       "28 Guindalera    39.0          1            1             6           2.0      \n",
       "42 Pinar del Rey 55.0         15            1            12           3.0      \n",
       "   NumDormitorios NumCamas TipoCama Comodidades PiesCuadrados Precio Puntuacion\n",
       "29 3               7.5     5        4758.5      2933.5        230    94.5      \n",
       "14 2               4.0     5        1543.0      1184.0        190    93.0      \n",
       "3  4               4.0     5        6401.0         0.0        185    91.0      \n",
       "28 3               4.0     5        1735.0      1711.0        180    91.0      \n",
       "42 4              12.0     5        4669.0       108.0        155    74.0      \n",
       "   MetrosCuadrados\n",
       "29 272.53095      \n",
       "14 109.99715      \n",
       "3    0.00000      \n",
       "28 158.95703      \n",
       "42  10.03352      "
      ]
     },
     "metadata": {},
     "output_type": "display_data"
    }
   ],
   "source": [
    "r_a_PrecioMedio <- resultado_aggregate[order(resultado_aggregate$Precio, decreasing = T),]\n",
    "r_a_PrecioMedio[1:5, ]"
   ]
  },
  {
   "cell_type": "markdown",
   "metadata": {},
   "source": [
    "¿Cuantos apartamentos hay en cada uno de esos barrios?\n",
    "\n",
    "Mostrar una dataframe con el nombre del barrio, el precio y el número de entradas.\n",
    "\n",
    "Ayuda: Podeis crear un nuevo dataframe con las columnas \"Barrio\" y \"Freq\" que contenga el número de entradas en cada barrio y hacer un merge con el dataframe del punto anterior."
   ]
  },
  {
   "cell_type": "code",
   "execution_count": 24,
   "metadata": {},
   "outputs": [],
   "source": [
    "PrecioMedio<-aggregate(. ~ Barrio, airbnb_entire[c(\"Barrio\",\"Precio\")], mean,na.rm=TRUE)\n",
    "ApartPorBarrios<-data.frame(table(airbnb_entire$Barrio))\n",
    "colnames(ApartPorBarrios)<-c(\"Barrio\",\"Freq\")\n",
    "AxBPrecioMedio<-merge(ApartPorBarrios,PrecioMedio,by=\"Barrio\")\n",
    "AxBPrecioMedio<-AxBPrecioMedio[order(AxBPrecioMedio$Precio,decreasing = T),]"
   ]
  },
  {
   "cell_type": "code",
   "execution_count": 25,
   "metadata": {},
   "outputs": [
    {
     "data": {
      "text/html": [
       "<table class=\"dataframe\">\n",
       "<caption>A data.frame: 119 × 3</caption>\n",
       "<thead>\n",
       "\t<tr><th></th><th scope=col>Barrio</th><th scope=col>Freq</th><th scope=col>Precio</th></tr>\n",
       "\t<tr><th></th><th scope=col>&lt;fct&gt;</th><th scope=col>&lt;int&gt;</th><th scope=col>&lt;dbl&gt;</th></tr>\n",
       "</thead>\n",
       "<tbody>\n",
       "\t<tr><th scope=row>77</th><td>Palomas                   </td><td>  4</td><td>309.75000</td></tr>\n",
       "\t<tr><th scope=row>50</th><td>Fuentelareina             </td><td>  2</td><td>180.00000</td></tr>\n",
       "\t<tr><th scope=row>93</th><td>Recoletos                 </td><td>135</td><td>161.92537</td></tr>\n",
       "\t<tr><th scope=row>43</th><td>El Plantío                </td><td>  1</td><td>150.00000</td></tr>\n",
       "\t<tr><th scope=row>30</th><td>Castellana                </td><td> 73</td><td>141.38889</td></tr>\n",
       "\t<tr><th scope=row>27</th><td>Casco Histórico de Barajas</td><td>  8</td><td>141.25000</td></tr>\n",
       "\t<tr><th scope=row>6</th><td>Alameda de Osuna          </td><td>  4</td><td>138.75000</td></tr>\n",
       "\t<tr><th scope=row>35</th><td>Ciudad Universitaria      </td><td> 13</td><td>138.30769</td></tr>\n",
       "\t<tr><th scope=row>58</th><td>Jerónimos                 </td><td> 62</td><td>131.82258</td></tr>\n",
       "\t<tr><th scope=row>82</th><td>Peñagrande                </td><td> 11</td><td>127.63636</td></tr>\n",
       "\t<tr><th scope=row>71</th><td>Nueva España              </td><td> 42</td><td>127.30952</td></tr>\n",
       "\t<tr><th scope=row>52</th><td>Goya                      </td><td>142</td><td>111.33803</td></tr>\n",
       "\t<tr><th scope=row>7</th><td>Almagro                   </td><td> 97</td><td>109.18557</td></tr>\n",
       "\t<tr><th scope=row>23</th><td>Canillas                  </td><td> 15</td><td>105.80000</td></tr>\n",
       "\t<tr><th scope=row>55</th><td>Hispanoamérica            </td><td> 52</td><td>104.44231</td></tr>\n",
       "\t<tr><th scope=row>56</th><td>Ibiza                     </td><td> 64</td><td>102.62500</td></tr>\n",
       "\t<tr><th scope=row>117</th><td>Vinateros                 </td><td>  2</td><td>102.50000</td></tr>\n",
       "\t<tr><th scope=row>68</th><td>Mirasierra                </td><td>  7</td><td>101.28571</td></tr>\n",
       "\t<tr><th scope=row>106</th><td>Sol                       </td><td>701</td><td>100.75036</td></tr>\n",
       "\t<tr><th scope=row>15</th><td>Arcos                     </td><td>  4</td><td>100.50000</td></tr>\n",
       "\t<tr><th scope=row>26</th><td>Casa de Campo             </td><td> 41</td><td> 98.85366</td></tr>\n",
       "\t<tr><th scope=row>108</th><td>Trafalgar                 </td><td>223</td><td> 98.57848</td></tr>\n",
       "\t<tr><th scope=row>59</th><td>Justicia                  </td><td>534</td><td> 98.25468</td></tr>\n",
       "\t<tr><th scope=row>12</th><td>Apostol Santiago          </td><td>  5</td><td> 96.60000</td></tr>\n",
       "\t<tr><th scope=row>40</th><td>Costillares               </td><td> 13</td><td> 95.07692</td></tr>\n",
       "\t<tr><th scope=row>39</th><td>Cortes                    </td><td>574</td><td> 94.39373</td></tr>\n",
       "\t<tr><th scope=row>76</th><td>Palacio                   </td><td>769</td><td> 93.30599</td></tr>\n",
       "\t<tr><th scope=row>47</th><td>Estrella                  </td><td>  3</td><td> 92.66667</td></tr>\n",
       "\t<tr><th scope=row>114</th><td>Vallehermoso              </td><td> 33</td><td> 92.39394</td></tr>\n",
       "\t<tr><th scope=row>24</th><td>Canillejas                </td><td>  3</td><td> 91.66667</td></tr>\n",
       "\t<tr><th scope=row>⋮</th><td>⋮</td><td>⋮</td><td>⋮</td></tr>\n",
       "\t<tr><th scope=row>20</th><td>Buenavista       </td><td>12</td><td>57.91667</td></tr>\n",
       "\t<tr><th scope=row>105</th><td>Simancas         </td><td>21</td><td>57.14286</td></tr>\n",
       "\t<tr><th scope=row>37</th><td>Comillas         </td><td>21</td><td>56.66667</td></tr>\n",
       "\t<tr><th scope=row>98</th><td>San Cristobal    </td><td> 2</td><td>56.50000</td></tr>\n",
       "\t<tr><th scope=row>46</th><td>Entrevías        </td><td> 4</td><td>56.25000</td></tr>\n",
       "\t<tr><th scope=row>69</th><td>Moscardó         </td><td>18</td><td>56.05556</td></tr>\n",
       "\t<tr><th scope=row>10</th><td>Aluche           </td><td> 9</td><td>55.88889</td></tr>\n",
       "\t<tr><th scope=row>33</th><td>Chopera          </td><td>34</td><td>55.02941</td></tr>\n",
       "\t<tr><th scope=row>86</th><td>Portazgo         </td><td> 1</td><td>55.00000</td></tr>\n",
       "\t<tr><th scope=row>5</th><td>Aguilas          </td><td> 2</td><td>54.50000</td></tr>\n",
       "\t<tr><th scope=row>19</th><td>Berruguete       </td><td>35</td><td>53.85714</td></tr>\n",
       "\t<tr><th scope=row>113</th><td>Valdezarza       </td><td> 3</td><td>53.33333</td></tr>\n",
       "\t<tr><th scope=row>48</th><td>Fontarrón        </td><td> 5</td><td>51.80000</td></tr>\n",
       "\t<tr><th scope=row>18</th><td>Bellas Vistas    </td><td>45</td><td>51.77778</td></tr>\n",
       "\t<tr><th scope=row>73</th><td>Opañel           </td><td>10</td><td>51.60000</td></tr>\n",
       "\t<tr><th scope=row>97</th><td>San Andrés       </td><td>12</td><td>50.91667</td></tr>\n",
       "\t<tr><th scope=row>116</th><td>Ventas           </td><td>26</td><td>50.03846</td></tr>\n",
       "\t<tr><th scope=row>66</th><td>Marroquina       </td><td> 2</td><td>50.00000</td></tr>\n",
       "\t<tr><th scope=row>81</th><td>Pavones          </td><td> 1</td><td>48.00000</td></tr>\n",
       "\t<tr><th scope=row>119</th><td>Zofío            </td><td> 4</td><td>48.00000</td></tr>\n",
       "\t<tr><th scope=row>104</th><td>Santa Eugenia    </td><td> 2</td><td>47.00000</td></tr>\n",
       "\t<tr><th scope=row>1</th><td>Abrantes         </td><td> 3</td><td>46.00000</td></tr>\n",
       "\t<tr><th scope=row>22</th><td>Campamento       </td><td> 9</td><td>45.55556</td></tr>\n",
       "\t<tr><th scope=row>74</th><td>Orcasur          </td><td> 1</td><td>45.00000</td></tr>\n",
       "\t<tr><th scope=row>99</th><td>San Diego        </td><td>32</td><td>44.34375</td></tr>\n",
       "\t<tr><th scope=row>21</th><td>Butarque         </td><td> 1</td><td>42.00000</td></tr>\n",
       "\t<tr><th scope=row>54</th><td>Hellín           </td><td> 1</td><td>42.00000</td></tr>\n",
       "\t<tr><th scope=row>4</th><td>Aeropuerto       </td><td> 2</td><td>38.00000</td></tr>\n",
       "\t<tr><th scope=row>11</th><td>Ambroz           </td><td> 2</td><td>34.50000</td></tr>\n",
       "\t<tr><th scope=row>79</th><td>Palomeras Sureste</td><td> 4</td><td>31.50000</td></tr>\n",
       "</tbody>\n",
       "</table>\n"
      ],
      "text/latex": [
       "A data.frame: 119 × 3\n",
       "\\begin{tabular}{r|lll}\n",
       "  & Barrio & Freq & Precio\\\\\n",
       "  & <fct> & <int> & <dbl>\\\\\n",
       "\\hline\n",
       "\t77 & Palomas                    &   4 & 309.75000\\\\\n",
       "\t50 & Fuentelareina              &   2 & 180.00000\\\\\n",
       "\t93 & Recoletos                  & 135 & 161.92537\\\\\n",
       "\t43 & El Plantío                 &   1 & 150.00000\\\\\n",
       "\t30 & Castellana                 &  73 & 141.38889\\\\\n",
       "\t27 & Casco Histórico de Barajas &   8 & 141.25000\\\\\n",
       "\t6 & Alameda de Osuna           &   4 & 138.75000\\\\\n",
       "\t35 & Ciudad Universitaria       &  13 & 138.30769\\\\\n",
       "\t58 & Jerónimos                  &  62 & 131.82258\\\\\n",
       "\t82 & Peñagrande                 &  11 & 127.63636\\\\\n",
       "\t71 & Nueva España               &  42 & 127.30952\\\\\n",
       "\t52 & Goya                       & 142 & 111.33803\\\\\n",
       "\t7 & Almagro                    &  97 & 109.18557\\\\\n",
       "\t23 & Canillas                   &  15 & 105.80000\\\\\n",
       "\t55 & Hispanoamérica             &  52 & 104.44231\\\\\n",
       "\t56 & Ibiza                      &  64 & 102.62500\\\\\n",
       "\t117 & Vinateros                  &   2 & 102.50000\\\\\n",
       "\t68 & Mirasierra                 &   7 & 101.28571\\\\\n",
       "\t106 & Sol                        & 701 & 100.75036\\\\\n",
       "\t15 & Arcos                      &   4 & 100.50000\\\\\n",
       "\t26 & Casa de Campo              &  41 &  98.85366\\\\\n",
       "\t108 & Trafalgar                  & 223 &  98.57848\\\\\n",
       "\t59 & Justicia                   & 534 &  98.25468\\\\\n",
       "\t12 & Apostol Santiago           &   5 &  96.60000\\\\\n",
       "\t40 & Costillares                &  13 &  95.07692\\\\\n",
       "\t39 & Cortes                     & 574 &  94.39373\\\\\n",
       "\t76 & Palacio                    & 769 &  93.30599\\\\\n",
       "\t47 & Estrella                   &   3 &  92.66667\\\\\n",
       "\t114 & Vallehermoso               &  33 &  92.39394\\\\\n",
       "\t24 & Canillejas                 &   3 &  91.66667\\\\\n",
       "\t⋮ & ⋮ & ⋮ & ⋮\\\\\n",
       "\t20 & Buenavista        & 12 & 57.91667\\\\\n",
       "\t105 & Simancas          & 21 & 57.14286\\\\\n",
       "\t37 & Comillas          & 21 & 56.66667\\\\\n",
       "\t98 & San Cristobal     &  2 & 56.50000\\\\\n",
       "\t46 & Entrevías         &  4 & 56.25000\\\\\n",
       "\t69 & Moscardó          & 18 & 56.05556\\\\\n",
       "\t10 & Aluche            &  9 & 55.88889\\\\\n",
       "\t33 & Chopera           & 34 & 55.02941\\\\\n",
       "\t86 & Portazgo          &  1 & 55.00000\\\\\n",
       "\t5 & Aguilas           &  2 & 54.50000\\\\\n",
       "\t19 & Berruguete        & 35 & 53.85714\\\\\n",
       "\t113 & Valdezarza        &  3 & 53.33333\\\\\n",
       "\t48 & Fontarrón         &  5 & 51.80000\\\\\n",
       "\t18 & Bellas Vistas     & 45 & 51.77778\\\\\n",
       "\t73 & Opañel            & 10 & 51.60000\\\\\n",
       "\t97 & San Andrés        & 12 & 50.91667\\\\\n",
       "\t116 & Ventas            & 26 & 50.03846\\\\\n",
       "\t66 & Marroquina        &  2 & 50.00000\\\\\n",
       "\t81 & Pavones           &  1 & 48.00000\\\\\n",
       "\t119 & Zofío             &  4 & 48.00000\\\\\n",
       "\t104 & Santa Eugenia     &  2 & 47.00000\\\\\n",
       "\t1 & Abrantes          &  3 & 46.00000\\\\\n",
       "\t22 & Campamento        &  9 & 45.55556\\\\\n",
       "\t74 & Orcasur           &  1 & 45.00000\\\\\n",
       "\t99 & San Diego         & 32 & 44.34375\\\\\n",
       "\t21 & Butarque          &  1 & 42.00000\\\\\n",
       "\t54 & Hellín            &  1 & 42.00000\\\\\n",
       "\t4 & Aeropuerto        &  2 & 38.00000\\\\\n",
       "\t11 & Ambroz            &  2 & 34.50000\\\\\n",
       "\t79 & Palomeras Sureste &  4 & 31.50000\\\\\n",
       "\\end{tabular}\n"
      ],
      "text/markdown": [
       "\n",
       "A data.frame: 119 × 3\n",
       "\n",
       "| <!--/--> | Barrio &lt;fct&gt; | Freq &lt;int&gt; | Precio &lt;dbl&gt; |\n",
       "|---|---|---|---|\n",
       "| 77 | Palomas                    |   4 | 309.75000 |\n",
       "| 50 | Fuentelareina              |   2 | 180.00000 |\n",
       "| 93 | Recoletos                  | 135 | 161.92537 |\n",
       "| 43 | El Plantío                 |   1 | 150.00000 |\n",
       "| 30 | Castellana                 |  73 | 141.38889 |\n",
       "| 27 | Casco Histórico de Barajas |   8 | 141.25000 |\n",
       "| 6 | Alameda de Osuna           |   4 | 138.75000 |\n",
       "| 35 | Ciudad Universitaria       |  13 | 138.30769 |\n",
       "| 58 | Jerónimos                  |  62 | 131.82258 |\n",
       "| 82 | Peñagrande                 |  11 | 127.63636 |\n",
       "| 71 | Nueva España               |  42 | 127.30952 |\n",
       "| 52 | Goya                       | 142 | 111.33803 |\n",
       "| 7 | Almagro                    |  97 | 109.18557 |\n",
       "| 23 | Canillas                   |  15 | 105.80000 |\n",
       "| 55 | Hispanoamérica             |  52 | 104.44231 |\n",
       "| 56 | Ibiza                      |  64 | 102.62500 |\n",
       "| 117 | Vinateros                  |   2 | 102.50000 |\n",
       "| 68 | Mirasierra                 |   7 | 101.28571 |\n",
       "| 106 | Sol                        | 701 | 100.75036 |\n",
       "| 15 | Arcos                      |   4 | 100.50000 |\n",
       "| 26 | Casa de Campo              |  41 |  98.85366 |\n",
       "| 108 | Trafalgar                  | 223 |  98.57848 |\n",
       "| 59 | Justicia                   | 534 |  98.25468 |\n",
       "| 12 | Apostol Santiago           |   5 |  96.60000 |\n",
       "| 40 | Costillares                |  13 |  95.07692 |\n",
       "| 39 | Cortes                     | 574 |  94.39373 |\n",
       "| 76 | Palacio                    | 769 |  93.30599 |\n",
       "| 47 | Estrella                   |   3 |  92.66667 |\n",
       "| 114 | Vallehermoso               |  33 |  92.39394 |\n",
       "| 24 | Canillejas                 |   3 |  91.66667 |\n",
       "| ⋮ | ⋮ | ⋮ | ⋮ |\n",
       "| 20 | Buenavista        | 12 | 57.91667 |\n",
       "| 105 | Simancas          | 21 | 57.14286 |\n",
       "| 37 | Comillas          | 21 | 56.66667 |\n",
       "| 98 | San Cristobal     |  2 | 56.50000 |\n",
       "| 46 | Entrevías         |  4 | 56.25000 |\n",
       "| 69 | Moscardó          | 18 | 56.05556 |\n",
       "| 10 | Aluche            |  9 | 55.88889 |\n",
       "| 33 | Chopera           | 34 | 55.02941 |\n",
       "| 86 | Portazgo          |  1 | 55.00000 |\n",
       "| 5 | Aguilas           |  2 | 54.50000 |\n",
       "| 19 | Berruguete        | 35 | 53.85714 |\n",
       "| 113 | Valdezarza        |  3 | 53.33333 |\n",
       "| 48 | Fontarrón         |  5 | 51.80000 |\n",
       "| 18 | Bellas Vistas     | 45 | 51.77778 |\n",
       "| 73 | Opañel            | 10 | 51.60000 |\n",
       "| 97 | San Andrés        | 12 | 50.91667 |\n",
       "| 116 | Ventas            | 26 | 50.03846 |\n",
       "| 66 | Marroquina        |  2 | 50.00000 |\n",
       "| 81 | Pavones           |  1 | 48.00000 |\n",
       "| 119 | Zofío             |  4 | 48.00000 |\n",
       "| 104 | Santa Eugenia     |  2 | 47.00000 |\n",
       "| 1 | Abrantes          |  3 | 46.00000 |\n",
       "| 22 | Campamento        |  9 | 45.55556 |\n",
       "| 74 | Orcasur           |  1 | 45.00000 |\n",
       "| 99 | San Diego         | 32 | 44.34375 |\n",
       "| 21 | Butarque          |  1 | 42.00000 |\n",
       "| 54 | Hellín            |  1 | 42.00000 |\n",
       "| 4 | Aeropuerto        |  2 | 38.00000 |\n",
       "| 11 | Ambroz            |  2 | 34.50000 |\n",
       "| 79 | Palomeras Sureste |  4 | 31.50000 |\n",
       "\n"
      ],
      "text/plain": [
       "    Barrio                     Freq Precio   \n",
       "77  Palomas                      4  309.75000\n",
       "50  Fuentelareina                2  180.00000\n",
       "93  Recoletos                  135  161.92537\n",
       "43  El Plantío                   1  150.00000\n",
       "30  Castellana                  73  141.38889\n",
       "27  Casco Histórico de Barajas   8  141.25000\n",
       "6   Alameda de Osuna             4  138.75000\n",
       "35  Ciudad Universitaria        13  138.30769\n",
       "58  Jerónimos                   62  131.82258\n",
       "82  Peñagrande                  11  127.63636\n",
       "71  Nueva España                42  127.30952\n",
       "52  Goya                       142  111.33803\n",
       "7   Almagro                     97  109.18557\n",
       "23  Canillas                    15  105.80000\n",
       "55  Hispanoamérica              52  104.44231\n",
       "56  Ibiza                       64  102.62500\n",
       "117 Vinateros                    2  102.50000\n",
       "68  Mirasierra                   7  101.28571\n",
       "106 Sol                        701  100.75036\n",
       "15  Arcos                        4  100.50000\n",
       "26  Casa de Campo               41   98.85366\n",
       "108 Trafalgar                  223   98.57848\n",
       "59  Justicia                   534   98.25468\n",
       "12  Apostol Santiago             5   96.60000\n",
       "40  Costillares                 13   95.07692\n",
       "39  Cortes                     574   94.39373\n",
       "76  Palacio                    769   93.30599\n",
       "47  Estrella                     3   92.66667\n",
       "114 Vallehermoso                33   92.39394\n",
       "24  Canillejas                   3   91.66667\n",
       "⋮   ⋮                          ⋮    ⋮        \n",
       "20  Buenavista                 12   57.91667 \n",
       "105 Simancas                   21   57.14286 \n",
       "37  Comillas                   21   56.66667 \n",
       "98  San Cristobal               2   56.50000 \n",
       "46  Entrevías                   4   56.25000 \n",
       "69  Moscardó                   18   56.05556 \n",
       "10  Aluche                      9   55.88889 \n",
       "33  Chopera                    34   55.02941 \n",
       "86  Portazgo                    1   55.00000 \n",
       "5   Aguilas                     2   54.50000 \n",
       "19  Berruguete                 35   53.85714 \n",
       "113 Valdezarza                  3   53.33333 \n",
       "48  Fontarrón                   5   51.80000 \n",
       "18  Bellas Vistas              45   51.77778 \n",
       "73  Opañel                     10   51.60000 \n",
       "97  San Andrés                 12   50.91667 \n",
       "116 Ventas                     26   50.03846 \n",
       "66  Marroquina                  2   50.00000 \n",
       "81  Pavones                     1   48.00000 \n",
       "119 Zofío                       4   48.00000 \n",
       "104 Santa Eugenia               2   47.00000 \n",
       "1   Abrantes                    3   46.00000 \n",
       "22  Campamento                  9   45.55556 \n",
       "74  Orcasur                     1   45.00000 \n",
       "99  San Diego                  32   44.34375 \n",
       "21  Butarque                    1   42.00000 \n",
       "54  Hellín                      1   42.00000 \n",
       "4   Aeropuerto                  2   38.00000 \n",
       "11  Ambroz                      2   34.50000 \n",
       "79  Palomeras Sureste           4   31.50000 "
      ]
     },
     "metadata": {},
     "output_type": "display_data"
    }
   ],
   "source": [
    "AxBPrecioMedio"
   ]
  },
  {
   "cell_type": "markdown",
   "metadata": {},
   "source": [
    "Partiendo del dataframe anterior, muestra los 5 barrios con mayor precio, pero que tengan más de 100 entradas de alquiler."
   ]
  },
  {
   "cell_type": "code",
   "execution_count": 26,
   "metadata": {},
   "outputs": [
    {
     "data": {
      "text/plain": [
       "NULL"
      ]
     },
     "metadata": {},
     "output_type": "display_data"
    }
   ],
   "source": [
    "PrecioMedio_100<-subset(AxBPrecioMedio,AxBPrecioMedio$Freq>100)\n",
    "\n",
    "BarriosMayorPrecioMedio<-head(PrecioMedio_100,5)$Barrios\n",
    "head(BarriosMayorPrecioMedio)"
   ]
  },
  {
   "cell_type": "code",
   "execution_count": 27,
   "metadata": {},
   "outputs": [],
   "source": [
    "PrecioMedio_100<-subset(AxBPrecioMedio,AxBPrecioMedio$Freq>100)"
   ]
  },
  {
   "cell_type": "code",
   "execution_count": 28,
   "metadata": {},
   "outputs": [
    {
     "data": {
      "text/html": [
       "<style>\n",
       ".list-inline {list-style: none; margin:0; padding: 0}\n",
       ".list-inline>li {display: inline-block}\n",
       ".list-inline>li:not(:last-child)::after {content: \"\\00b7\"; padding: 0 .5ex}\n",
       "</style>\n",
       "<ol class=list-inline><li>Recoletos</li><li>Goya</li><li>Sol</li><li>Trafalgar</li><li>Justicia</li></ol>\n",
       "\n",
       "<details>\n",
       "\t<summary style=display:list-item;cursor:pointer>\n",
       "\t\t<strong>Levels</strong>:\n",
       "\t</summary>\n",
       "\t<style>\n",
       "\t.list-inline {list-style: none; margin:0; padding: 0}\n",
       "\t.list-inline>li {display: inline-block}\n",
       "\t.list-inline>li:not(:last-child)::after {content: \"\\00b7\"; padding: 0 .5ex}\n",
       "\t</style>\n",
       "\t<ol class=list-inline><li>'Abrantes'</li><li>'Acacias'</li><li>'Adelfas'</li><li>'Aeropuerto'</li><li>'Aguilas'</li><li>'Alameda de Osuna'</li><li>'Almagro'</li><li>'Almenara'</li><li>'Almendrales'</li><li>'Aluche'</li><li>'Ambroz'</li><li>'Amposta'</li><li>'Apostol Santiago'</li><li>'Arapiles'</li><li>'Aravaca'</li><li>'Arcos'</li><li>'Argüelles'</li><li>'Atocha'</li><li>'Bellas Vistas'</li><li>'Berruguete'</li><li>'Buenavista'</li><li>'Butarque'</li><li>'Campamento'</li><li>'Canillas'</li><li>'Canillejas'</li><li>'Cármenes'</li><li>'Casa de Campo'</li><li>'Casco Histórico de Barajas'</li><li>'Casco Histórico de Vallecas'</li><li>'Casco Histórico de Vicálvaro'</li><li>'Castellana'</li><li>'Castilla'</li><li>'Castillejos'</li><li>'Chopera'</li><li>'Ciudad Jardín'</li><li>'Ciudad Universitaria'</li><li>'Colina'</li><li>'Comillas'</li><li>'Concepción'</li><li>'Corralejos'</li><li>'Cortes'</li><li>'Costillares'</li><li>'Cuatro Caminos'</li><li>'Cuatro Vientos'</li><li>'Delicias'</li><li>'El Goloso'</li><li>'El Plantío'</li><li>'El Viso'</li><li>'Embajadores'</li><li>'Entrevías'</li><li>'Estrella'</li><li>'Fontarrón'</li><li>'Fuente del Berro'</li><li>'Fuentelareina'</li><li>'Gaztambide'</li><li>'Goya'</li><li>'Guindalera'</li><li>'Hellín'</li><li>'Hispanoamérica'</li><li>'Ibiza'</li><li>'Imperial'</li><li>'Jerónimos'</li><li>'Justicia'</li><li>'La Paz'</li><li>'Legazpi'</li><li>'Lista'</li><li>'Los Angeles'</li><li>'Los Rosales'</li><li>'Lucero'</li><li>'Marroquina'</li><li>'Media Legua'</li><li>'Mirasierra'</li><li>'Moscardó'</li><li>'Niño Jesús'</li><li>'Nueva España'</li><li>'Numancia'</li><li>'Opañel'</li><li>'Orcasitas'</li><li>'Orcasur'</li><li>'Pacífico'</li><li>'Palacio'</li><li>'Palomas'</li><li>'Palomeras Bajas'</li><li>'Palomeras Sureste'</li><li>'Palos de Moguer'</li><li>'Pavones'</li><li>'Peñagrande'</li><li>'Pilar'</li><li>'Pinar del Rey'</li><li>'Piovera'</li><li>'Portazgo'</li><li>'Pradolongo'</li><li>'Prosperidad'</li><li>'Pueblo Nuevo'</li><li>'Puerta Bonita'</li><li>'Puerta del Angel'</li><li>'Quintana'</li><li>'Recoletos'</li><li>'Rejas'</li><li>'Rios Rosas'</li><li>'Rosas'</li><li>'Salvador'</li><li>'San Andrés'</li><li>'San Cristobal'</li><li>'San Diego'</li><li>'San Fermín'</li><li>'San Isidro'</li><li>'San Juan Bautista'</li><li>'San Pascual'</li><li>'Santa Eugenia'</li><li>'Simancas'</li><li>'Sol'</li><li>'Timón'</li><li>'Trafalgar'</li><li>'Universidad'</li><li>'Valdeacederas'</li><li>'Valdefuentes'</li><li>'Valdemarín'</li><li>'Valdezarza'</li><li>'Vallehermoso'</li><li>'Valverde'</li><li>'Ventas'</li><li>'Vinateros'</li><li>'Vista Alegre'</li><li>'Zofío'</li></ol>\n",
       "</details>"
      ],
      "text/latex": [
       "\\begin{enumerate*}\n",
       "\\item Recoletos\n",
       "\\item Goya\n",
       "\\item Sol\n",
       "\\item Trafalgar\n",
       "\\item Justicia\n",
       "\\end{enumerate*}\n",
       "\n",
       "\\emph{Levels}: \\begin{enumerate*}\n",
       "\\item 'Abrantes'\n",
       "\\item 'Acacias'\n",
       "\\item 'Adelfas'\n",
       "\\item 'Aeropuerto'\n",
       "\\item 'Aguilas'\n",
       "\\item 'Alameda de Osuna'\n",
       "\\item 'Almagro'\n",
       "\\item 'Almenara'\n",
       "\\item 'Almendrales'\n",
       "\\item 'Aluche'\n",
       "\\item 'Ambroz'\n",
       "\\item 'Amposta'\n",
       "\\item 'Apostol Santiago'\n",
       "\\item 'Arapiles'\n",
       "\\item 'Aravaca'\n",
       "\\item 'Arcos'\n",
       "\\item 'Argüelles'\n",
       "\\item 'Atocha'\n",
       "\\item 'Bellas Vistas'\n",
       "\\item 'Berruguete'\n",
       "\\item 'Buenavista'\n",
       "\\item 'Butarque'\n",
       "\\item 'Campamento'\n",
       "\\item 'Canillas'\n",
       "\\item 'Canillejas'\n",
       "\\item 'Cármenes'\n",
       "\\item 'Casa de Campo'\n",
       "\\item 'Casco Histórico de Barajas'\n",
       "\\item 'Casco Histórico de Vallecas'\n",
       "\\item 'Casco Histórico de Vicálvaro'\n",
       "\\item 'Castellana'\n",
       "\\item 'Castilla'\n",
       "\\item 'Castillejos'\n",
       "\\item 'Chopera'\n",
       "\\item 'Ciudad Jardín'\n",
       "\\item 'Ciudad Universitaria'\n",
       "\\item 'Colina'\n",
       "\\item 'Comillas'\n",
       "\\item 'Concepción'\n",
       "\\item 'Corralejos'\n",
       "\\item 'Cortes'\n",
       "\\item 'Costillares'\n",
       "\\item 'Cuatro Caminos'\n",
       "\\item 'Cuatro Vientos'\n",
       "\\item 'Delicias'\n",
       "\\item 'El Goloso'\n",
       "\\item 'El Plantío'\n",
       "\\item 'El Viso'\n",
       "\\item 'Embajadores'\n",
       "\\item 'Entrevías'\n",
       "\\item 'Estrella'\n",
       "\\item 'Fontarrón'\n",
       "\\item 'Fuente del Berro'\n",
       "\\item 'Fuentelareina'\n",
       "\\item 'Gaztambide'\n",
       "\\item 'Goya'\n",
       "\\item 'Guindalera'\n",
       "\\item 'Hellín'\n",
       "\\item 'Hispanoamérica'\n",
       "\\item 'Ibiza'\n",
       "\\item 'Imperial'\n",
       "\\item 'Jerónimos'\n",
       "\\item 'Justicia'\n",
       "\\item 'La Paz'\n",
       "\\item 'Legazpi'\n",
       "\\item 'Lista'\n",
       "\\item 'Los Angeles'\n",
       "\\item 'Los Rosales'\n",
       "\\item 'Lucero'\n",
       "\\item 'Marroquina'\n",
       "\\item 'Media Legua'\n",
       "\\item 'Mirasierra'\n",
       "\\item 'Moscardó'\n",
       "\\item 'Niño Jesús'\n",
       "\\item 'Nueva España'\n",
       "\\item 'Numancia'\n",
       "\\item 'Opañel'\n",
       "\\item 'Orcasitas'\n",
       "\\item 'Orcasur'\n",
       "\\item 'Pacífico'\n",
       "\\item 'Palacio'\n",
       "\\item 'Palomas'\n",
       "\\item 'Palomeras Bajas'\n",
       "\\item 'Palomeras Sureste'\n",
       "\\item 'Palos de Moguer'\n",
       "\\item 'Pavones'\n",
       "\\item 'Peñagrande'\n",
       "\\item 'Pilar'\n",
       "\\item 'Pinar del Rey'\n",
       "\\item 'Piovera'\n",
       "\\item 'Portazgo'\n",
       "\\item 'Pradolongo'\n",
       "\\item 'Prosperidad'\n",
       "\\item 'Pueblo Nuevo'\n",
       "\\item 'Puerta Bonita'\n",
       "\\item 'Puerta del Angel'\n",
       "\\item 'Quintana'\n",
       "\\item 'Recoletos'\n",
       "\\item 'Rejas'\n",
       "\\item 'Rios Rosas'\n",
       "\\item 'Rosas'\n",
       "\\item 'Salvador'\n",
       "\\item 'San Andrés'\n",
       "\\item 'San Cristobal'\n",
       "\\item 'San Diego'\n",
       "\\item 'San Fermín'\n",
       "\\item 'San Isidro'\n",
       "\\item 'San Juan Bautista'\n",
       "\\item 'San Pascual'\n",
       "\\item 'Santa Eugenia'\n",
       "\\item 'Simancas'\n",
       "\\item 'Sol'\n",
       "\\item 'Timón'\n",
       "\\item 'Trafalgar'\n",
       "\\item 'Universidad'\n",
       "\\item 'Valdeacederas'\n",
       "\\item 'Valdefuentes'\n",
       "\\item 'Valdemarín'\n",
       "\\item 'Valdezarza'\n",
       "\\item 'Vallehermoso'\n",
       "\\item 'Valverde'\n",
       "\\item 'Ventas'\n",
       "\\item 'Vinateros'\n",
       "\\item 'Vista Alegre'\n",
       "\\item 'Zofío'\n",
       "\\end{enumerate*}\n"
      ],
      "text/markdown": [
       "1. Recoletos\n",
       "2. Goya\n",
       "3. Sol\n",
       "4. Trafalgar\n",
       "5. Justicia\n",
       "\n",
       "\n",
       "\n",
       "**Levels**: 1. 'Abrantes'\n",
       "2. 'Acacias'\n",
       "3. 'Adelfas'\n",
       "4. 'Aeropuerto'\n",
       "5. 'Aguilas'\n",
       "6. 'Alameda de Osuna'\n",
       "7. 'Almagro'\n",
       "8. 'Almenara'\n",
       "9. 'Almendrales'\n",
       "10. 'Aluche'\n",
       "11. 'Ambroz'\n",
       "12. 'Amposta'\n",
       "13. 'Apostol Santiago'\n",
       "14. 'Arapiles'\n",
       "15. 'Aravaca'\n",
       "16. 'Arcos'\n",
       "17. 'Argüelles'\n",
       "18. 'Atocha'\n",
       "19. 'Bellas Vistas'\n",
       "20. 'Berruguete'\n",
       "21. 'Buenavista'\n",
       "22. 'Butarque'\n",
       "23. 'Campamento'\n",
       "24. 'Canillas'\n",
       "25. 'Canillejas'\n",
       "26. 'Cármenes'\n",
       "27. 'Casa de Campo'\n",
       "28. 'Casco Histórico de Barajas'\n",
       "29. 'Casco Histórico de Vallecas'\n",
       "30. 'Casco Histórico de Vicálvaro'\n",
       "31. 'Castellana'\n",
       "32. 'Castilla'\n",
       "33. 'Castillejos'\n",
       "34. 'Chopera'\n",
       "35. 'Ciudad Jardín'\n",
       "36. 'Ciudad Universitaria'\n",
       "37. 'Colina'\n",
       "38. 'Comillas'\n",
       "39. 'Concepción'\n",
       "40. 'Corralejos'\n",
       "41. 'Cortes'\n",
       "42. 'Costillares'\n",
       "43. 'Cuatro Caminos'\n",
       "44. 'Cuatro Vientos'\n",
       "45. 'Delicias'\n",
       "46. 'El Goloso'\n",
       "47. 'El Plantío'\n",
       "48. 'El Viso'\n",
       "49. 'Embajadores'\n",
       "50. 'Entrevías'\n",
       "51. 'Estrella'\n",
       "52. 'Fontarrón'\n",
       "53. 'Fuente del Berro'\n",
       "54. 'Fuentelareina'\n",
       "55. 'Gaztambide'\n",
       "56. 'Goya'\n",
       "57. 'Guindalera'\n",
       "58. 'Hellín'\n",
       "59. 'Hispanoamérica'\n",
       "60. 'Ibiza'\n",
       "61. 'Imperial'\n",
       "62. 'Jerónimos'\n",
       "63. 'Justicia'\n",
       "64. 'La Paz'\n",
       "65. 'Legazpi'\n",
       "66. 'Lista'\n",
       "67. 'Los Angeles'\n",
       "68. 'Los Rosales'\n",
       "69. 'Lucero'\n",
       "70. 'Marroquina'\n",
       "71. 'Media Legua'\n",
       "72. 'Mirasierra'\n",
       "73. 'Moscardó'\n",
       "74. 'Niño Jesús'\n",
       "75. 'Nueva España'\n",
       "76. 'Numancia'\n",
       "77. 'Opañel'\n",
       "78. 'Orcasitas'\n",
       "79. 'Orcasur'\n",
       "80. 'Pacífico'\n",
       "81. 'Palacio'\n",
       "82. 'Palomas'\n",
       "83. 'Palomeras Bajas'\n",
       "84. 'Palomeras Sureste'\n",
       "85. 'Palos de Moguer'\n",
       "86. 'Pavones'\n",
       "87. 'Peñagrande'\n",
       "88. 'Pilar'\n",
       "89. 'Pinar del Rey'\n",
       "90. 'Piovera'\n",
       "91. 'Portazgo'\n",
       "92. 'Pradolongo'\n",
       "93. 'Prosperidad'\n",
       "94. 'Pueblo Nuevo'\n",
       "95. 'Puerta Bonita'\n",
       "96. 'Puerta del Angel'\n",
       "97. 'Quintana'\n",
       "98. 'Recoletos'\n",
       "99. 'Rejas'\n",
       "100. 'Rios Rosas'\n",
       "101. 'Rosas'\n",
       "102. 'Salvador'\n",
       "103. 'San Andrés'\n",
       "104. 'San Cristobal'\n",
       "105. 'San Diego'\n",
       "106. 'San Fermín'\n",
       "107. 'San Isidro'\n",
       "108. 'San Juan Bautista'\n",
       "109. 'San Pascual'\n",
       "110. 'Santa Eugenia'\n",
       "111. 'Simancas'\n",
       "112. 'Sol'\n",
       "113. 'Timón'\n",
       "114. 'Trafalgar'\n",
       "115. 'Universidad'\n",
       "116. 'Valdeacederas'\n",
       "117. 'Valdefuentes'\n",
       "118. 'Valdemarín'\n",
       "119. 'Valdezarza'\n",
       "120. 'Vallehermoso'\n",
       "121. 'Valverde'\n",
       "122. 'Ventas'\n",
       "123. 'Vinateros'\n",
       "124. 'Vista Alegre'\n",
       "125. 'Zofío'\n",
       "\n",
       "\n"
      ],
      "text/plain": [
       "[1] Recoletos Goya      Sol       Trafalgar Justicia \n",
       "125 Levels: Abrantes Acacias Adelfas Aeropuerto Aguilas ... Zofío"
      ]
     },
     "metadata": {},
     "output_type": "display_data"
    }
   ],
   "source": [
    "BarriosMayorPrecioMedio<-head(PrecioMedio_100,5)$Barrio\n",
    "head(BarriosMayorPrecioMedio)"
   ]
  },
  {
   "cell_type": "markdown",
   "metadata": {},
   "source": [
    "Dibuja el diagrama de densidad de distribución de los diferentes precios. Serían 5 gráficas, una por cada barrio."
   ]
  },
  {
   "cell_type": "code",
   "execution_count": 29,
   "metadata": {},
   "outputs": [
    {
     "name": "stderr",
     "output_type": "stream",
     "text": [
      "Warning message:\n",
      "“Removed 1 rows containing non-finite values (stat_density).”\n",
      "Warning message:\n",
      "“Removed 1 rows containing non-finite values (stat_density).”\n"
     ]
    },
    {
     "data": {
      "image/png": "[encoded data removed]",
      "text/plain": [
       "plot without title"
      ]
     },
     "metadata": {
      "image/png": {
       "height": 240,
       "width": 360
      },
      "text/plain": {
       "height": 240,
       "width": 360
      }
     },
     "output_type": "display_data"
    },
    {
     "data": {
      "image/png": "[encoded data removed]",
      "text/plain": [
       "plot without title"
      ]
     },
     "metadata": {
      "image/png": {
       "height": 240,
       "width": 360
      },
      "text/plain": {
       "height": 240,
       "width": 360
      }
     },
     "output_type": "display_data"
    }
   ],
   "source": [
    "BMPM_1_5<-subset(airbnb_entire,Barrio %in% BarriosMayorPrecioMedio)\n",
    "\n",
    "#Individuales\n",
    "ggplot(data = BMPM_1_5, aes(x = Precio, color = Barrio)) + geom_density(bw=10) + facet_wrap( ~ Barrio)\n",
    "\n",
    "#Comparativa\n",
    "ggplot(BMPM_1_5, aes(x=Precio, color=Barrio))+geom_density(bw=10)\n"
   ]
  },
  {
   "cell_type": "markdown",
   "metadata": {},
   "source": [
    "Calcula el tamaño medio, en metros cuadrados, para los 5 barrios anteriores y muestralo en el mismo dataframe junto con el precio y número de entradas"
   ]
  },
  {
   "cell_type": "code",
   "execution_count": 30,
   "metadata": {},
   "outputs": [
    {
     "data": {
      "text/html": [
       "<table class=\"dataframe\">\n",
       "<caption>A data.frame: 5 × 4</caption>\n",
       "<thead>\n",
       "\t<tr><th></th><th scope=col>Barrio</th><th scope=col>Freq</th><th scope=col>Precio</th><th scope=col>MetrosCuadrados</th></tr>\n",
       "\t<tr><th></th><th scope=col>&lt;fct&gt;</th><th scope=col>&lt;int&gt;</th><th scope=col>&lt;dbl&gt;</th><th scope=col>&lt;dbl&gt;</th></tr>\n",
       "</thead>\n",
       "<tbody>\n",
       "\t<tr><th scope=row>8</th><td>Recoletos</td><td>135</td><td>161.92537</td><td>26.66316</td></tr>\n",
       "\t<tr><th scope=row>4</th><td>Goya     </td><td>142</td><td>111.33803</td><td>51.68504</td></tr>\n",
       "\t<tr><th scope=row>9</th><td>Sol      </td><td>701</td><td>100.75036</td><td>45.61692</td></tr>\n",
       "\t<tr><th scope=row>10</th><td>Trafalgar</td><td>223</td><td> 98.57848</td><td>29.30426</td></tr>\n",
       "\t<tr><th scope=row>5</th><td>Justicia </td><td>534</td><td> 98.25468</td><td>28.52669</td></tr>\n",
       "</tbody>\n",
       "</table>\n"
      ],
      "text/latex": [
       "A data.frame: 5 × 4\n",
       "\\begin{tabular}{r|llll}\n",
       "  & Barrio & Freq & Precio & MetrosCuadrados\\\\\n",
       "  & <fct> & <int> & <dbl> & <dbl>\\\\\n",
       "\\hline\n",
       "\t8 & Recoletos & 135 & 161.92537 & 26.66316\\\\\n",
       "\t4 & Goya      & 142 & 111.33803 & 51.68504\\\\\n",
       "\t9 & Sol       & 701 & 100.75036 & 45.61692\\\\\n",
       "\t10 & Trafalgar & 223 &  98.57848 & 29.30426\\\\\n",
       "\t5 & Justicia  & 534 &  98.25468 & 28.52669\\\\\n",
       "\\end{tabular}\n"
      ],
      "text/markdown": [
       "\n",
       "A data.frame: 5 × 4\n",
       "\n",
       "| <!--/--> | Barrio &lt;fct&gt; | Freq &lt;int&gt; | Precio &lt;dbl&gt; | MetrosCuadrados &lt;dbl&gt; |\n",
       "|---|---|---|---|---|\n",
       "| 8 | Recoletos | 135 | 161.92537 | 26.66316 |\n",
       "| 4 | Goya      | 142 | 111.33803 | 51.68504 |\n",
       "| 9 | Sol       | 701 | 100.75036 | 45.61692 |\n",
       "| 10 | Trafalgar | 223 |  98.57848 | 29.30426 |\n",
       "| 5 | Justicia  | 534 |  98.25468 | 28.52669 |\n",
       "\n"
      ],
      "text/plain": [
       "   Barrio    Freq Precio    MetrosCuadrados\n",
       "8  Recoletos 135  161.92537 26.66316       \n",
       "4  Goya      142  111.33803 51.68504       \n",
       "9  Sol       701  100.75036 45.61692       \n",
       "10 Trafalgar 223   98.57848 29.30426       \n",
       "5  Justicia  534   98.25468 28.52669       "
      ]
     },
     "metadata": {},
     "output_type": "display_data"
    }
   ],
   "source": [
    "tamagno_medio <- aggregate(. ~ Barrio, airbnb_entire[c(\"Barrio\",\"MetrosCuadrados\")], mean,na.rm=TRUE)\n",
    "PrecioMedioTamagno_100 <- merge(PrecioMedio_100,tamagno_medio,by=\"Barrio\")\n",
    "\n",
    "PrecioMedioTamagno_100 <- PrecioMedioTamagno_100[order(PrecioMedioTamagno_100$Precio,decreasing = T),]\n",
    "PrecioMedioTamagno_100[1:5, ]"
   ]
  },
  {
   "cell_type": "markdown",
   "metadata": {},
   "source": [
    "Dibuja el diagrama de densidad de distribución de los diferentes tamaños de apartamentos. Serían 5 gráficas, una por cada barrio."
   ]
  },
  {
   "cell_type": "code",
   "execution_count": 31,
   "metadata": {},
   "outputs": [
    {
     "name": "stderr",
     "output_type": "stream",
     "text": [
      "Warning message:\n",
      "“Removed 1645 rows containing non-finite values (stat_density).”\n",
      "Warning message:\n",
      "“Removed 1645 rows containing non-finite values (stat_density).”\n"
     ]
    },
    {
     "data": {
      "image/png": "[encoded data removed]",
      "text/plain": [
       "plot without title"
      ]
     },
     "metadata": {
      "image/png": {
       "height": 240,
       "width": 360
      },
      "text/plain": {
       "height": 240,
       "width": 360
      }
     },
     "output_type": "display_data"
    },
    {
     "data": {
      "image/png": "[encoded data removed]",
      "text/plain": [
       "plot without title"
      ]
     },
     "metadata": {
      "image/png": {
       "height": 240,
       "width": 360
      },
      "text/plain": {
       "height": 240,
       "width": 360
      }
     },
     "output_type": "display_data"
    }
   ],
   "source": [
    "#Individuales\n",
    "ggplot(data = BMPM_1_5, aes(x=MetrosCuadrados,color=Barrio)) + geom_density(bw=10) + facet_wrap( ~ Barrio)\n",
    "\n",
    "#Comparativa\n",
    "ggplot(BMPM_1_5,aes(x=MetrosCuadrados,color=Barrio))+geom_density()"
   ]
  },
  {
   "cell_type": "markdown",
   "metadata": {},
   "source": [
    "Esta claro que las medias de cada uno de estos 5 barrios parecen ser diferentes, pero ¿son estadísticamente diferentes?\n",
    "¿Que test habría que usar para comprobarlo?"
   ]
  },
  {
   "cell_type": "code",
   "execution_count": 32,
   "metadata": {},
   "outputs": [
    {
     "name": "stdout",
     "output_type": "stream",
     "text": [
      "[1] \"Precio por barrio junto a test\"\n",
      "[1] \"Precio medio Sol  =  45.6169213833333\"\n",
      "[1] \"Test Shapiro del barrio Sol , p-valor = 6.82296081876145e-30\"\n",
      "[1] \"Precio medio Justicia  =  28.5266858823529\"\n",
      "[1] \"Test Shapiro del barrio Justicia , p-valor = 6.68576869862315e-32\"\n",
      "[1] \"Precio medio Recoletos  =  26.663161\"\n",
      "[1] \"Test Shapiro del barrio Recoletos , p-valor = 2.80034621674868e-13\"\n",
      "[1] \"Precio medio Goya  =  51.6850356666667\"\n",
      "[1] \"Test Shapiro del barrio Goya , p-valor = 2.76797989326578e-11\"\n",
      "[1] \"Precio medio Trafalgar  =  29.3042605714286\"\n",
      "[1] \"Test Shapiro del barrio Trafalgar , p-valor = 5.98924729847284e-17\"\n"
     ]
    }
   ],
   "source": [
    "#Se pueden ejecutar varios test:\n",
    "##Comprobamos si la distribución es de tipo Gaussiana:\n",
    "print(\"Precio por barrio junto a test\")\n",
    "\n",
    "for (barrio in unique(BMPM_1_5$Barrio)){\n",
    "    testDF<-BMPM_1_5[which(BMPM_1_5$Barrio==as.character(barrio)),]\n",
    "    print(paste(\"Precio medio\",barrio,\" = \",mean(testDF$MetrosCuadrados,na.rm=T)))\n",
    "    if (nrow(testDF)>1000){\n",
    "        testDF<-testDF[1:1000,]\n",
    "    }\n",
    "    testShapiro<-shapiro.test(testDF$Precio)\n",
    "    print(paste(\"Test Shapiro del barrio\",barrio,\", p-valor =\",testShapiro$p.value))\n",
    "}"
   ]
  },
  {
   "cell_type": "code",
   "execution_count": 33,
   "metadata": {
    "scrolled": true
   },
   "outputs": [
    {
     "data": {
      "text/plain": [
       "\n",
       "\tKruskal-Wallis rank sum test\n",
       "\n",
       "data:  MetrosCuadrados by Barrio\n",
       "Kruskal-Wallis chi-squared = 1.882, df = 4, p-value = 0.7574\n"
      ]
     },
     "metadata": {},
     "output_type": "display_data"
    },
    {
     "data": {
      "text/html": [
       "'El p-valor es = 0.757443581555649'"
      ],
      "text/latex": [
       "'El p-valor es = 0.757443581555649'"
      ],
      "text/markdown": [
       "'El p-valor es = 0.757443581555649'"
      ],
      "text/plain": [
       "[1] \"El p-valor es = 0.757443581555649\""
      ]
     },
     "metadata": {},
     "output_type": "display_data"
    }
   ],
   "source": [
    "#Test Kruskal:\n",
    "\n",
    "testKrustal<-kruskal.test(MetrosCuadrados~Barrio,BMPM_1_5)\n",
    "testKrustal\n",
    "paste(\"El p-valor es =\",testKrustal$p.value)"
   ]
  },
  {
   "cell_type": "code",
   "execution_count": 34,
   "metadata": {},
   "outputs": [],
   "source": [
    "#El p-valor es alto"
   ]
  },
  {
   "cell_type": "markdown",
   "metadata": {},
   "source": [
    "Para únicamente los pisos de alquiler en el barrio de Sol:\n",
    "\n",
    "``barrio_sol<-subset(airbnb_entire,Barrio==\"Sol\")``\n",
    "\n",
    "Calcular un modelo lineal que combine alguna de estas variables:\n",
    "* NumBanyos\n",
    "* NumDormitorios\n",
    "* MaxOcupantes\n",
    "* MetrosCuadrados"
   ]
  },
  {
   "cell_type": "code",
   "execution_count": 35,
   "metadata": {},
   "outputs": [],
   "source": [
    "barrio_sol<-subset(airbnb_entire,Barrio==\"Sol\")"
   ]
  },
  {
   "cell_type": "markdown",
   "metadata": {},
   "source": [
    "Primero calculamos la correlación para ver como se relacionan estas variables entre sí."
   ]
  },
  {
   "cell_type": "code",
   "execution_count": 36,
   "metadata": {},
   "outputs": [
    {
     "data": {
      "text/html": [
       "<table class=\"dataframe\">\n",
       "<caption>A matrix: 4 × 4 of type dbl</caption>\n",
       "<thead>\n",
       "\t<tr><th></th><th scope=col>NumBanyos</th><th scope=col>NumDormitorios</th><th scope=col>MaxOcupantes</th><th scope=col>MetrosCuadrados</th></tr>\n",
       "</thead>\n",
       "<tbody>\n",
       "\t<tr><th scope=row>NumBanyos</th><td>1.0000000</td><td>0.6761906</td><td>0.6578162</td><td>0.4820549</td></tr>\n",
       "\t<tr><th scope=row>NumDormitorios</th><td>0.6761906</td><td>1.0000000</td><td>0.7594598</td><td>0.5684521</td></tr>\n",
       "\t<tr><th scope=row>MaxOcupantes</th><td>0.6578162</td><td>0.7594598</td><td>1.0000000</td><td>0.4286233</td></tr>\n",
       "\t<tr><th scope=row>MetrosCuadrados</th><td>0.4820549</td><td>0.5684521</td><td>0.4286233</td><td>1.0000000</td></tr>\n",
       "</tbody>\n",
       "</table>\n"
      ],
      "text/latex": [
       "A matrix: 4 × 4 of type dbl\n",
       "\\begin{tabular}{r|llll}\n",
       "  & NumBanyos & NumDormitorios & MaxOcupantes & MetrosCuadrados\\\\\n",
       "\\hline\n",
       "\tNumBanyos & 1.0000000 & 0.6761906 & 0.6578162 & 0.4820549\\\\\n",
       "\tNumDormitorios & 0.6761906 & 1.0000000 & 0.7594598 & 0.5684521\\\\\n",
       "\tMaxOcupantes & 0.6578162 & 0.7594598 & 1.0000000 & 0.4286233\\\\\n",
       "\tMetrosCuadrados & 0.4820549 & 0.5684521 & 0.4286233 & 1.0000000\\\\\n",
       "\\end{tabular}\n"
      ],
      "text/markdown": [
       "\n",
       "A matrix: 4 × 4 of type dbl\n",
       "\n",
       "| <!--/--> | NumBanyos | NumDormitorios | MaxOcupantes | MetrosCuadrados |\n",
       "|---|---|---|---|---|\n",
       "| NumBanyos | 1.0000000 | 0.6761906 | 0.6578162 | 0.4820549 |\n",
       "| NumDormitorios | 0.6761906 | 1.0000000 | 0.7594598 | 0.5684521 |\n",
       "| MaxOcupantes | 0.6578162 | 0.7594598 | 1.0000000 | 0.4286233 |\n",
       "| MetrosCuadrados | 0.4820549 | 0.5684521 | 0.4286233 | 1.0000000 |\n",
       "\n"
      ],
      "text/plain": [
       "                NumBanyos NumDormitorios MaxOcupantes MetrosCuadrados\n",
       "NumBanyos       1.0000000 0.6761906      0.6578162    0.4820549      \n",
       "NumDormitorios  0.6761906 1.0000000      0.7594598    0.5684521      \n",
       "MaxOcupantes    0.6578162 0.7594598      1.0000000    0.4286233      \n",
       "MetrosCuadrados 0.4820549 0.5684521      0.4286233    1.0000000      "
      ]
     },
     "metadata": {},
     "output_type": "display_data"
    }
   ],
   "source": [
    "cor(barrio_sol[,c(\"NumBanyos\",\"NumDormitorios\",\"MaxOcupantes\",\"MetrosCuadrados\")],use=\"pairwise.complete.obs\")"
   ]
  },
  {
   "cell_type": "markdown",
   "metadata": {},
   "source": [
    "Se observa que la correlación entre el número de dormitorios y los metros cuadrados es sorprendentemente baja.\n",
    "¿Son de fiar esos números?\n",
    "\n",
    "Mediante un histograma o curvas de densidad podemos descartar números que no tienen sentido en el dataframe barrio_sol,\n",
    "para tener una matriz de correlación que tenga mayor sentido.\n"
   ]
  },
  {
   "cell_type": "code",
   "execution_count": 37,
   "metadata": {},
   "outputs": [
    {
     "name": "stderr",
     "output_type": "stream",
     "text": [
      "Warning message:\n",
      "“Removed 641 rows containing non-finite values (stat_density).”\n"
     ]
    },
    {
     "data": {
      "image/png": "[encoded data removed]",
      "text/plain": [
       "plot without title"
      ]
     },
     "metadata": {
      "image/png": {
       "height": 240,
       "width": 360
      },
      "text/plain": {
       "height": 240,
       "width": 360
      }
     },
     "output_type": "display_data"
    }
   ],
   "source": [
    "ggplot(barrio_sol,aes(x=MetrosCuadrados))+geom_density(bw=5)"
   ]
  },
  {
   "cell_type": "markdown",
   "metadata": {},
   "source": [
    "Una vez que hayamos filtrado los datos correspondientes calcular el valor o la combinación de valores que mejor nos permite obtener el precio de un inmueble."
   ]
  },
  {
   "cell_type": "code",
   "execution_count": 38,
   "metadata": {},
   "outputs": [
    {
     "data": {
      "text/html": [
       "33"
      ],
      "text/latex": [
       "33"
      ],
      "text/markdown": [
       "33"
      ],
      "text/plain": [
       "[1] 33"
      ]
     },
     "metadata": {},
     "output_type": "display_data"
    }
   ],
   "source": [
    "#Selecciono los apartamentos con más de 20 m²\n",
    "barrio_sol<-subset(barrio_sol, MetrosCuadrados>20)\n",
    "nrow(barrio_sol)"
   ]
  },
  {
   "cell_type": "markdown",
   "metadata": {},
   "source": [
    "¿Que variable es más fiable para conocer el precio de un inmueble, el número de habitaciones o los metros cuadrados?"
   ]
  },
  {
   "cell_type": "code",
   "execution_count": 39,
   "metadata": {},
   "outputs": [
    {
     "data": {
      "text/plain": [
       "\n",
       "Call:\n",
       "lm(formula = Precio ~ NumBanyos + NumDormitorios + MetrosCuadrados + \n",
       "    MaxOcupantes, data = barrio_sol)\n",
       "\n",
       "Residuals:\n",
       "    Min      1Q  Median      3Q     Max \n",
       "-78.276 -15.432  -5.095  19.767  68.926 \n",
       "\n",
       "Coefficients:\n",
       "                Estimate Std. Error t value Pr(>|t|)   \n",
       "(Intercept)      31.2243    14.4988   2.154  0.04003 * \n",
       "NumBanyos         1.3061    15.1351   0.086  0.93185   \n",
       "NumDormitorios   29.5746     9.1284   3.240  0.00308 **\n",
       "MetrosCuadrados   0.1836     0.2225   0.825  0.41611   \n",
       "MaxOcupantes      2.1814     4.6800   0.466  0.64474   \n",
       "---\n",
       "Signif. codes:  0 ‘***’ 0.001 ‘**’ 0.01 ‘*’ 0.05 ‘.’ 0.1 ‘ ’ 1\n",
       "\n",
       "Residual standard error: 32.23 on 28 degrees of freedom\n",
       "Multiple R-squared:  0.7507,\tAdjusted R-squared:  0.7151 \n",
       "F-statistic: 21.08 on 4 and 28 DF,  p-value: 4.129e-08\n"
      ]
     },
     "metadata": {},
     "output_type": "display_data"
    }
   ],
   "source": [
    "modelo_0<-lm(barrio_sol,formula=Precio~NumBanyos+NumDormitorios+MetrosCuadrados+MaxOcupantes)\n",
    "summary(modelo_0)"
   ]
  },
  {
   "cell_type": "code",
   "execution_count": 40,
   "metadata": {},
   "outputs": [
    {
     "data": {
      "text/plain": [
       "\n",
       "Call:\n",
       "lm(formula = Precio ~ NumDormitorios, data = barrio_sol)\n",
       "\n",
       "Residuals:\n",
       "    Min      1Q  Median      3Q     Max \n",
       "-89.214 -17.652  -5.652  18.457  61.786 \n",
       "\n",
       "Coefficients:\n",
       "               Estimate Std. Error t value Pr(>|t|)    \n",
       "(Intercept)      43.762      8.919   4.907 2.80e-05 ***\n",
       "NumDormitorios   38.890      4.156   9.359 1.52e-10 ***\n",
       "---\n",
       "Signif. codes:  0 ‘***’ 0.001 ‘**’ 0.01 ‘*’ 0.05 ‘.’ 0.1 ‘ ’ 1\n",
       "\n",
       "Residual standard error: 31.37 on 31 degrees of freedom\n",
       "Multiple R-squared:  0.7386,\tAdjusted R-squared:  0.7302 \n",
       "F-statistic: 87.58 on 1 and 31 DF,  p-value: 1.523e-10\n"
      ]
     },
     "metadata": {},
     "output_type": "display_data"
    }
   ],
   "source": [
    "modelo_1<-lm(barrio_sol,formula=Precio~NumDormitorios)\n",
    "summary(modelo_1)"
   ]
  },
  {
   "cell_type": "code",
   "execution_count": 41,
   "metadata": {},
   "outputs": [
    {
     "data": {
      "text/plain": [
       "\n",
       "Call:\n",
       "lm(formula = Precio ~ MetrosCuadrados, data = barrio_sol)\n",
       "\n",
       "Residuals:\n",
       "    Min      1Q  Median      3Q     Max \n",
       "-65.388 -21.792  -0.115  10.642 121.693 \n",
       "\n",
       "Coefficients:\n",
       "                Estimate Std. Error t value Pr(>|t|)    \n",
       "(Intercept)      29.5861    14.1142   2.096   0.0443 *  \n",
       "MetrosCuadrados   0.9912     0.1520   6.521 2.81e-07 ***\n",
       "---\n",
       "Signif. codes:  0 ‘***’ 0.001 ‘**’ 0.01 ‘*’ 0.05 ‘.’ 0.1 ‘ ’ 1\n",
       "\n",
       "Residual standard error: 39.83 on 31 degrees of freedom\n",
       "Multiple R-squared:  0.5784,\tAdjusted R-squared:  0.5648 \n",
       "F-statistic: 42.53 on 1 and 31 DF,  p-value: 2.809e-07\n"
      ]
     },
     "metadata": {},
     "output_type": "display_data"
    }
   ],
   "source": [
    "modelo_2<-lm(barrio_sol,formula=Precio~MetrosCuadrados)\n",
    "summary(modelo_2)"
   ]
  },
  {
   "cell_type": "code",
   "execution_count": 42,
   "metadata": {},
   "outputs": [
    {
     "data": {
      "text/plain": [
       "\n",
       "Call:\n",
       "lm(formula = Precio ~ NumDormitorios + MetrosCuadrados, data = barrio_sol)\n",
       "\n",
       "Residuals:\n",
       "    Min      1Q  Median      3Q     Max \n",
       "-87.019 -16.614  -1.743  20.521  66.975 \n",
       "\n",
       "Coefficients:\n",
       "                Estimate Std. Error t value Pr(>|t|)    \n",
       "(Intercept)      37.3505    11.2732   3.313  0.00241 ** \n",
       "NumDormitorios   33.1291     7.4476   4.448  0.00011 ***\n",
       "MetrosCuadrados   0.2001     0.2145   0.933  0.35824    \n",
       "---\n",
       "Signif. codes:  0 ‘***’ 0.001 ‘**’ 0.01 ‘*’ 0.05 ‘.’ 0.1 ‘ ’ 1\n",
       "\n",
       "Residual standard error: 31.43 on 30 degrees of freedom\n",
       "Multiple R-squared:  0.746,\tAdjusted R-squared:  0.729 \n",
       "F-statistic: 44.04 on 2 and 30 DF,  p-value: 1.185e-09\n"
      ]
     },
     "metadata": {},
     "output_type": "display_data"
    }
   ],
   "source": [
    "modelo_3<-lm(barrio_sol,formula=Precio~NumDormitorios+MetrosCuadrados)\n",
    "summary(modelo_3)"
   ]
  },
  {
   "cell_type": "markdown",
   "metadata": {},
   "source": [
    "Responde con su correspondiente margen de error del 95%, ¿cuantos euros incrementa el precio del alquiler por cada metro cuadrado extra del piso?"
   ]
  },
  {
   "cell_type": "code",
   "execution_count": 43,
   "metadata": {},
   "outputs": [
    {
     "data": {
      "text/html": [
       "<style>\n",
       ".dl-inline {width: auto; margin:0; padding: 0}\n",
       ".dl-inline>dt, .dl-inline>dd {float: none; width: auto; display: inline-block}\n",
       ".dl-inline>dt::after {content: \":\\0020\"; padding-right: .5ex}\n",
       ".dl-inline>dt:not(:first-of-type) {padding-left: .5ex}\n",
       "</style><dl class=dl-inline><dt>2.5 %</dt><dd>0.681221782432289</dd><dt>97.5 %</dt><dd>1.30121036517067</dd></dl>\n"
      ],
      "text/latex": [
       "\\begin{description*}\n",
       "\\item[2.5 \\textbackslash{}\\%] 0.681221782432289\n",
       "\\item[97.5 \\textbackslash{}\\%] 1.30121036517067\n",
       "\\end{description*}\n"
      ],
      "text/markdown": [
       "2.5 %\n",
       ":   0.68122178243228997.5 %\n",
       ":   1.30121036517067\n",
       "\n"
      ],
      "text/plain": [
       "    2.5 %    97.5 % \n",
       "0.6812218 1.3012104 "
      ]
     },
     "metadata": {},
     "output_type": "display_data"
    }
   ],
   "source": [
    "modelo_MC<-lm(barrio_sol,formula=Precio~MetrosCuadrados)\n",
    "confint(modelo_MC)[\"MetrosCuadrados\",]"
   ]
  },
  {
   "cell_type": "markdown",
   "metadata": {},
   "source": [
    "Responde con su correspondiente margen de error del 95%, ¿cuantos euros incrementa el precio del alquiler por cada habitación?"
   ]
  },
  {
   "cell_type": "code",
   "execution_count": 44,
   "metadata": {},
   "outputs": [
    {
     "data": {
      "text/html": [
       "<style>\n",
       ".dl-inline {width: auto; margin:0; padding: 0}\n",
       ".dl-inline>dt, .dl-inline>dd {float: none; width: auto; display: inline-block}\n",
       ".dl-inline>dt::after {content: \":\\0020\"; padding-right: .5ex}\n",
       ".dl-inline>dt:not(:first-of-type) {padding-left: .5ex}\n",
       "</style><dl class=dl-inline><dt>2.5 %</dt><dd>30.4151268432982</dd><dt>97.5 %</dt><dd>47.3657242205315</dd></dl>\n"
      ],
      "text/latex": [
       "\\begin{description*}\n",
       "\\item[2.5 \\textbackslash{}\\%] 30.4151268432982\n",
       "\\item[97.5 \\textbackslash{}\\%] 47.3657242205315\n",
       "\\end{description*}\n"
      ],
      "text/markdown": [
       "2.5 %\n",
       ":   30.415126843298297.5 %\n",
       ":   47.3657242205315\n",
       "\n"
      ],
      "text/plain": [
       "   2.5 %   97.5 % \n",
       "30.41513 47.36572 "
      ]
     },
     "metadata": {},
     "output_type": "display_data"
    }
   ],
   "source": [
    "modelo_ND<-lm(barrio_sol,formula=Precio~NumDormitorios)\n",
    "confint(modelo_ND)[\"NumDormitorios\",]"
   ]
  },
  {
   "cell_type": "markdown",
   "metadata": {},
   "source": [
    "¿Cual es la probabilidad de encontrar, en el barrio de Sol, un apartamento en alquiler con 3 dormitorios?\n",
    "¿Cual es el margen de error de esa probabilidad?"
   ]
  },
  {
   "cell_type": "code",
   "execution_count": 45,
   "metadata": {},
   "outputs": [
    {
     "name": "stdout",
     "output_type": "stream",
     "text": [
      "[1] \"La probabilidad de encontrar un apartamento de 3 dormitorios es: 0.0909090909090909\"\n",
      "[1] \"El margen de confianza es: \"\n"
     ]
    },
    {
     "data": {
      "text/html": [
       "<style>\n",
       ".list-inline {list-style: none; margin:0; padding: 0}\n",
       ".list-inline>li {display: inline-block}\n",
       ".list-inline>li:not(:last-child)::after {content: \"\\00b7\"; padding: 0 .5ex}\n",
       "</style>\n",
       "<ol class=list-inline><li>0.0191549429874049</li><li>0.243316350759155</li></ol>\n"
      ],
      "text/latex": [
       "\\begin{enumerate*}\n",
       "\\item 0.0191549429874049\n",
       "\\item 0.243316350759155\n",
       "\\end{enumerate*}\n"
      ],
      "text/markdown": [
       "1. 0.0191549429874049\n",
       "2. 0.243316350759155\n",
       "\n",
       "\n"
      ],
      "text/plain": [
       "[1] 0.01915494 0.24331635\n",
       "attr(,\"conf.level\")\n",
       "[1] 0.95"
      ]
     },
     "metadata": {},
     "output_type": "display_data"
    }
   ],
   "source": [
    "dormitorios3<-sum(barrio_sol$NumDormitorios==3)\n",
    "total_3dormitorios<-nrow(barrio_sol)\n",
    "print(paste(\"La probabilidad de encontrar un apartamento de 3 dormitorios es:\",dormitorios3/total_3dormitorios))\n",
    "print(\"El margen de confianza es: \")\n",
    "binom.test(dormitorios3,total_3dormitorios)$conf"
   ]
  },
  {
   "cell_type": "code",
   "execution_count": null,
   "metadata": {},
   "outputs": [],
   "source": []
  }
 ],
 "metadata": {
  "kernelspec": {
   "display_name": "R",
   "language": "R",
   "name": "ir"
  },
  "language_info": {
   "codemirror_mode": "r",
   "file_extension": ".r",
   "mimetype": "text/x-r-source",
   "name": "R",
   "pygments_lexer": "r",
   "version": "3.6.0"
  }
 },
 "nbformat": 4,
 "nbformat_minor": 2
}
